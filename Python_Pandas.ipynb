{
  "nbformat": 4,
  "nbformat_minor": 0,
  "metadata": {
    "colab": {
      "provenance": [],
      "collapsed_sections": [
        "i3G33w5rMQ7R",
        "P7ZgQjuGMaT9",
        "Ok9Tr6mNPk_V"
      ]
    },
    "kernelspec": {
      "name": "python3",
      "display_name": "Python 3"
    },
    "language_info": {
      "name": "python"
    }
  },
  "cells": [
    {
      "cell_type": "markdown",
      "source": [
        "# **1. Pandas**"
      ],
      "metadata": {
        "id": "i3G33w5rMQ7R"
      }
    },
    {
      "cell_type": "markdown",
      "source": [
        "Pandas es una de las bibliotecas más utilizadas en Python para el análisis de datos. Ofrece estructuras de datos flexibles y eficientes, así como herramientas de manipulación y análisis de datos que son fundamentales para cualquier científico de datos. A continuación, una breve introducción a Pandas y sus puntos clave:\n",
        "\n",
        "Fue creado por Wes McKinney y se basa en la biblioteca NumPy. Pandas se utiliza comúnmente para trabajar con datos estructurados, como hojas de cálculo, bases de datos relacionales y datos en formato CSV."
      ],
      "metadata": {
        "id": "tVWTJfIcMagP"
      }
    },
    {
      "cell_type": "markdown",
      "source": [
        "**1.1. Puntos clave de Pandas:**"
      ],
      "metadata": {
        "id": "hg2j6ilnMabw"
      }
    },
    {
      "cell_type": "markdown",
      "source": [
        "**1. Estructuras de datos:** Pandas ofrece dos estructuras de datos principales: Series y DataFrames.\n",
        "\n",
        "*  **Series:** Una Serie es un arreglo unidimensional etiquetado que puede contener cualquier tipo de dato. Cada elemento de una Serie tiene una etiqueta, que se llama índice.\n",
        "*  **DataFrames:** Un DataFrame es una estructura de datos bidimensional que se asemeja a una tabla de una base de datos o una hoja de cálculo de Excel. Consiste en filas y columnas, donde cada columna puede ser una Serie. Los DataFrames son ideales para representar y manipular datos tabulares.\n",
        "\n",
        "**2. Lectura y escritura de datos:** Pandas facilita la lectura y escritura de datos en diversos formatos, como CSV, Excel, SQL, JSON y más. Puedes cargar datos en un DataFrame para su análisis y guardar los resultados en diferentes formatos.\n",
        "\n",
        "**3. Indexación y selección:** Pandas ofrece una amplia variedad de métodos para indexar y seleccionar datos de Series y DataFrames. Puedes acceder a filas y columnas utilizando etiquetas, índices enteros, condiciones booleanas, entre otros.\n",
        "\n",
        "**4. Limpieza y transformación de datos:** Pandas proporciona herramientas para limpiar y transformar datos, como eliminar valores nulos, cambiar tipos de datos, fusionar DataFrames, aplicar funciones a columnas y más.\n",
        "\n",
        "**5. Análisis y visualización de datos:** Pandas es compatible con operaciones estadísticas y de agregación, lo que facilita el análisis de datos. Además, puedes integrar Pandas con bibliotecas de visualización como Matplotlib y Seaborn para crear gráficos y visualizaciones de datos.\n",
        "\n",
        "**6. Manipulación de series temporales:** Pandas es muy útil en el análisis de series temporales, ya que ofrece herramientas para manipular y analizar datos con marcas de tiempo.\n",
        "\n",
        "**7. Eficiencia:** Pandas está diseñado para ser eficiente en el manejo de grandes conjuntos de datos. Utiliza NumPy subyacentemente para operaciones numéricas, lo que acelera el procesamiento de datos.\n",
        "\n",
        "**8. Documentación y comunidad:** Pandas tiene una documentación exhaustiva y una comunidad activa de usuarios y desarrolladores. Esto facilita la búsqueda de soluciones a problemas y la mejora de tus habilidades en el uso de la biblioteca."
      ],
      "metadata": {
        "id": "yzZPf5SIMaX5"
      }
    },
    {
      "cell_type": "markdown",
      "source": [
        "# **2. Importacion de Datos en Pandas**"
      ],
      "metadata": {
        "id": "P7ZgQjuGMaT9"
      }
    },
    {
      "cell_type": "markdown",
      "source": [
        "La importación de datos es un paso crucial en cualquier análisis de datos utilizando Pandas. En este capítulo, te explicaré la importancia de la importación de datos, cómo cargar datos en Pandas desde diversas fuentes y cómo entender la estructura de los datos importados."
      ],
      "metadata": {
        "id": "c3d23tq1MaQF"
      }
    },
    {
      "cell_type": "markdown",
      "source": [
        "**1.1 Por qué es importante la importación de datos**"
      ],
      "metadata": {
        "id": "OI-FJwzfOK8n"
      }
    },
    {
      "cell_type": "markdown",
      "source": [
        "La calidad y precisión de los datos con los que trabajas son fundamentales para el éxito de tu análisis. Importar datos correctamente implica:\n",
        "\n",
        "* Garantizar que los datos se carguen de manera precisa y completa.\n",
        "* Manejar diferentes tipos de archivos (CSV, Excel, JSON, SQL, etc.).\n",
        "* Lidiar con datos faltantes, valores atípicos y errores de formato"
      ],
      "metadata": {
        "id": "AZZfF67hOK47"
      }
    },
    {
      "cell_type": "markdown",
      "source": [
        "**1.2 Fuentes de datos comunes**"
      ],
      "metadata": {
        "id": "cBZFKE2qOK1F"
      }
    },
    {
      "cell_type": "markdown",
      "source": [
        "Pandas puede importar datos desde una amplia variedad de fuentes, entre las que se incluyen:\n",
        "\n",
        "* Archivos locales (CSV, Excel, JSON, etc.).\n",
        "* Bases de datos SQL.\n",
        "* Datos en línea (a través de URL).\n",
        "* Datos de hojas de cálculo de Google.\n",
        "* Y muchas otras fuentes."
      ],
      "metadata": {
        "id": "X5xWInp_OKxZ"
      }
    },
    {
      "cell_type": "markdown",
      "source": [
        "**1.3 Importación de datos en Pandas**"
      ],
      "metadata": {
        "id": "JB21R4JLOKs7"
      }
    },
    {
      "cell_type": "markdown",
      "source": [
        "Aprenderás cómo cargar datos utilizando funciones como **read_csv, read_excel, read_sql,** y más. Cada función tiene opciones para personalizar la importación de datos según tus necesidades."
      ],
      "metadata": {
        "id": "HbqtdKdgMaLK"
      }
    },
    {
      "cell_type": "markdown",
      "source": [
        "**1. Importación de datos desde un archivo CSV:**"
      ],
      "metadata": {
        "id": "qB8fu6-qPZbV"
      }
    },
    {
      "cell_type": "code",
      "source": [
        "'''\n",
        "import pandas as pd\n",
        "\n",
        "Cargar datos desde un archivo CSV\n",
        "df_csv = pd.read_csv('archivo.csv')\n",
        "'''"
      ],
      "metadata": {
        "colab": {
          "base_uri": "https://localhost:8080/",
          "height": 0
        },
        "id": "GuKBJKRSMbdY",
        "outputId": "99cccf74-57d3-4c89-96f9-f38840138523"
      },
      "execution_count": 117,
      "outputs": [
        {
          "output_type": "execute_result",
          "data": {
            "text/plain": [
              "\"\\nimport pandas as pd\\n\\nCargar datos desde un archivo CSV\\ndf_csv = pd.read_csv('archivo.csv')\\n\""
            ],
            "application/vnd.google.colaboratory.intrinsic+json": {
              "type": "string"
            }
          },
          "metadata": {},
          "execution_count": 117
        }
      ]
    },
    {
      "cell_type": "code",
      "source": [
        "import pandas as pd\n",
        "pd.set_option('display.max_rows', 10)\n",
        "pd.set_option('display.max_columns', 10)\n",
        "\n",
        "df_csv = pd.read_csv('alquiler.csv', sep = ';')\n",
        "df_csv"
      ],
      "metadata": {
        "colab": {
          "base_uri": "https://localhost:8080/",
          "height": 0
        },
        "id": "w4JRoIKGCNxd",
        "outputId": "b0c86295-0009-4030-bf6e-0d3608ea873a"
      },
      "execution_count": 118,
      "outputs": [
        {
          "output_type": "execute_result",
          "data": {
            "text/plain": [
              "                  Tipo    Distrito  Cuartos  Vacantes  Suites  Area   Valor  \\\n",
              "0           Habitación   San Borja        1         0       0    40  1700.0   \n",
              "1                 Casa  Lurigancho        2         0       1   100  7000.0   \n",
              "2      Local comercial         Ate        0         4       0   150  5200.0   \n",
              "3         Departamento  Pachacámac        1         0       0    15   800.0   \n",
              "4         Departamento         Ate        1         0       0    48   800.0   \n",
              "...                ...         ...      ...       ...     ...   ...     ...   \n",
              "32955       Habitación  Pachacámac        0         0       0    27   800.0   \n",
              "32956     Departamento       Lince        3         1       2    78  1800.0   \n",
              "32957     Departamento       Rímac        2         1       0    48  1400.0   \n",
              "32958     Departamento       Rímac        2         0       0    70  3000.0   \n",
              "32959  Local comercial  Pachacámac        0         0       0   250  6500.0   \n",
              "\n",
              "       Mantenimiento  Impuesto  \n",
              "0              500.0      60.0  \n",
              "1                NaN       NaN  \n",
              "2             4020.0    1111.0  \n",
              "3              390.0      20.0  \n",
              "4              230.0       NaN  \n",
              "...              ...       ...  \n",
              "32955          350.0      25.0  \n",
              "32956          800.0      40.0  \n",
              "32957          509.0      37.0  \n",
              "32958          760.0       NaN  \n",
              "32959         4206.0    1109.0  \n",
              "\n",
              "[32960 rows x 9 columns]"
            ],
            "text/html": [
              "\n",
              "  <div id=\"df-4da6c5f2-b55d-4b25-beb8-dcb584f0b4e9\" class=\"colab-df-container\">\n",
              "    <div>\n",
              "<style scoped>\n",
              "    .dataframe tbody tr th:only-of-type {\n",
              "        vertical-align: middle;\n",
              "    }\n",
              "\n",
              "    .dataframe tbody tr th {\n",
              "        vertical-align: top;\n",
              "    }\n",
              "\n",
              "    .dataframe thead th {\n",
              "        text-align: right;\n",
              "    }\n",
              "</style>\n",
              "<table border=\"1\" class=\"dataframe\">\n",
              "  <thead>\n",
              "    <tr style=\"text-align: right;\">\n",
              "      <th></th>\n",
              "      <th>Tipo</th>\n",
              "      <th>Distrito</th>\n",
              "      <th>Cuartos</th>\n",
              "      <th>Vacantes</th>\n",
              "      <th>Suites</th>\n",
              "      <th>Area</th>\n",
              "      <th>Valor</th>\n",
              "      <th>Mantenimiento</th>\n",
              "      <th>Impuesto</th>\n",
              "    </tr>\n",
              "  </thead>\n",
              "  <tbody>\n",
              "    <tr>\n",
              "      <th>0</th>\n",
              "      <td>Habitación</td>\n",
              "      <td>San Borja</td>\n",
              "      <td>1</td>\n",
              "      <td>0</td>\n",
              "      <td>0</td>\n",
              "      <td>40</td>\n",
              "      <td>1700.0</td>\n",
              "      <td>500.0</td>\n",
              "      <td>60.0</td>\n",
              "    </tr>\n",
              "    <tr>\n",
              "      <th>1</th>\n",
              "      <td>Casa</td>\n",
              "      <td>Lurigancho</td>\n",
              "      <td>2</td>\n",
              "      <td>0</td>\n",
              "      <td>1</td>\n",
              "      <td>100</td>\n",
              "      <td>7000.0</td>\n",
              "      <td>NaN</td>\n",
              "      <td>NaN</td>\n",
              "    </tr>\n",
              "    <tr>\n",
              "      <th>2</th>\n",
              "      <td>Local comercial</td>\n",
              "      <td>Ate</td>\n",
              "      <td>0</td>\n",
              "      <td>4</td>\n",
              "      <td>0</td>\n",
              "      <td>150</td>\n",
              "      <td>5200.0</td>\n",
              "      <td>4020.0</td>\n",
              "      <td>1111.0</td>\n",
              "    </tr>\n",
              "    <tr>\n",
              "      <th>3</th>\n",
              "      <td>Departamento</td>\n",
              "      <td>Pachacámac</td>\n",
              "      <td>1</td>\n",
              "      <td>0</td>\n",
              "      <td>0</td>\n",
              "      <td>15</td>\n",
              "      <td>800.0</td>\n",
              "      <td>390.0</td>\n",
              "      <td>20.0</td>\n",
              "    </tr>\n",
              "    <tr>\n",
              "      <th>4</th>\n",
              "      <td>Departamento</td>\n",
              "      <td>Ate</td>\n",
              "      <td>1</td>\n",
              "      <td>0</td>\n",
              "      <td>0</td>\n",
              "      <td>48</td>\n",
              "      <td>800.0</td>\n",
              "      <td>230.0</td>\n",
              "      <td>NaN</td>\n",
              "    </tr>\n",
              "    <tr>\n",
              "      <th>...</th>\n",
              "      <td>...</td>\n",
              "      <td>...</td>\n",
              "      <td>...</td>\n",
              "      <td>...</td>\n",
              "      <td>...</td>\n",
              "      <td>...</td>\n",
              "      <td>...</td>\n",
              "      <td>...</td>\n",
              "      <td>...</td>\n",
              "    </tr>\n",
              "    <tr>\n",
              "      <th>32955</th>\n",
              "      <td>Habitación</td>\n",
              "      <td>Pachacámac</td>\n",
              "      <td>0</td>\n",
              "      <td>0</td>\n",
              "      <td>0</td>\n",
              "      <td>27</td>\n",
              "      <td>800.0</td>\n",
              "      <td>350.0</td>\n",
              "      <td>25.0</td>\n",
              "    </tr>\n",
              "    <tr>\n",
              "      <th>32956</th>\n",
              "      <td>Departamento</td>\n",
              "      <td>Lince</td>\n",
              "      <td>3</td>\n",
              "      <td>1</td>\n",
              "      <td>2</td>\n",
              "      <td>78</td>\n",
              "      <td>1800.0</td>\n",
              "      <td>800.0</td>\n",
              "      <td>40.0</td>\n",
              "    </tr>\n",
              "    <tr>\n",
              "      <th>32957</th>\n",
              "      <td>Departamento</td>\n",
              "      <td>Rímac</td>\n",
              "      <td>2</td>\n",
              "      <td>1</td>\n",
              "      <td>0</td>\n",
              "      <td>48</td>\n",
              "      <td>1400.0</td>\n",
              "      <td>509.0</td>\n",
              "      <td>37.0</td>\n",
              "    </tr>\n",
              "    <tr>\n",
              "      <th>32958</th>\n",
              "      <td>Departamento</td>\n",
              "      <td>Rímac</td>\n",
              "      <td>2</td>\n",
              "      <td>0</td>\n",
              "      <td>0</td>\n",
              "      <td>70</td>\n",
              "      <td>3000.0</td>\n",
              "      <td>760.0</td>\n",
              "      <td>NaN</td>\n",
              "    </tr>\n",
              "    <tr>\n",
              "      <th>32959</th>\n",
              "      <td>Local comercial</td>\n",
              "      <td>Pachacámac</td>\n",
              "      <td>0</td>\n",
              "      <td>0</td>\n",
              "      <td>0</td>\n",
              "      <td>250</td>\n",
              "      <td>6500.0</td>\n",
              "      <td>4206.0</td>\n",
              "      <td>1109.0</td>\n",
              "    </tr>\n",
              "  </tbody>\n",
              "</table>\n",
              "<p>32960 rows × 9 columns</p>\n",
              "</div>\n",
              "    <div class=\"colab-df-buttons\">\n",
              "\n",
              "  <div class=\"colab-df-container\">\n",
              "    <button class=\"colab-df-convert\" onclick=\"convertToInteractive('df-4da6c5f2-b55d-4b25-beb8-dcb584f0b4e9')\"\n",
              "            title=\"Convert this dataframe to an interactive table.\"\n",
              "            style=\"display:none;\">\n",
              "\n",
              "  <svg xmlns=\"http://www.w3.org/2000/svg\" height=\"24px\" viewBox=\"0 -960 960 960\">\n",
              "    <path d=\"M120-120v-720h720v720H120Zm60-500h600v-160H180v160Zm220 220h160v-160H400v160Zm0 220h160v-160H400v160ZM180-400h160v-160H180v160Zm440 0h160v-160H620v160ZM180-180h160v-160H180v160Zm440 0h160v-160H620v160Z\"/>\n",
              "  </svg>\n",
              "    </button>\n",
              "\n",
              "  <style>\n",
              "    .colab-df-container {\n",
              "      display:flex;\n",
              "      gap: 12px;\n",
              "    }\n",
              "\n",
              "    .colab-df-convert {\n",
              "      background-color: #E8F0FE;\n",
              "      border: none;\n",
              "      border-radius: 50%;\n",
              "      cursor: pointer;\n",
              "      display: none;\n",
              "      fill: #1967D2;\n",
              "      height: 32px;\n",
              "      padding: 0 0 0 0;\n",
              "      width: 32px;\n",
              "    }\n",
              "\n",
              "    .colab-df-convert:hover {\n",
              "      background-color: #E2EBFA;\n",
              "      box-shadow: 0px 1px 2px rgba(60, 64, 67, 0.3), 0px 1px 3px 1px rgba(60, 64, 67, 0.15);\n",
              "      fill: #174EA6;\n",
              "    }\n",
              "\n",
              "    .colab-df-buttons div {\n",
              "      margin-bottom: 4px;\n",
              "    }\n",
              "\n",
              "    [theme=dark] .colab-df-convert {\n",
              "      background-color: #3B4455;\n",
              "      fill: #D2E3FC;\n",
              "    }\n",
              "\n",
              "    [theme=dark] .colab-df-convert:hover {\n",
              "      background-color: #434B5C;\n",
              "      box-shadow: 0px 1px 3px 1px rgba(0, 0, 0, 0.15);\n",
              "      filter: drop-shadow(0px 1px 2px rgba(0, 0, 0, 0.3));\n",
              "      fill: #FFFFFF;\n",
              "    }\n",
              "  </style>\n",
              "\n",
              "    <script>\n",
              "      const buttonEl =\n",
              "        document.querySelector('#df-4da6c5f2-b55d-4b25-beb8-dcb584f0b4e9 button.colab-df-convert');\n",
              "      buttonEl.style.display =\n",
              "        google.colab.kernel.accessAllowed ? 'block' : 'none';\n",
              "\n",
              "      async function convertToInteractive(key) {\n",
              "        const element = document.querySelector('#df-4da6c5f2-b55d-4b25-beb8-dcb584f0b4e9');\n",
              "        const dataTable =\n",
              "          await google.colab.kernel.invokeFunction('convertToInteractive',\n",
              "                                                    [key], {});\n",
              "        if (!dataTable) return;\n",
              "\n",
              "        const docLinkHtml = 'Like what you see? Visit the ' +\n",
              "          '<a target=\"_blank\" href=https://colab.research.google.com/notebooks/data_table.ipynb>data table notebook</a>'\n",
              "          + ' to learn more about interactive tables.';\n",
              "        element.innerHTML = '';\n",
              "        dataTable['output_type'] = 'display_data';\n",
              "        await google.colab.output.renderOutput(dataTable, element);\n",
              "        const docLink = document.createElement('div');\n",
              "        docLink.innerHTML = docLinkHtml;\n",
              "        element.appendChild(docLink);\n",
              "      }\n",
              "    </script>\n",
              "  </div>\n",
              "\n",
              "\n",
              "<div id=\"df-03e9c626-ad88-4ab6-8b6d-6758d6c36266\">\n",
              "  <button class=\"colab-df-quickchart\" onclick=\"quickchart('df-03e9c626-ad88-4ab6-8b6d-6758d6c36266')\"\n",
              "            title=\"Suggest charts.\"\n",
              "            style=\"display:none;\">\n",
              "\n",
              "<svg xmlns=\"http://www.w3.org/2000/svg\" height=\"24px\"viewBox=\"0 0 24 24\"\n",
              "     width=\"24px\">\n",
              "    <g>\n",
              "        <path d=\"M19 3H5c-1.1 0-2 .9-2 2v14c0 1.1.9 2 2 2h14c1.1 0 2-.9 2-2V5c0-1.1-.9-2-2-2zM9 17H7v-7h2v7zm4 0h-2V7h2v10zm4 0h-2v-4h2v4z\"/>\n",
              "    </g>\n",
              "</svg>\n",
              "  </button>\n",
              "\n",
              "<style>\n",
              "  .colab-df-quickchart {\n",
              "      --bg-color: #E8F0FE;\n",
              "      --fill-color: #1967D2;\n",
              "      --hover-bg-color: #E2EBFA;\n",
              "      --hover-fill-color: #174EA6;\n",
              "      --disabled-fill-color: #AAA;\n",
              "      --disabled-bg-color: #DDD;\n",
              "  }\n",
              "\n",
              "  [theme=dark] .colab-df-quickchart {\n",
              "      --bg-color: #3B4455;\n",
              "      --fill-color: #D2E3FC;\n",
              "      --hover-bg-color: #434B5C;\n",
              "      --hover-fill-color: #FFFFFF;\n",
              "      --disabled-bg-color: #3B4455;\n",
              "      --disabled-fill-color: #666;\n",
              "  }\n",
              "\n",
              "  .colab-df-quickchart {\n",
              "    background-color: var(--bg-color);\n",
              "    border: none;\n",
              "    border-radius: 50%;\n",
              "    cursor: pointer;\n",
              "    display: none;\n",
              "    fill: var(--fill-color);\n",
              "    height: 32px;\n",
              "    padding: 0;\n",
              "    width: 32px;\n",
              "  }\n",
              "\n",
              "  .colab-df-quickchart:hover {\n",
              "    background-color: var(--hover-bg-color);\n",
              "    box-shadow: 0 1px 2px rgba(60, 64, 67, 0.3), 0 1px 3px 1px rgba(60, 64, 67, 0.15);\n",
              "    fill: var(--button-hover-fill-color);\n",
              "  }\n",
              "\n",
              "  .colab-df-quickchart-complete:disabled,\n",
              "  .colab-df-quickchart-complete:disabled:hover {\n",
              "    background-color: var(--disabled-bg-color);\n",
              "    fill: var(--disabled-fill-color);\n",
              "    box-shadow: none;\n",
              "  }\n",
              "\n",
              "  .colab-df-spinner {\n",
              "    border: 2px solid var(--fill-color);\n",
              "    border-color: transparent;\n",
              "    border-bottom-color: var(--fill-color);\n",
              "    animation:\n",
              "      spin 1s steps(1) infinite;\n",
              "  }\n",
              "\n",
              "  @keyframes spin {\n",
              "    0% {\n",
              "      border-color: transparent;\n",
              "      border-bottom-color: var(--fill-color);\n",
              "      border-left-color: var(--fill-color);\n",
              "    }\n",
              "    20% {\n",
              "      border-color: transparent;\n",
              "      border-left-color: var(--fill-color);\n",
              "      border-top-color: var(--fill-color);\n",
              "    }\n",
              "    30% {\n",
              "      border-color: transparent;\n",
              "      border-left-color: var(--fill-color);\n",
              "      border-top-color: var(--fill-color);\n",
              "      border-right-color: var(--fill-color);\n",
              "    }\n",
              "    40% {\n",
              "      border-color: transparent;\n",
              "      border-right-color: var(--fill-color);\n",
              "      border-top-color: var(--fill-color);\n",
              "    }\n",
              "    60% {\n",
              "      border-color: transparent;\n",
              "      border-right-color: var(--fill-color);\n",
              "    }\n",
              "    80% {\n",
              "      border-color: transparent;\n",
              "      border-right-color: var(--fill-color);\n",
              "      border-bottom-color: var(--fill-color);\n",
              "    }\n",
              "    90% {\n",
              "      border-color: transparent;\n",
              "      border-bottom-color: var(--fill-color);\n",
              "    }\n",
              "  }\n",
              "</style>\n",
              "\n",
              "  <script>\n",
              "    async function quickchart(key) {\n",
              "      const quickchartButtonEl =\n",
              "        document.querySelector('#' + key + ' button');\n",
              "      quickchartButtonEl.disabled = true;  // To prevent multiple clicks.\n",
              "      quickchartButtonEl.classList.add('colab-df-spinner');\n",
              "      try {\n",
              "        const charts = await google.colab.kernel.invokeFunction(\n",
              "            'suggestCharts', [key], {});\n",
              "      } catch (error) {\n",
              "        console.error('Error during call to suggestCharts:', error);\n",
              "      }\n",
              "      quickchartButtonEl.classList.remove('colab-df-spinner');\n",
              "      quickchartButtonEl.classList.add('colab-df-quickchart-complete');\n",
              "    }\n",
              "    (() => {\n",
              "      let quickchartButtonEl =\n",
              "        document.querySelector('#df-03e9c626-ad88-4ab6-8b6d-6758d6c36266 button');\n",
              "      quickchartButtonEl.style.display =\n",
              "        google.colab.kernel.accessAllowed ? 'block' : 'none';\n",
              "    })();\n",
              "  </script>\n",
              "</div>\n",
              "    </div>\n",
              "  </div>\n"
            ]
          },
          "metadata": {},
          "execution_count": 118
        }
      ]
    },
    {
      "cell_type": "markdown",
      "source": [
        "Cuando importas datos en Pandas, el argumento **sep=';'** se utiliza para especificar el separador de campos en un archivo de datos, como un archivo CSV. El separador determina cómo se dividen los datos en columnas dentro de un archivo. En este caso, **sep=';'** indica que los campos en el archivo de datos se separan utilizando el punto y coma como delimitador en lugar del separador de coma estándar. Esto es útil cuando trabajas con archivos CSV o datos tabulares que utilizan el punto y coma como separador en lugar de la coma."
      ],
      "metadata": {
        "id": "9lI7FLY2COMB"
      }
    },
    {
      "cell_type": "markdown",
      "source": [
        "Respecto a las opciones **pd.set_option('display.max_rows', 10)** y **pd.set_option('display.max_columns', 10)**, estas líneas de código se utilizan para configurar cómo Pandas muestra los datos en la salida. Estas opciones controlan el número máximo de filas y columnas que se muestran al imprimir una Serie o DataFrame. Esto es especialmente útil cuando trabajas con conjuntos de datos grandes, ya que evita que se muestren todas las filas o columnas, lo que podría ser abrumador.\n",
        "\n",
        "* **pd.set_option('display.max_rows', 10):** Limita la visualización de filas a un máximo de 10. Si tienes un DataFrame con más de 10 filas, Pandas mostrará solo las primeras 10 y las últimas filas, lo que hace que la salida sea más manejable.\n",
        "\n",
        "* **pd.set_option('display.max_columns', 10):** Limita la visualización de columnas a un máximo de 10. Si tienes un DataFrame con más de 10 columnas, Pandas mostrará solo las primeras 10 y las últimas columnas."
      ],
      "metadata": {
        "id": "zaA0Zd6sCYJ2"
      }
    },
    {
      "cell_type": "markdown",
      "source": [
        "**2. Importación de datos desde un archivo Excel:**"
      ],
      "metadata": {
        "id": "9GMOTnF_PjLd"
      }
    },
    {
      "cell_type": "code",
      "source": [
        "'''\n",
        "import pandas as pd\n",
        "\n",
        "Cargar datos desde un archivo Excel\n",
        "df_excel = pd.read_excel('archivo.xlsx')\n",
        "'''"
      ],
      "metadata": {
        "colab": {
          "base_uri": "https://localhost:8080/",
          "height": 0
        },
        "id": "A5zqR-cHMcbH",
        "outputId": "15d4bb82-14ae-4675-a5fe-1f397ce22e16"
      },
      "execution_count": 119,
      "outputs": [
        {
          "output_type": "execute_result",
          "data": {
            "text/plain": [
              "\"\\nimport pandas as pd\\n\\nCargar datos desde un archivo Excel\\ndf_excel = pd.read_excel('archivo.xlsx')\\n\""
            ],
            "application/vnd.google.colaboratory.intrinsic+json": {
              "type": "string"
            }
          },
          "metadata": {},
          "execution_count": 119
        }
      ]
    },
    {
      "cell_type": "code",
      "source": [
        "datos_xlsx = pd.read_excel('alquiler.xlsx')\n",
        "datos_xlsx"
      ],
      "metadata": {
        "colab": {
          "base_uri": "https://localhost:8080/",
          "height": 0
        },
        "id": "a-vsGOdLDBUs",
        "outputId": "cd68b729-b914-4a23-e7af-2f77b3e2b86f"
      },
      "execution_count": 120,
      "outputs": [
        {
          "output_type": "execute_result",
          "data": {
            "text/plain": [
              "                 Tipo     Distrito  Cuartos  Vacantes  Suites  Area  Valor  \\\n",
              "0          Habitación    San Borja        1         0       0    40   1700   \n",
              "1                Casa   Lurigancho        2         0       1   100   7000   \n",
              "2     Local comercial          Ate        0         4       0   150   5200   \n",
              "3        Departamento   Pachacámac        1         0       0    15    800   \n",
              "4        Departamento          Ate        1         0       0    48    800   \n",
              "5        Departamento     Barranco        3         1       0    70   1200   \n",
              "6        Departamento        Comas        2         0       0    50   1300   \n",
              "7  Casa en condominio          Ate        5         4       5   750  22000   \n",
              "8  Casa en condominio  El Agustino        2         2       0    65   1000   \n",
              "9     Local comercial   Pachacámac        0         3       0   695  35000   \n",
              "\n",
              "   Mantenimiento  Impuesto  \n",
              "0          500.0      60.0  \n",
              "1            NaN       NaN  \n",
              "2         4020.0    1111.0  \n",
              "3          390.0      20.0  \n",
              "4          230.0       NaN  \n",
              "5            NaN       NaN  \n",
              "6          301.0      17.0  \n",
              "7            NaN       NaN  \n",
              "8            NaN       NaN  \n",
              "9        19193.0    3030.0  "
            ],
            "text/html": [
              "\n",
              "  <div id=\"df-5e3602c9-72a9-4a4b-8bb3-20c94715c9e1\" class=\"colab-df-container\">\n",
              "    <div>\n",
              "<style scoped>\n",
              "    .dataframe tbody tr th:only-of-type {\n",
              "        vertical-align: middle;\n",
              "    }\n",
              "\n",
              "    .dataframe tbody tr th {\n",
              "        vertical-align: top;\n",
              "    }\n",
              "\n",
              "    .dataframe thead th {\n",
              "        text-align: right;\n",
              "    }\n",
              "</style>\n",
              "<table border=\"1\" class=\"dataframe\">\n",
              "  <thead>\n",
              "    <tr style=\"text-align: right;\">\n",
              "      <th></th>\n",
              "      <th>Tipo</th>\n",
              "      <th>Distrito</th>\n",
              "      <th>Cuartos</th>\n",
              "      <th>Vacantes</th>\n",
              "      <th>Suites</th>\n",
              "      <th>Area</th>\n",
              "      <th>Valor</th>\n",
              "      <th>Mantenimiento</th>\n",
              "      <th>Impuesto</th>\n",
              "    </tr>\n",
              "  </thead>\n",
              "  <tbody>\n",
              "    <tr>\n",
              "      <th>0</th>\n",
              "      <td>Habitación</td>\n",
              "      <td>San Borja</td>\n",
              "      <td>1</td>\n",
              "      <td>0</td>\n",
              "      <td>0</td>\n",
              "      <td>40</td>\n",
              "      <td>1700</td>\n",
              "      <td>500.0</td>\n",
              "      <td>60.0</td>\n",
              "    </tr>\n",
              "    <tr>\n",
              "      <th>1</th>\n",
              "      <td>Casa</td>\n",
              "      <td>Lurigancho</td>\n",
              "      <td>2</td>\n",
              "      <td>0</td>\n",
              "      <td>1</td>\n",
              "      <td>100</td>\n",
              "      <td>7000</td>\n",
              "      <td>NaN</td>\n",
              "      <td>NaN</td>\n",
              "    </tr>\n",
              "    <tr>\n",
              "      <th>2</th>\n",
              "      <td>Local comercial</td>\n",
              "      <td>Ate</td>\n",
              "      <td>0</td>\n",
              "      <td>4</td>\n",
              "      <td>0</td>\n",
              "      <td>150</td>\n",
              "      <td>5200</td>\n",
              "      <td>4020.0</td>\n",
              "      <td>1111.0</td>\n",
              "    </tr>\n",
              "    <tr>\n",
              "      <th>3</th>\n",
              "      <td>Departamento</td>\n",
              "      <td>Pachacámac</td>\n",
              "      <td>1</td>\n",
              "      <td>0</td>\n",
              "      <td>0</td>\n",
              "      <td>15</td>\n",
              "      <td>800</td>\n",
              "      <td>390.0</td>\n",
              "      <td>20.0</td>\n",
              "    </tr>\n",
              "    <tr>\n",
              "      <th>4</th>\n",
              "      <td>Departamento</td>\n",
              "      <td>Ate</td>\n",
              "      <td>1</td>\n",
              "      <td>0</td>\n",
              "      <td>0</td>\n",
              "      <td>48</td>\n",
              "      <td>800</td>\n",
              "      <td>230.0</td>\n",
              "      <td>NaN</td>\n",
              "    </tr>\n",
              "    <tr>\n",
              "      <th>5</th>\n",
              "      <td>Departamento</td>\n",
              "      <td>Barranco</td>\n",
              "      <td>3</td>\n",
              "      <td>1</td>\n",
              "      <td>0</td>\n",
              "      <td>70</td>\n",
              "      <td>1200</td>\n",
              "      <td>NaN</td>\n",
              "      <td>NaN</td>\n",
              "    </tr>\n",
              "    <tr>\n",
              "      <th>6</th>\n",
              "      <td>Departamento</td>\n",
              "      <td>Comas</td>\n",
              "      <td>2</td>\n",
              "      <td>0</td>\n",
              "      <td>0</td>\n",
              "      <td>50</td>\n",
              "      <td>1300</td>\n",
              "      <td>301.0</td>\n",
              "      <td>17.0</td>\n",
              "    </tr>\n",
              "    <tr>\n",
              "      <th>7</th>\n",
              "      <td>Casa en condominio</td>\n",
              "      <td>Ate</td>\n",
              "      <td>5</td>\n",
              "      <td>4</td>\n",
              "      <td>5</td>\n",
              "      <td>750</td>\n",
              "      <td>22000</td>\n",
              "      <td>NaN</td>\n",
              "      <td>NaN</td>\n",
              "    </tr>\n",
              "    <tr>\n",
              "      <th>8</th>\n",
              "      <td>Casa en condominio</td>\n",
              "      <td>El Agustino</td>\n",
              "      <td>2</td>\n",
              "      <td>2</td>\n",
              "      <td>0</td>\n",
              "      <td>65</td>\n",
              "      <td>1000</td>\n",
              "      <td>NaN</td>\n",
              "      <td>NaN</td>\n",
              "    </tr>\n",
              "    <tr>\n",
              "      <th>9</th>\n",
              "      <td>Local comercial</td>\n",
              "      <td>Pachacámac</td>\n",
              "      <td>0</td>\n",
              "      <td>3</td>\n",
              "      <td>0</td>\n",
              "      <td>695</td>\n",
              "      <td>35000</td>\n",
              "      <td>19193.0</td>\n",
              "      <td>3030.0</td>\n",
              "    </tr>\n",
              "  </tbody>\n",
              "</table>\n",
              "</div>\n",
              "    <div class=\"colab-df-buttons\">\n",
              "\n",
              "  <div class=\"colab-df-container\">\n",
              "    <button class=\"colab-df-convert\" onclick=\"convertToInteractive('df-5e3602c9-72a9-4a4b-8bb3-20c94715c9e1')\"\n",
              "            title=\"Convert this dataframe to an interactive table.\"\n",
              "            style=\"display:none;\">\n",
              "\n",
              "  <svg xmlns=\"http://www.w3.org/2000/svg\" height=\"24px\" viewBox=\"0 -960 960 960\">\n",
              "    <path d=\"M120-120v-720h720v720H120Zm60-500h600v-160H180v160Zm220 220h160v-160H400v160Zm0 220h160v-160H400v160ZM180-400h160v-160H180v160Zm440 0h160v-160H620v160ZM180-180h160v-160H180v160Zm440 0h160v-160H620v160Z\"/>\n",
              "  </svg>\n",
              "    </button>\n",
              "\n",
              "  <style>\n",
              "    .colab-df-container {\n",
              "      display:flex;\n",
              "      gap: 12px;\n",
              "    }\n",
              "\n",
              "    .colab-df-convert {\n",
              "      background-color: #E8F0FE;\n",
              "      border: none;\n",
              "      border-radius: 50%;\n",
              "      cursor: pointer;\n",
              "      display: none;\n",
              "      fill: #1967D2;\n",
              "      height: 32px;\n",
              "      padding: 0 0 0 0;\n",
              "      width: 32px;\n",
              "    }\n",
              "\n",
              "    .colab-df-convert:hover {\n",
              "      background-color: #E2EBFA;\n",
              "      box-shadow: 0px 1px 2px rgba(60, 64, 67, 0.3), 0px 1px 3px 1px rgba(60, 64, 67, 0.15);\n",
              "      fill: #174EA6;\n",
              "    }\n",
              "\n",
              "    .colab-df-buttons div {\n",
              "      margin-bottom: 4px;\n",
              "    }\n",
              "\n",
              "    [theme=dark] .colab-df-convert {\n",
              "      background-color: #3B4455;\n",
              "      fill: #D2E3FC;\n",
              "    }\n",
              "\n",
              "    [theme=dark] .colab-df-convert:hover {\n",
              "      background-color: #434B5C;\n",
              "      box-shadow: 0px 1px 3px 1px rgba(0, 0, 0, 0.15);\n",
              "      filter: drop-shadow(0px 1px 2px rgba(0, 0, 0, 0.3));\n",
              "      fill: #FFFFFF;\n",
              "    }\n",
              "  </style>\n",
              "\n",
              "    <script>\n",
              "      const buttonEl =\n",
              "        document.querySelector('#df-5e3602c9-72a9-4a4b-8bb3-20c94715c9e1 button.colab-df-convert');\n",
              "      buttonEl.style.display =\n",
              "        google.colab.kernel.accessAllowed ? 'block' : 'none';\n",
              "\n",
              "      async function convertToInteractive(key) {\n",
              "        const element = document.querySelector('#df-5e3602c9-72a9-4a4b-8bb3-20c94715c9e1');\n",
              "        const dataTable =\n",
              "          await google.colab.kernel.invokeFunction('convertToInteractive',\n",
              "                                                    [key], {});\n",
              "        if (!dataTable) return;\n",
              "\n",
              "        const docLinkHtml = 'Like what you see? Visit the ' +\n",
              "          '<a target=\"_blank\" href=https://colab.research.google.com/notebooks/data_table.ipynb>data table notebook</a>'\n",
              "          + ' to learn more about interactive tables.';\n",
              "        element.innerHTML = '';\n",
              "        dataTable['output_type'] = 'display_data';\n",
              "        await google.colab.output.renderOutput(dataTable, element);\n",
              "        const docLink = document.createElement('div');\n",
              "        docLink.innerHTML = docLinkHtml;\n",
              "        element.appendChild(docLink);\n",
              "      }\n",
              "    </script>\n",
              "  </div>\n",
              "\n",
              "\n",
              "<div id=\"df-3982d2ce-4feb-4cec-a19f-38b20517ecc5\">\n",
              "  <button class=\"colab-df-quickchart\" onclick=\"quickchart('df-3982d2ce-4feb-4cec-a19f-38b20517ecc5')\"\n",
              "            title=\"Suggest charts.\"\n",
              "            style=\"display:none;\">\n",
              "\n",
              "<svg xmlns=\"http://www.w3.org/2000/svg\" height=\"24px\"viewBox=\"0 0 24 24\"\n",
              "     width=\"24px\">\n",
              "    <g>\n",
              "        <path d=\"M19 3H5c-1.1 0-2 .9-2 2v14c0 1.1.9 2 2 2h14c1.1 0 2-.9 2-2V5c0-1.1-.9-2-2-2zM9 17H7v-7h2v7zm4 0h-2V7h2v10zm4 0h-2v-4h2v4z\"/>\n",
              "    </g>\n",
              "</svg>\n",
              "  </button>\n",
              "\n",
              "<style>\n",
              "  .colab-df-quickchart {\n",
              "      --bg-color: #E8F0FE;\n",
              "      --fill-color: #1967D2;\n",
              "      --hover-bg-color: #E2EBFA;\n",
              "      --hover-fill-color: #174EA6;\n",
              "      --disabled-fill-color: #AAA;\n",
              "      --disabled-bg-color: #DDD;\n",
              "  }\n",
              "\n",
              "  [theme=dark] .colab-df-quickchart {\n",
              "      --bg-color: #3B4455;\n",
              "      --fill-color: #D2E3FC;\n",
              "      --hover-bg-color: #434B5C;\n",
              "      --hover-fill-color: #FFFFFF;\n",
              "      --disabled-bg-color: #3B4455;\n",
              "      --disabled-fill-color: #666;\n",
              "  }\n",
              "\n",
              "  .colab-df-quickchart {\n",
              "    background-color: var(--bg-color);\n",
              "    border: none;\n",
              "    border-radius: 50%;\n",
              "    cursor: pointer;\n",
              "    display: none;\n",
              "    fill: var(--fill-color);\n",
              "    height: 32px;\n",
              "    padding: 0;\n",
              "    width: 32px;\n",
              "  }\n",
              "\n",
              "  .colab-df-quickchart:hover {\n",
              "    background-color: var(--hover-bg-color);\n",
              "    box-shadow: 0 1px 2px rgba(60, 64, 67, 0.3), 0 1px 3px 1px rgba(60, 64, 67, 0.15);\n",
              "    fill: var(--button-hover-fill-color);\n",
              "  }\n",
              "\n",
              "  .colab-df-quickchart-complete:disabled,\n",
              "  .colab-df-quickchart-complete:disabled:hover {\n",
              "    background-color: var(--disabled-bg-color);\n",
              "    fill: var(--disabled-fill-color);\n",
              "    box-shadow: none;\n",
              "  }\n",
              "\n",
              "  .colab-df-spinner {\n",
              "    border: 2px solid var(--fill-color);\n",
              "    border-color: transparent;\n",
              "    border-bottom-color: var(--fill-color);\n",
              "    animation:\n",
              "      spin 1s steps(1) infinite;\n",
              "  }\n",
              "\n",
              "  @keyframes spin {\n",
              "    0% {\n",
              "      border-color: transparent;\n",
              "      border-bottom-color: var(--fill-color);\n",
              "      border-left-color: var(--fill-color);\n",
              "    }\n",
              "    20% {\n",
              "      border-color: transparent;\n",
              "      border-left-color: var(--fill-color);\n",
              "      border-top-color: var(--fill-color);\n",
              "    }\n",
              "    30% {\n",
              "      border-color: transparent;\n",
              "      border-left-color: var(--fill-color);\n",
              "      border-top-color: var(--fill-color);\n",
              "      border-right-color: var(--fill-color);\n",
              "    }\n",
              "    40% {\n",
              "      border-color: transparent;\n",
              "      border-right-color: var(--fill-color);\n",
              "      border-top-color: var(--fill-color);\n",
              "    }\n",
              "    60% {\n",
              "      border-color: transparent;\n",
              "      border-right-color: var(--fill-color);\n",
              "    }\n",
              "    80% {\n",
              "      border-color: transparent;\n",
              "      border-right-color: var(--fill-color);\n",
              "      border-bottom-color: var(--fill-color);\n",
              "    }\n",
              "    90% {\n",
              "      border-color: transparent;\n",
              "      border-bottom-color: var(--fill-color);\n",
              "    }\n",
              "  }\n",
              "</style>\n",
              "\n",
              "  <script>\n",
              "    async function quickchart(key) {\n",
              "      const quickchartButtonEl =\n",
              "        document.querySelector('#' + key + ' button');\n",
              "      quickchartButtonEl.disabled = true;  // To prevent multiple clicks.\n",
              "      quickchartButtonEl.classList.add('colab-df-spinner');\n",
              "      try {\n",
              "        const charts = await google.colab.kernel.invokeFunction(\n",
              "            'suggestCharts', [key], {});\n",
              "      } catch (error) {\n",
              "        console.error('Error during call to suggestCharts:', error);\n",
              "      }\n",
              "      quickchartButtonEl.classList.remove('colab-df-spinner');\n",
              "      quickchartButtonEl.classList.add('colab-df-quickchart-complete');\n",
              "    }\n",
              "    (() => {\n",
              "      let quickchartButtonEl =\n",
              "        document.querySelector('#df-3982d2ce-4feb-4cec-a19f-38b20517ecc5 button');\n",
              "      quickchartButtonEl.style.display =\n",
              "        google.colab.kernel.accessAllowed ? 'block' : 'none';\n",
              "    })();\n",
              "  </script>\n",
              "</div>\n",
              "    </div>\n",
              "  </div>\n"
            ]
          },
          "metadata": {},
          "execution_count": 120
        }
      ]
    },
    {
      "cell_type": "markdown",
      "source": [
        "**3. Importación de datos desde un archivo JSON:**"
      ],
      "metadata": {
        "id": "GnIlsHA1PjoN"
      }
    },
    {
      "cell_type": "code",
      "source": [
        "'''\n",
        "import pandas as pd\n",
        "\n",
        "Cargar datos desde un archivo JSON\n",
        "df_json = pd.read_json('archivo.json')\n",
        "'''"
      ],
      "metadata": {
        "colab": {
          "base_uri": "https://localhost:8080/",
          "height": 0
        },
        "id": "aZtPcBoaMcXz",
        "outputId": "de6b58b2-3481-4a8c-f0e1-32756b06de42"
      },
      "execution_count": 121,
      "outputs": [
        {
          "output_type": "execute_result",
          "data": {
            "text/plain": [
              "\"\\nimport pandas as pd\\n\\nCargar datos desde un archivo JSON\\ndf_json = pd.read_json('archivo.json')\\n\""
            ],
            "application/vnd.google.colaboratory.intrinsic+json": {
              "type": "string"
            }
          },
          "metadata": {},
          "execution_count": 121
        }
      ]
    },
    {
      "cell_type": "code",
      "source": [
        "datos_json = pd.read_json('alquiler.json')\n",
        "datos_json"
      ],
      "metadata": {
        "colab": {
          "base_uri": "https://localhost:8080/",
          "height": 0
        },
        "id": "tXZcAFCEDB6w",
        "outputId": "e3c372ec-be46-473a-c50b-f5231c48bd5e"
      },
      "execution_count": 122,
      "outputs": [
        {
          "output_type": "execute_result",
          "data": {
            "text/plain": [
              "                 Tipo     Distrito  Cuartos  Vacantes  Suites  Area  Valor  \\\n",
              "0          Habitación    San Borja        1         0       0    40   1700   \n",
              "1                Casa   Lurigancho        2         0       1   100   7000   \n",
              "2     Local comercial          Ate        0         4       0   150   5200   \n",
              "3        Departamento   Pachacámac        1         0       0    15    800   \n",
              "4        Departamento          Ate        1         0       0    48    800   \n",
              "5        Departamento     Barranco        3         1       0    70   1200   \n",
              "6        Departamento        Comas        2         0       0    50   1300   \n",
              "7  Casa en condominio          Ate        5         4       5   750  22000   \n",
              "8  Casa en condominio  El Agustino        2         2       0    65   1000   \n",
              "9     Local comercial   Pachacámac        0         3       0   695  35000   \n",
              "\n",
              "   Mantenimiento  Impuesto  \n",
              "0          500.0      60.0  \n",
              "1            NaN       NaN  \n",
              "2         4020.0    1111.0  \n",
              "3          390.0      20.0  \n",
              "4          230.0       NaN  \n",
              "5            NaN       NaN  \n",
              "6          301.0      17.0  \n",
              "7            NaN       NaN  \n",
              "8            NaN       NaN  \n",
              "9        19193.0    3030.0  "
            ],
            "text/html": [
              "\n",
              "  <div id=\"df-b970f1de-c060-4b30-9093-7390b86d86bc\" class=\"colab-df-container\">\n",
              "    <div>\n",
              "<style scoped>\n",
              "    .dataframe tbody tr th:only-of-type {\n",
              "        vertical-align: middle;\n",
              "    }\n",
              "\n",
              "    .dataframe tbody tr th {\n",
              "        vertical-align: top;\n",
              "    }\n",
              "\n",
              "    .dataframe thead th {\n",
              "        text-align: right;\n",
              "    }\n",
              "</style>\n",
              "<table border=\"1\" class=\"dataframe\">\n",
              "  <thead>\n",
              "    <tr style=\"text-align: right;\">\n",
              "      <th></th>\n",
              "      <th>Tipo</th>\n",
              "      <th>Distrito</th>\n",
              "      <th>Cuartos</th>\n",
              "      <th>Vacantes</th>\n",
              "      <th>Suites</th>\n",
              "      <th>Area</th>\n",
              "      <th>Valor</th>\n",
              "      <th>Mantenimiento</th>\n",
              "      <th>Impuesto</th>\n",
              "    </tr>\n",
              "  </thead>\n",
              "  <tbody>\n",
              "    <tr>\n",
              "      <th>0</th>\n",
              "      <td>Habitación</td>\n",
              "      <td>San Borja</td>\n",
              "      <td>1</td>\n",
              "      <td>0</td>\n",
              "      <td>0</td>\n",
              "      <td>40</td>\n",
              "      <td>1700</td>\n",
              "      <td>500.0</td>\n",
              "      <td>60.0</td>\n",
              "    </tr>\n",
              "    <tr>\n",
              "      <th>1</th>\n",
              "      <td>Casa</td>\n",
              "      <td>Lurigancho</td>\n",
              "      <td>2</td>\n",
              "      <td>0</td>\n",
              "      <td>1</td>\n",
              "      <td>100</td>\n",
              "      <td>7000</td>\n",
              "      <td>NaN</td>\n",
              "      <td>NaN</td>\n",
              "    </tr>\n",
              "    <tr>\n",
              "      <th>2</th>\n",
              "      <td>Local comercial</td>\n",
              "      <td>Ate</td>\n",
              "      <td>0</td>\n",
              "      <td>4</td>\n",
              "      <td>0</td>\n",
              "      <td>150</td>\n",
              "      <td>5200</td>\n",
              "      <td>4020.0</td>\n",
              "      <td>1111.0</td>\n",
              "    </tr>\n",
              "    <tr>\n",
              "      <th>3</th>\n",
              "      <td>Departamento</td>\n",
              "      <td>Pachacámac</td>\n",
              "      <td>1</td>\n",
              "      <td>0</td>\n",
              "      <td>0</td>\n",
              "      <td>15</td>\n",
              "      <td>800</td>\n",
              "      <td>390.0</td>\n",
              "      <td>20.0</td>\n",
              "    </tr>\n",
              "    <tr>\n",
              "      <th>4</th>\n",
              "      <td>Departamento</td>\n",
              "      <td>Ate</td>\n",
              "      <td>1</td>\n",
              "      <td>0</td>\n",
              "      <td>0</td>\n",
              "      <td>48</td>\n",
              "      <td>800</td>\n",
              "      <td>230.0</td>\n",
              "      <td>NaN</td>\n",
              "    </tr>\n",
              "    <tr>\n",
              "      <th>5</th>\n",
              "      <td>Departamento</td>\n",
              "      <td>Barranco</td>\n",
              "      <td>3</td>\n",
              "      <td>1</td>\n",
              "      <td>0</td>\n",
              "      <td>70</td>\n",
              "      <td>1200</td>\n",
              "      <td>NaN</td>\n",
              "      <td>NaN</td>\n",
              "    </tr>\n",
              "    <tr>\n",
              "      <th>6</th>\n",
              "      <td>Departamento</td>\n",
              "      <td>Comas</td>\n",
              "      <td>2</td>\n",
              "      <td>0</td>\n",
              "      <td>0</td>\n",
              "      <td>50</td>\n",
              "      <td>1300</td>\n",
              "      <td>301.0</td>\n",
              "      <td>17.0</td>\n",
              "    </tr>\n",
              "    <tr>\n",
              "      <th>7</th>\n",
              "      <td>Casa en condominio</td>\n",
              "      <td>Ate</td>\n",
              "      <td>5</td>\n",
              "      <td>4</td>\n",
              "      <td>5</td>\n",
              "      <td>750</td>\n",
              "      <td>22000</td>\n",
              "      <td>NaN</td>\n",
              "      <td>NaN</td>\n",
              "    </tr>\n",
              "    <tr>\n",
              "      <th>8</th>\n",
              "      <td>Casa en condominio</td>\n",
              "      <td>El Agustino</td>\n",
              "      <td>2</td>\n",
              "      <td>2</td>\n",
              "      <td>0</td>\n",
              "      <td>65</td>\n",
              "      <td>1000</td>\n",
              "      <td>NaN</td>\n",
              "      <td>NaN</td>\n",
              "    </tr>\n",
              "    <tr>\n",
              "      <th>9</th>\n",
              "      <td>Local comercial</td>\n",
              "      <td>Pachacámac</td>\n",
              "      <td>0</td>\n",
              "      <td>3</td>\n",
              "      <td>0</td>\n",
              "      <td>695</td>\n",
              "      <td>35000</td>\n",
              "      <td>19193.0</td>\n",
              "      <td>3030.0</td>\n",
              "    </tr>\n",
              "  </tbody>\n",
              "</table>\n",
              "</div>\n",
              "    <div class=\"colab-df-buttons\">\n",
              "\n",
              "  <div class=\"colab-df-container\">\n",
              "    <button class=\"colab-df-convert\" onclick=\"convertToInteractive('df-b970f1de-c060-4b30-9093-7390b86d86bc')\"\n",
              "            title=\"Convert this dataframe to an interactive table.\"\n",
              "            style=\"display:none;\">\n",
              "\n",
              "  <svg xmlns=\"http://www.w3.org/2000/svg\" height=\"24px\" viewBox=\"0 -960 960 960\">\n",
              "    <path d=\"M120-120v-720h720v720H120Zm60-500h600v-160H180v160Zm220 220h160v-160H400v160Zm0 220h160v-160H400v160ZM180-400h160v-160H180v160Zm440 0h160v-160H620v160ZM180-180h160v-160H180v160Zm440 0h160v-160H620v160Z\"/>\n",
              "  </svg>\n",
              "    </button>\n",
              "\n",
              "  <style>\n",
              "    .colab-df-container {\n",
              "      display:flex;\n",
              "      gap: 12px;\n",
              "    }\n",
              "\n",
              "    .colab-df-convert {\n",
              "      background-color: #E8F0FE;\n",
              "      border: none;\n",
              "      border-radius: 50%;\n",
              "      cursor: pointer;\n",
              "      display: none;\n",
              "      fill: #1967D2;\n",
              "      height: 32px;\n",
              "      padding: 0 0 0 0;\n",
              "      width: 32px;\n",
              "    }\n",
              "\n",
              "    .colab-df-convert:hover {\n",
              "      background-color: #E2EBFA;\n",
              "      box-shadow: 0px 1px 2px rgba(60, 64, 67, 0.3), 0px 1px 3px 1px rgba(60, 64, 67, 0.15);\n",
              "      fill: #174EA6;\n",
              "    }\n",
              "\n",
              "    .colab-df-buttons div {\n",
              "      margin-bottom: 4px;\n",
              "    }\n",
              "\n",
              "    [theme=dark] .colab-df-convert {\n",
              "      background-color: #3B4455;\n",
              "      fill: #D2E3FC;\n",
              "    }\n",
              "\n",
              "    [theme=dark] .colab-df-convert:hover {\n",
              "      background-color: #434B5C;\n",
              "      box-shadow: 0px 1px 3px 1px rgba(0, 0, 0, 0.15);\n",
              "      filter: drop-shadow(0px 1px 2px rgba(0, 0, 0, 0.3));\n",
              "      fill: #FFFFFF;\n",
              "    }\n",
              "  </style>\n",
              "\n",
              "    <script>\n",
              "      const buttonEl =\n",
              "        document.querySelector('#df-b970f1de-c060-4b30-9093-7390b86d86bc button.colab-df-convert');\n",
              "      buttonEl.style.display =\n",
              "        google.colab.kernel.accessAllowed ? 'block' : 'none';\n",
              "\n",
              "      async function convertToInteractive(key) {\n",
              "        const element = document.querySelector('#df-b970f1de-c060-4b30-9093-7390b86d86bc');\n",
              "        const dataTable =\n",
              "          await google.colab.kernel.invokeFunction('convertToInteractive',\n",
              "                                                    [key], {});\n",
              "        if (!dataTable) return;\n",
              "\n",
              "        const docLinkHtml = 'Like what you see? Visit the ' +\n",
              "          '<a target=\"_blank\" href=https://colab.research.google.com/notebooks/data_table.ipynb>data table notebook</a>'\n",
              "          + ' to learn more about interactive tables.';\n",
              "        element.innerHTML = '';\n",
              "        dataTable['output_type'] = 'display_data';\n",
              "        await google.colab.output.renderOutput(dataTable, element);\n",
              "        const docLink = document.createElement('div');\n",
              "        docLink.innerHTML = docLinkHtml;\n",
              "        element.appendChild(docLink);\n",
              "      }\n",
              "    </script>\n",
              "  </div>\n",
              "\n",
              "\n",
              "<div id=\"df-13592ce3-157b-4446-a805-c920877b2611\">\n",
              "  <button class=\"colab-df-quickchart\" onclick=\"quickchart('df-13592ce3-157b-4446-a805-c920877b2611')\"\n",
              "            title=\"Suggest charts.\"\n",
              "            style=\"display:none;\">\n",
              "\n",
              "<svg xmlns=\"http://www.w3.org/2000/svg\" height=\"24px\"viewBox=\"0 0 24 24\"\n",
              "     width=\"24px\">\n",
              "    <g>\n",
              "        <path d=\"M19 3H5c-1.1 0-2 .9-2 2v14c0 1.1.9 2 2 2h14c1.1 0 2-.9 2-2V5c0-1.1-.9-2-2-2zM9 17H7v-7h2v7zm4 0h-2V7h2v10zm4 0h-2v-4h2v4z\"/>\n",
              "    </g>\n",
              "</svg>\n",
              "  </button>\n",
              "\n",
              "<style>\n",
              "  .colab-df-quickchart {\n",
              "      --bg-color: #E8F0FE;\n",
              "      --fill-color: #1967D2;\n",
              "      --hover-bg-color: #E2EBFA;\n",
              "      --hover-fill-color: #174EA6;\n",
              "      --disabled-fill-color: #AAA;\n",
              "      --disabled-bg-color: #DDD;\n",
              "  }\n",
              "\n",
              "  [theme=dark] .colab-df-quickchart {\n",
              "      --bg-color: #3B4455;\n",
              "      --fill-color: #D2E3FC;\n",
              "      --hover-bg-color: #434B5C;\n",
              "      --hover-fill-color: #FFFFFF;\n",
              "      --disabled-bg-color: #3B4455;\n",
              "      --disabled-fill-color: #666;\n",
              "  }\n",
              "\n",
              "  .colab-df-quickchart {\n",
              "    background-color: var(--bg-color);\n",
              "    border: none;\n",
              "    border-radius: 50%;\n",
              "    cursor: pointer;\n",
              "    display: none;\n",
              "    fill: var(--fill-color);\n",
              "    height: 32px;\n",
              "    padding: 0;\n",
              "    width: 32px;\n",
              "  }\n",
              "\n",
              "  .colab-df-quickchart:hover {\n",
              "    background-color: var(--hover-bg-color);\n",
              "    box-shadow: 0 1px 2px rgba(60, 64, 67, 0.3), 0 1px 3px 1px rgba(60, 64, 67, 0.15);\n",
              "    fill: var(--button-hover-fill-color);\n",
              "  }\n",
              "\n",
              "  .colab-df-quickchart-complete:disabled,\n",
              "  .colab-df-quickchart-complete:disabled:hover {\n",
              "    background-color: var(--disabled-bg-color);\n",
              "    fill: var(--disabled-fill-color);\n",
              "    box-shadow: none;\n",
              "  }\n",
              "\n",
              "  .colab-df-spinner {\n",
              "    border: 2px solid var(--fill-color);\n",
              "    border-color: transparent;\n",
              "    border-bottom-color: var(--fill-color);\n",
              "    animation:\n",
              "      spin 1s steps(1) infinite;\n",
              "  }\n",
              "\n",
              "  @keyframes spin {\n",
              "    0% {\n",
              "      border-color: transparent;\n",
              "      border-bottom-color: var(--fill-color);\n",
              "      border-left-color: var(--fill-color);\n",
              "    }\n",
              "    20% {\n",
              "      border-color: transparent;\n",
              "      border-left-color: var(--fill-color);\n",
              "      border-top-color: var(--fill-color);\n",
              "    }\n",
              "    30% {\n",
              "      border-color: transparent;\n",
              "      border-left-color: var(--fill-color);\n",
              "      border-top-color: var(--fill-color);\n",
              "      border-right-color: var(--fill-color);\n",
              "    }\n",
              "    40% {\n",
              "      border-color: transparent;\n",
              "      border-right-color: var(--fill-color);\n",
              "      border-top-color: var(--fill-color);\n",
              "    }\n",
              "    60% {\n",
              "      border-color: transparent;\n",
              "      border-right-color: var(--fill-color);\n",
              "    }\n",
              "    80% {\n",
              "      border-color: transparent;\n",
              "      border-right-color: var(--fill-color);\n",
              "      border-bottom-color: var(--fill-color);\n",
              "    }\n",
              "    90% {\n",
              "      border-color: transparent;\n",
              "      border-bottom-color: var(--fill-color);\n",
              "    }\n",
              "  }\n",
              "</style>\n",
              "\n",
              "  <script>\n",
              "    async function quickchart(key) {\n",
              "      const quickchartButtonEl =\n",
              "        document.querySelector('#' + key + ' button');\n",
              "      quickchartButtonEl.disabled = true;  // To prevent multiple clicks.\n",
              "      quickchartButtonEl.classList.add('colab-df-spinner');\n",
              "      try {\n",
              "        const charts = await google.colab.kernel.invokeFunction(\n",
              "            'suggestCharts', [key], {});\n",
              "      } catch (error) {\n",
              "        console.error('Error during call to suggestCharts:', error);\n",
              "      }\n",
              "      quickchartButtonEl.classList.remove('colab-df-spinner');\n",
              "      quickchartButtonEl.classList.add('colab-df-quickchart-complete');\n",
              "    }\n",
              "    (() => {\n",
              "      let quickchartButtonEl =\n",
              "        document.querySelector('#df-13592ce3-157b-4446-a805-c920877b2611 button');\n",
              "      quickchartButtonEl.style.display =\n",
              "        google.colab.kernel.accessAllowed ? 'block' : 'none';\n",
              "    })();\n",
              "  </script>\n",
              "</div>\n",
              "    </div>\n",
              "  </div>\n"
            ]
          },
          "metadata": {},
          "execution_count": 122
        }
      ]
    },
    {
      "cell_type": "markdown",
      "source": [
        "**4. Importación de datos txt**"
      ],
      "metadata": {
        "id": "T9t0O0h_F1hS"
      }
    },
    {
      "cell_type": "code",
      "source": [
        "datos_txt = pd.read_table('alquiler.txt')\n",
        "datos_txt"
      ],
      "metadata": {
        "colab": {
          "base_uri": "https://localhost:8080/",
          "height": 0
        },
        "id": "Yca931XDF1GQ",
        "outputId": "076ad0b1-b333-4411-da33-84fada84c3bb"
      },
      "execution_count": 123,
      "outputs": [
        {
          "output_type": "execute_result",
          "data": {
            "text/plain": [
              "                 Tipo     Distrito  Cuartos  Vacantes  Suites  Area  Valor  \\\n",
              "0          Habitación    San Borja        1         0       0    40   1700   \n",
              "1                Casa   Lurigancho        2         0       1   100   7000   \n",
              "2     Local comercial          Ate        0         4       0   150   5200   \n",
              "3        Departamento   Pachacámac        1         0       0    15    800   \n",
              "4        Departamento          Ate        1         0       0    48    800   \n",
              "5        Departamento     Barranco        3         1       0    70   1200   \n",
              "6        Departamento        Comas        2         0       0    50   1300   \n",
              "7  Casa en condominio          Ate        5         4       5   750  22000   \n",
              "8  Casa en condominio  El Agustino        2         2       0    65   1000   \n",
              "9     Local comercial   Pachacámac        0         3       0   695  35000   \n",
              "\n",
              "   Mantenimiento  Impuesto  \n",
              "0          500.0      60.0  \n",
              "1            NaN       NaN  \n",
              "2         4020.0    1111.0  \n",
              "3          390.0      20.0  \n",
              "4          230.0       NaN  \n",
              "5            NaN       NaN  \n",
              "6          301.0      17.0  \n",
              "7            NaN       NaN  \n",
              "8            NaN       NaN  \n",
              "9        19193.0    3030.0  "
            ],
            "text/html": [
              "\n",
              "  <div id=\"df-d40ae97f-f800-4e42-a1da-fedf63befb1e\" class=\"colab-df-container\">\n",
              "    <div>\n",
              "<style scoped>\n",
              "    .dataframe tbody tr th:only-of-type {\n",
              "        vertical-align: middle;\n",
              "    }\n",
              "\n",
              "    .dataframe tbody tr th {\n",
              "        vertical-align: top;\n",
              "    }\n",
              "\n",
              "    .dataframe thead th {\n",
              "        text-align: right;\n",
              "    }\n",
              "</style>\n",
              "<table border=\"1\" class=\"dataframe\">\n",
              "  <thead>\n",
              "    <tr style=\"text-align: right;\">\n",
              "      <th></th>\n",
              "      <th>Tipo</th>\n",
              "      <th>Distrito</th>\n",
              "      <th>Cuartos</th>\n",
              "      <th>Vacantes</th>\n",
              "      <th>Suites</th>\n",
              "      <th>Area</th>\n",
              "      <th>Valor</th>\n",
              "      <th>Mantenimiento</th>\n",
              "      <th>Impuesto</th>\n",
              "    </tr>\n",
              "  </thead>\n",
              "  <tbody>\n",
              "    <tr>\n",
              "      <th>0</th>\n",
              "      <td>Habitación</td>\n",
              "      <td>San Borja</td>\n",
              "      <td>1</td>\n",
              "      <td>0</td>\n",
              "      <td>0</td>\n",
              "      <td>40</td>\n",
              "      <td>1700</td>\n",
              "      <td>500.0</td>\n",
              "      <td>60.0</td>\n",
              "    </tr>\n",
              "    <tr>\n",
              "      <th>1</th>\n",
              "      <td>Casa</td>\n",
              "      <td>Lurigancho</td>\n",
              "      <td>2</td>\n",
              "      <td>0</td>\n",
              "      <td>1</td>\n",
              "      <td>100</td>\n",
              "      <td>7000</td>\n",
              "      <td>NaN</td>\n",
              "      <td>NaN</td>\n",
              "    </tr>\n",
              "    <tr>\n",
              "      <th>2</th>\n",
              "      <td>Local comercial</td>\n",
              "      <td>Ate</td>\n",
              "      <td>0</td>\n",
              "      <td>4</td>\n",
              "      <td>0</td>\n",
              "      <td>150</td>\n",
              "      <td>5200</td>\n",
              "      <td>4020.0</td>\n",
              "      <td>1111.0</td>\n",
              "    </tr>\n",
              "    <tr>\n",
              "      <th>3</th>\n",
              "      <td>Departamento</td>\n",
              "      <td>Pachacámac</td>\n",
              "      <td>1</td>\n",
              "      <td>0</td>\n",
              "      <td>0</td>\n",
              "      <td>15</td>\n",
              "      <td>800</td>\n",
              "      <td>390.0</td>\n",
              "      <td>20.0</td>\n",
              "    </tr>\n",
              "    <tr>\n",
              "      <th>4</th>\n",
              "      <td>Departamento</td>\n",
              "      <td>Ate</td>\n",
              "      <td>1</td>\n",
              "      <td>0</td>\n",
              "      <td>0</td>\n",
              "      <td>48</td>\n",
              "      <td>800</td>\n",
              "      <td>230.0</td>\n",
              "      <td>NaN</td>\n",
              "    </tr>\n",
              "    <tr>\n",
              "      <th>5</th>\n",
              "      <td>Departamento</td>\n",
              "      <td>Barranco</td>\n",
              "      <td>3</td>\n",
              "      <td>1</td>\n",
              "      <td>0</td>\n",
              "      <td>70</td>\n",
              "      <td>1200</td>\n",
              "      <td>NaN</td>\n",
              "      <td>NaN</td>\n",
              "    </tr>\n",
              "    <tr>\n",
              "      <th>6</th>\n",
              "      <td>Departamento</td>\n",
              "      <td>Comas</td>\n",
              "      <td>2</td>\n",
              "      <td>0</td>\n",
              "      <td>0</td>\n",
              "      <td>50</td>\n",
              "      <td>1300</td>\n",
              "      <td>301.0</td>\n",
              "      <td>17.0</td>\n",
              "    </tr>\n",
              "    <tr>\n",
              "      <th>7</th>\n",
              "      <td>Casa en condominio</td>\n",
              "      <td>Ate</td>\n",
              "      <td>5</td>\n",
              "      <td>4</td>\n",
              "      <td>5</td>\n",
              "      <td>750</td>\n",
              "      <td>22000</td>\n",
              "      <td>NaN</td>\n",
              "      <td>NaN</td>\n",
              "    </tr>\n",
              "    <tr>\n",
              "      <th>8</th>\n",
              "      <td>Casa en condominio</td>\n",
              "      <td>El Agustino</td>\n",
              "      <td>2</td>\n",
              "      <td>2</td>\n",
              "      <td>0</td>\n",
              "      <td>65</td>\n",
              "      <td>1000</td>\n",
              "      <td>NaN</td>\n",
              "      <td>NaN</td>\n",
              "    </tr>\n",
              "    <tr>\n",
              "      <th>9</th>\n",
              "      <td>Local comercial</td>\n",
              "      <td>Pachacámac</td>\n",
              "      <td>0</td>\n",
              "      <td>3</td>\n",
              "      <td>0</td>\n",
              "      <td>695</td>\n",
              "      <td>35000</td>\n",
              "      <td>19193.0</td>\n",
              "      <td>3030.0</td>\n",
              "    </tr>\n",
              "  </tbody>\n",
              "</table>\n",
              "</div>\n",
              "    <div class=\"colab-df-buttons\">\n",
              "\n",
              "  <div class=\"colab-df-container\">\n",
              "    <button class=\"colab-df-convert\" onclick=\"convertToInteractive('df-d40ae97f-f800-4e42-a1da-fedf63befb1e')\"\n",
              "            title=\"Convert this dataframe to an interactive table.\"\n",
              "            style=\"display:none;\">\n",
              "\n",
              "  <svg xmlns=\"http://www.w3.org/2000/svg\" height=\"24px\" viewBox=\"0 -960 960 960\">\n",
              "    <path d=\"M120-120v-720h720v720H120Zm60-500h600v-160H180v160Zm220 220h160v-160H400v160Zm0 220h160v-160H400v160ZM180-400h160v-160H180v160Zm440 0h160v-160H620v160ZM180-180h160v-160H180v160Zm440 0h160v-160H620v160Z\"/>\n",
              "  </svg>\n",
              "    </button>\n",
              "\n",
              "  <style>\n",
              "    .colab-df-container {\n",
              "      display:flex;\n",
              "      gap: 12px;\n",
              "    }\n",
              "\n",
              "    .colab-df-convert {\n",
              "      background-color: #E8F0FE;\n",
              "      border: none;\n",
              "      border-radius: 50%;\n",
              "      cursor: pointer;\n",
              "      display: none;\n",
              "      fill: #1967D2;\n",
              "      height: 32px;\n",
              "      padding: 0 0 0 0;\n",
              "      width: 32px;\n",
              "    }\n",
              "\n",
              "    .colab-df-convert:hover {\n",
              "      background-color: #E2EBFA;\n",
              "      box-shadow: 0px 1px 2px rgba(60, 64, 67, 0.3), 0px 1px 3px 1px rgba(60, 64, 67, 0.15);\n",
              "      fill: #174EA6;\n",
              "    }\n",
              "\n",
              "    .colab-df-buttons div {\n",
              "      margin-bottom: 4px;\n",
              "    }\n",
              "\n",
              "    [theme=dark] .colab-df-convert {\n",
              "      background-color: #3B4455;\n",
              "      fill: #D2E3FC;\n",
              "    }\n",
              "\n",
              "    [theme=dark] .colab-df-convert:hover {\n",
              "      background-color: #434B5C;\n",
              "      box-shadow: 0px 1px 3px 1px rgba(0, 0, 0, 0.15);\n",
              "      filter: drop-shadow(0px 1px 2px rgba(0, 0, 0, 0.3));\n",
              "      fill: #FFFFFF;\n",
              "    }\n",
              "  </style>\n",
              "\n",
              "    <script>\n",
              "      const buttonEl =\n",
              "        document.querySelector('#df-d40ae97f-f800-4e42-a1da-fedf63befb1e button.colab-df-convert');\n",
              "      buttonEl.style.display =\n",
              "        google.colab.kernel.accessAllowed ? 'block' : 'none';\n",
              "\n",
              "      async function convertToInteractive(key) {\n",
              "        const element = document.querySelector('#df-d40ae97f-f800-4e42-a1da-fedf63befb1e');\n",
              "        const dataTable =\n",
              "          await google.colab.kernel.invokeFunction('convertToInteractive',\n",
              "                                                    [key], {});\n",
              "        if (!dataTable) return;\n",
              "\n",
              "        const docLinkHtml = 'Like what you see? Visit the ' +\n",
              "          '<a target=\"_blank\" href=https://colab.research.google.com/notebooks/data_table.ipynb>data table notebook</a>'\n",
              "          + ' to learn more about interactive tables.';\n",
              "        element.innerHTML = '';\n",
              "        dataTable['output_type'] = 'display_data';\n",
              "        await google.colab.output.renderOutput(dataTable, element);\n",
              "        const docLink = document.createElement('div');\n",
              "        docLink.innerHTML = docLinkHtml;\n",
              "        element.appendChild(docLink);\n",
              "      }\n",
              "    </script>\n",
              "  </div>\n",
              "\n",
              "\n",
              "<div id=\"df-3717798d-b22e-4d20-850a-dc31018604d8\">\n",
              "  <button class=\"colab-df-quickchart\" onclick=\"quickchart('df-3717798d-b22e-4d20-850a-dc31018604d8')\"\n",
              "            title=\"Suggest charts.\"\n",
              "            style=\"display:none;\">\n",
              "\n",
              "<svg xmlns=\"http://www.w3.org/2000/svg\" height=\"24px\"viewBox=\"0 0 24 24\"\n",
              "     width=\"24px\">\n",
              "    <g>\n",
              "        <path d=\"M19 3H5c-1.1 0-2 .9-2 2v14c0 1.1.9 2 2 2h14c1.1 0 2-.9 2-2V5c0-1.1-.9-2-2-2zM9 17H7v-7h2v7zm4 0h-2V7h2v10zm4 0h-2v-4h2v4z\"/>\n",
              "    </g>\n",
              "</svg>\n",
              "  </button>\n",
              "\n",
              "<style>\n",
              "  .colab-df-quickchart {\n",
              "      --bg-color: #E8F0FE;\n",
              "      --fill-color: #1967D2;\n",
              "      --hover-bg-color: #E2EBFA;\n",
              "      --hover-fill-color: #174EA6;\n",
              "      --disabled-fill-color: #AAA;\n",
              "      --disabled-bg-color: #DDD;\n",
              "  }\n",
              "\n",
              "  [theme=dark] .colab-df-quickchart {\n",
              "      --bg-color: #3B4455;\n",
              "      --fill-color: #D2E3FC;\n",
              "      --hover-bg-color: #434B5C;\n",
              "      --hover-fill-color: #FFFFFF;\n",
              "      --disabled-bg-color: #3B4455;\n",
              "      --disabled-fill-color: #666;\n",
              "  }\n",
              "\n",
              "  .colab-df-quickchart {\n",
              "    background-color: var(--bg-color);\n",
              "    border: none;\n",
              "    border-radius: 50%;\n",
              "    cursor: pointer;\n",
              "    display: none;\n",
              "    fill: var(--fill-color);\n",
              "    height: 32px;\n",
              "    padding: 0;\n",
              "    width: 32px;\n",
              "  }\n",
              "\n",
              "  .colab-df-quickchart:hover {\n",
              "    background-color: var(--hover-bg-color);\n",
              "    box-shadow: 0 1px 2px rgba(60, 64, 67, 0.3), 0 1px 3px 1px rgba(60, 64, 67, 0.15);\n",
              "    fill: var(--button-hover-fill-color);\n",
              "  }\n",
              "\n",
              "  .colab-df-quickchart-complete:disabled,\n",
              "  .colab-df-quickchart-complete:disabled:hover {\n",
              "    background-color: var(--disabled-bg-color);\n",
              "    fill: var(--disabled-fill-color);\n",
              "    box-shadow: none;\n",
              "  }\n",
              "\n",
              "  .colab-df-spinner {\n",
              "    border: 2px solid var(--fill-color);\n",
              "    border-color: transparent;\n",
              "    border-bottom-color: var(--fill-color);\n",
              "    animation:\n",
              "      spin 1s steps(1) infinite;\n",
              "  }\n",
              "\n",
              "  @keyframes spin {\n",
              "    0% {\n",
              "      border-color: transparent;\n",
              "      border-bottom-color: var(--fill-color);\n",
              "      border-left-color: var(--fill-color);\n",
              "    }\n",
              "    20% {\n",
              "      border-color: transparent;\n",
              "      border-left-color: var(--fill-color);\n",
              "      border-top-color: var(--fill-color);\n",
              "    }\n",
              "    30% {\n",
              "      border-color: transparent;\n",
              "      border-left-color: var(--fill-color);\n",
              "      border-top-color: var(--fill-color);\n",
              "      border-right-color: var(--fill-color);\n",
              "    }\n",
              "    40% {\n",
              "      border-color: transparent;\n",
              "      border-right-color: var(--fill-color);\n",
              "      border-top-color: var(--fill-color);\n",
              "    }\n",
              "    60% {\n",
              "      border-color: transparent;\n",
              "      border-right-color: var(--fill-color);\n",
              "    }\n",
              "    80% {\n",
              "      border-color: transparent;\n",
              "      border-right-color: var(--fill-color);\n",
              "      border-bottom-color: var(--fill-color);\n",
              "    }\n",
              "    90% {\n",
              "      border-color: transparent;\n",
              "      border-bottom-color: var(--fill-color);\n",
              "    }\n",
              "  }\n",
              "</style>\n",
              "\n",
              "  <script>\n",
              "    async function quickchart(key) {\n",
              "      const quickchartButtonEl =\n",
              "        document.querySelector('#' + key + ' button');\n",
              "      quickchartButtonEl.disabled = true;  // To prevent multiple clicks.\n",
              "      quickchartButtonEl.classList.add('colab-df-spinner');\n",
              "      try {\n",
              "        const charts = await google.colab.kernel.invokeFunction(\n",
              "            'suggestCharts', [key], {});\n",
              "      } catch (error) {\n",
              "        console.error('Error during call to suggestCharts:', error);\n",
              "      }\n",
              "      quickchartButtonEl.classList.remove('colab-df-spinner');\n",
              "      quickchartButtonEl.classList.add('colab-df-quickchart-complete');\n",
              "    }\n",
              "    (() => {\n",
              "      let quickchartButtonEl =\n",
              "        document.querySelector('#df-3717798d-b22e-4d20-850a-dc31018604d8 button');\n",
              "      quickchartButtonEl.style.display =\n",
              "        google.colab.kernel.accessAllowed ? 'block' : 'none';\n",
              "    })();\n",
              "  </script>\n",
              "</div>\n",
              "    </div>\n",
              "  </div>\n"
            ]
          },
          "metadata": {},
          "execution_count": 123
        }
      ]
    },
    {
      "cell_type": "markdown",
      "source": [
        "**5. Importación de datos html**"
      ],
      "metadata": {
        "id": "pbdK8gtQF-3N"
      }
    },
    {
      "cell_type": "code",
      "source": [
        "datos_html = pd.read_html('datos_html_1.html')\n",
        "datos_html[0]"
      ],
      "metadata": {
        "colab": {
          "base_uri": "https://localhost:8080/",
          "height": 0
        },
        "id": "-MzdvfVoF_ls",
        "outputId": "f730097c-b4aa-4af8-bfd9-45c338da1005"
      },
      "execution_count": 124,
      "outputs": [
        {
          "output_type": "execute_result",
          "data": {
            "text/plain": [
              "     Año                           Campeón                        Subcampeón  \\\n",
              "0   2018                           Francia                           Croacia   \n",
              "1   2014                          Alemania                         Argentina   \n",
              "2   2010                            España                           Holanda   \n",
              "3   2006                            Italia                           Francia   \n",
              "4   2002                            Brasil                          Alemania   \n",
              "..   ...                               ...                               ...   \n",
              "18  1946  No celebrado (II Guerra Mundial)  No celebrado (II Guerra Mundial)   \n",
              "19  1942  No celebrado (II Guerra Mundial)  No celebrado (II Guerra Mundial)   \n",
              "20  1938                            Italia                           Hungría   \n",
              "21  1934                            Italia                    Checoslovaquia   \n",
              "22  1930                           Uruguay                         Argentina   \n",
              "\n",
              "                                Sede  \n",
              "0                              Rusia  \n",
              "1                             Brasil  \n",
              "2                          Sudáfrica  \n",
              "3                           Alemania  \n",
              "4                   Corea S. y Japón  \n",
              "..                               ...  \n",
              "18  No celebrado (II Guerra Mundial)  \n",
              "19  No celebrado (II Guerra Mundial)  \n",
              "20                           Francia  \n",
              "21                            Italia  \n",
              "22                           Uruguay  \n",
              "\n",
              "[23 rows x 4 columns]"
            ],
            "text/html": [
              "\n",
              "  <div id=\"df-73be368e-62f8-4eef-8e42-7ce7f9cdb1d3\" class=\"colab-df-container\">\n",
              "    <div>\n",
              "<style scoped>\n",
              "    .dataframe tbody tr th:only-of-type {\n",
              "        vertical-align: middle;\n",
              "    }\n",
              "\n",
              "    .dataframe tbody tr th {\n",
              "        vertical-align: top;\n",
              "    }\n",
              "\n",
              "    .dataframe thead th {\n",
              "        text-align: right;\n",
              "    }\n",
              "</style>\n",
              "<table border=\"1\" class=\"dataframe\">\n",
              "  <thead>\n",
              "    <tr style=\"text-align: right;\">\n",
              "      <th></th>\n",
              "      <th>Año</th>\n",
              "      <th>Campeón</th>\n",
              "      <th>Subcampeón</th>\n",
              "      <th>Sede</th>\n",
              "    </tr>\n",
              "  </thead>\n",
              "  <tbody>\n",
              "    <tr>\n",
              "      <th>0</th>\n",
              "      <td>2018</td>\n",
              "      <td>Francia</td>\n",
              "      <td>Croacia</td>\n",
              "      <td>Rusia</td>\n",
              "    </tr>\n",
              "    <tr>\n",
              "      <th>1</th>\n",
              "      <td>2014</td>\n",
              "      <td>Alemania</td>\n",
              "      <td>Argentina</td>\n",
              "      <td>Brasil</td>\n",
              "    </tr>\n",
              "    <tr>\n",
              "      <th>2</th>\n",
              "      <td>2010</td>\n",
              "      <td>España</td>\n",
              "      <td>Holanda</td>\n",
              "      <td>Sudáfrica</td>\n",
              "    </tr>\n",
              "    <tr>\n",
              "      <th>3</th>\n",
              "      <td>2006</td>\n",
              "      <td>Italia</td>\n",
              "      <td>Francia</td>\n",
              "      <td>Alemania</td>\n",
              "    </tr>\n",
              "    <tr>\n",
              "      <th>4</th>\n",
              "      <td>2002</td>\n",
              "      <td>Brasil</td>\n",
              "      <td>Alemania</td>\n",
              "      <td>Corea S. y Japón</td>\n",
              "    </tr>\n",
              "    <tr>\n",
              "      <th>...</th>\n",
              "      <td>...</td>\n",
              "      <td>...</td>\n",
              "      <td>...</td>\n",
              "      <td>...</td>\n",
              "    </tr>\n",
              "    <tr>\n",
              "      <th>18</th>\n",
              "      <td>1946</td>\n",
              "      <td>No celebrado (II Guerra Mundial)</td>\n",
              "      <td>No celebrado (II Guerra Mundial)</td>\n",
              "      <td>No celebrado (II Guerra Mundial)</td>\n",
              "    </tr>\n",
              "    <tr>\n",
              "      <th>19</th>\n",
              "      <td>1942</td>\n",
              "      <td>No celebrado (II Guerra Mundial)</td>\n",
              "      <td>No celebrado (II Guerra Mundial)</td>\n",
              "      <td>No celebrado (II Guerra Mundial)</td>\n",
              "    </tr>\n",
              "    <tr>\n",
              "      <th>20</th>\n",
              "      <td>1938</td>\n",
              "      <td>Italia</td>\n",
              "      <td>Hungría</td>\n",
              "      <td>Francia</td>\n",
              "    </tr>\n",
              "    <tr>\n",
              "      <th>21</th>\n",
              "      <td>1934</td>\n",
              "      <td>Italia</td>\n",
              "      <td>Checoslovaquia</td>\n",
              "      <td>Italia</td>\n",
              "    </tr>\n",
              "    <tr>\n",
              "      <th>22</th>\n",
              "      <td>1930</td>\n",
              "      <td>Uruguay</td>\n",
              "      <td>Argentina</td>\n",
              "      <td>Uruguay</td>\n",
              "    </tr>\n",
              "  </tbody>\n",
              "</table>\n",
              "<p>23 rows × 4 columns</p>\n",
              "</div>\n",
              "    <div class=\"colab-df-buttons\">\n",
              "\n",
              "  <div class=\"colab-df-container\">\n",
              "    <button class=\"colab-df-convert\" onclick=\"convertToInteractive('df-73be368e-62f8-4eef-8e42-7ce7f9cdb1d3')\"\n",
              "            title=\"Convert this dataframe to an interactive table.\"\n",
              "            style=\"display:none;\">\n",
              "\n",
              "  <svg xmlns=\"http://www.w3.org/2000/svg\" height=\"24px\" viewBox=\"0 -960 960 960\">\n",
              "    <path d=\"M120-120v-720h720v720H120Zm60-500h600v-160H180v160Zm220 220h160v-160H400v160Zm0 220h160v-160H400v160ZM180-400h160v-160H180v160Zm440 0h160v-160H620v160ZM180-180h160v-160H180v160Zm440 0h160v-160H620v160Z\"/>\n",
              "  </svg>\n",
              "    </button>\n",
              "\n",
              "  <style>\n",
              "    .colab-df-container {\n",
              "      display:flex;\n",
              "      gap: 12px;\n",
              "    }\n",
              "\n",
              "    .colab-df-convert {\n",
              "      background-color: #E8F0FE;\n",
              "      border: none;\n",
              "      border-radius: 50%;\n",
              "      cursor: pointer;\n",
              "      display: none;\n",
              "      fill: #1967D2;\n",
              "      height: 32px;\n",
              "      padding: 0 0 0 0;\n",
              "      width: 32px;\n",
              "    }\n",
              "\n",
              "    .colab-df-convert:hover {\n",
              "      background-color: #E2EBFA;\n",
              "      box-shadow: 0px 1px 2px rgba(60, 64, 67, 0.3), 0px 1px 3px 1px rgba(60, 64, 67, 0.15);\n",
              "      fill: #174EA6;\n",
              "    }\n",
              "\n",
              "    .colab-df-buttons div {\n",
              "      margin-bottom: 4px;\n",
              "    }\n",
              "\n",
              "    [theme=dark] .colab-df-convert {\n",
              "      background-color: #3B4455;\n",
              "      fill: #D2E3FC;\n",
              "    }\n",
              "\n",
              "    [theme=dark] .colab-df-convert:hover {\n",
              "      background-color: #434B5C;\n",
              "      box-shadow: 0px 1px 3px 1px rgba(0, 0, 0, 0.15);\n",
              "      filter: drop-shadow(0px 1px 2px rgba(0, 0, 0, 0.3));\n",
              "      fill: #FFFFFF;\n",
              "    }\n",
              "  </style>\n",
              "\n",
              "    <script>\n",
              "      const buttonEl =\n",
              "        document.querySelector('#df-73be368e-62f8-4eef-8e42-7ce7f9cdb1d3 button.colab-df-convert');\n",
              "      buttonEl.style.display =\n",
              "        google.colab.kernel.accessAllowed ? 'block' : 'none';\n",
              "\n",
              "      async function convertToInteractive(key) {\n",
              "        const element = document.querySelector('#df-73be368e-62f8-4eef-8e42-7ce7f9cdb1d3');\n",
              "        const dataTable =\n",
              "          await google.colab.kernel.invokeFunction('convertToInteractive',\n",
              "                                                    [key], {});\n",
              "        if (!dataTable) return;\n",
              "\n",
              "        const docLinkHtml = 'Like what you see? Visit the ' +\n",
              "          '<a target=\"_blank\" href=https://colab.research.google.com/notebooks/data_table.ipynb>data table notebook</a>'\n",
              "          + ' to learn more about interactive tables.';\n",
              "        element.innerHTML = '';\n",
              "        dataTable['output_type'] = 'display_data';\n",
              "        await google.colab.output.renderOutput(dataTable, element);\n",
              "        const docLink = document.createElement('div');\n",
              "        docLink.innerHTML = docLinkHtml;\n",
              "        element.appendChild(docLink);\n",
              "      }\n",
              "    </script>\n",
              "  </div>\n",
              "\n",
              "\n",
              "<div id=\"df-d52a9ab8-1f65-4b40-b12b-1fe970a9ccdc\">\n",
              "  <button class=\"colab-df-quickchart\" onclick=\"quickchart('df-d52a9ab8-1f65-4b40-b12b-1fe970a9ccdc')\"\n",
              "            title=\"Suggest charts.\"\n",
              "            style=\"display:none;\">\n",
              "\n",
              "<svg xmlns=\"http://www.w3.org/2000/svg\" height=\"24px\"viewBox=\"0 0 24 24\"\n",
              "     width=\"24px\">\n",
              "    <g>\n",
              "        <path d=\"M19 3H5c-1.1 0-2 .9-2 2v14c0 1.1.9 2 2 2h14c1.1 0 2-.9 2-2V5c0-1.1-.9-2-2-2zM9 17H7v-7h2v7zm4 0h-2V7h2v10zm4 0h-2v-4h2v4z\"/>\n",
              "    </g>\n",
              "</svg>\n",
              "  </button>\n",
              "\n",
              "<style>\n",
              "  .colab-df-quickchart {\n",
              "      --bg-color: #E8F0FE;\n",
              "      --fill-color: #1967D2;\n",
              "      --hover-bg-color: #E2EBFA;\n",
              "      --hover-fill-color: #174EA6;\n",
              "      --disabled-fill-color: #AAA;\n",
              "      --disabled-bg-color: #DDD;\n",
              "  }\n",
              "\n",
              "  [theme=dark] .colab-df-quickchart {\n",
              "      --bg-color: #3B4455;\n",
              "      --fill-color: #D2E3FC;\n",
              "      --hover-bg-color: #434B5C;\n",
              "      --hover-fill-color: #FFFFFF;\n",
              "      --disabled-bg-color: #3B4455;\n",
              "      --disabled-fill-color: #666;\n",
              "  }\n",
              "\n",
              "  .colab-df-quickchart {\n",
              "    background-color: var(--bg-color);\n",
              "    border: none;\n",
              "    border-radius: 50%;\n",
              "    cursor: pointer;\n",
              "    display: none;\n",
              "    fill: var(--fill-color);\n",
              "    height: 32px;\n",
              "    padding: 0;\n",
              "    width: 32px;\n",
              "  }\n",
              "\n",
              "  .colab-df-quickchart:hover {\n",
              "    background-color: var(--hover-bg-color);\n",
              "    box-shadow: 0 1px 2px rgba(60, 64, 67, 0.3), 0 1px 3px 1px rgba(60, 64, 67, 0.15);\n",
              "    fill: var(--button-hover-fill-color);\n",
              "  }\n",
              "\n",
              "  .colab-df-quickchart-complete:disabled,\n",
              "  .colab-df-quickchart-complete:disabled:hover {\n",
              "    background-color: var(--disabled-bg-color);\n",
              "    fill: var(--disabled-fill-color);\n",
              "    box-shadow: none;\n",
              "  }\n",
              "\n",
              "  .colab-df-spinner {\n",
              "    border: 2px solid var(--fill-color);\n",
              "    border-color: transparent;\n",
              "    border-bottom-color: var(--fill-color);\n",
              "    animation:\n",
              "      spin 1s steps(1) infinite;\n",
              "  }\n",
              "\n",
              "  @keyframes spin {\n",
              "    0% {\n",
              "      border-color: transparent;\n",
              "      border-bottom-color: var(--fill-color);\n",
              "      border-left-color: var(--fill-color);\n",
              "    }\n",
              "    20% {\n",
              "      border-color: transparent;\n",
              "      border-left-color: var(--fill-color);\n",
              "      border-top-color: var(--fill-color);\n",
              "    }\n",
              "    30% {\n",
              "      border-color: transparent;\n",
              "      border-left-color: var(--fill-color);\n",
              "      border-top-color: var(--fill-color);\n",
              "      border-right-color: var(--fill-color);\n",
              "    }\n",
              "    40% {\n",
              "      border-color: transparent;\n",
              "      border-right-color: var(--fill-color);\n",
              "      border-top-color: var(--fill-color);\n",
              "    }\n",
              "    60% {\n",
              "      border-color: transparent;\n",
              "      border-right-color: var(--fill-color);\n",
              "    }\n",
              "    80% {\n",
              "      border-color: transparent;\n",
              "      border-right-color: var(--fill-color);\n",
              "      border-bottom-color: var(--fill-color);\n",
              "    }\n",
              "    90% {\n",
              "      border-color: transparent;\n",
              "      border-bottom-color: var(--fill-color);\n",
              "    }\n",
              "  }\n",
              "</style>\n",
              "\n",
              "  <script>\n",
              "    async function quickchart(key) {\n",
              "      const quickchartButtonEl =\n",
              "        document.querySelector('#' + key + ' button');\n",
              "      quickchartButtonEl.disabled = true;  // To prevent multiple clicks.\n",
              "      quickchartButtonEl.classList.add('colab-df-spinner');\n",
              "      try {\n",
              "        const charts = await google.colab.kernel.invokeFunction(\n",
              "            'suggestCharts', [key], {});\n",
              "      } catch (error) {\n",
              "        console.error('Error during call to suggestCharts:', error);\n",
              "      }\n",
              "      quickchartButtonEl.classList.remove('colab-df-spinner');\n",
              "      quickchartButtonEl.classList.add('colab-df-quickchart-complete');\n",
              "    }\n",
              "    (() => {\n",
              "      let quickchartButtonEl =\n",
              "        document.querySelector('#df-d52a9ab8-1f65-4b40-b12b-1fe970a9ccdc button');\n",
              "      quickchartButtonEl.style.display =\n",
              "        google.colab.kernel.accessAllowed ? 'block' : 'none';\n",
              "    })();\n",
              "  </script>\n",
              "</div>\n",
              "    </div>\n",
              "  </div>\n"
            ]
          },
          "metadata": {},
          "execution_count": 124
        }
      ]
    },
    {
      "cell_type": "markdown",
      "source": [
        "**6. Importación de datos desde una\n",
        "base de datos SQL:**"
      ],
      "metadata": {
        "id": "vS77aKuAPkIb"
      }
    },
    {
      "cell_type": "code",
      "source": [
        "'''\n",
        "import pandas as pd\n",
        "import sqlite3\n",
        "\n",
        "Conectar a una base de datos SQL\n",
        "conexion = sqlite3.connect('basededatos.db')\n",
        "\n",
        "Cargar datos desde una consulta SQL\n",
        "query = \"SELECT * FROM tabla\"\n",
        "df_sql = pd.read_sql(query, conexion)\n",
        "'''"
      ],
      "metadata": {
        "colab": {
          "base_uri": "https://localhost:8080/",
          "height": 0
        },
        "id": "jYhi8lAGMcUg",
        "outputId": "a330bff8-1c46-4b34-f52f-d17915dbd55e"
      },
      "execution_count": 125,
      "outputs": [
        {
          "output_type": "execute_result",
          "data": {
            "text/plain": [
              "'\\nimport pandas as pd\\nimport sqlite3\\n\\nConectar a una base de datos SQL\\nconexion = sqlite3.connect(\\'basededatos.db\\')\\n\\nCargar datos desde una consulta SQL\\nquery = \"SELECT * FROM tabla\"\\ndf_sql = pd.read_sql(query, conexion)\\n'"
            ],
            "application/vnd.google.colaboratory.intrinsic+json": {
              "type": "string"
            }
          },
          "metadata": {},
          "execution_count": 125
        }
      ]
    },
    {
      "cell_type": "markdown",
      "source": [
        "**7. Importación de datos desde una URL:**"
      ],
      "metadata": {
        "id": "xXlbBGPtPkjO"
      }
    },
    {
      "cell_type": "code",
      "source": [
        "'''\n",
        "import pandas as pd\n",
        "\n",
        "# Cargar datos desde una URL\n",
        "url = 'https://ejemplo.com/datos.csv'\n",
        "df_url = pd.read_csv(url)\n",
        "'''"
      ],
      "metadata": {
        "colab": {
          "base_uri": "https://localhost:8080/",
          "height": 0
        },
        "id": "u94KlqM_McRT",
        "outputId": "8823911f-7b9f-4238-8e67-9efd2222a024"
      },
      "execution_count": 126,
      "outputs": [
        {
          "output_type": "execute_result",
          "data": {
            "text/plain": [
              "\"\\nimport pandas as pd\\n\\n# Cargar datos desde una URL\\nurl = 'https://ejemplo.com/datos.csv'\\ndf_url = pd.read_csv(url)\\n\""
            ],
            "application/vnd.google.colaboratory.intrinsic+json": {
              "type": "string"
            }
          },
          "metadata": {},
          "execution_count": 126
        }
      ]
    },
    {
      "cell_type": "code",
      "source": [
        "import requests\n",
        "\n",
        "# Realizar una solicitud GET a la URL de la página web\n",
        "url = 'https://www.federalreserve.gov/releases/h3/current/default.htm'\n",
        "response = requests.get(url)\n",
        "\n",
        "# Comprobar si la solicitud fue exitosa\n",
        "if response.status_code == 200:\n",
        "    # Utilizar pd.read_html() para extraer tablas HTML de la página\n",
        "    tablas_html = pd.read_html(response.text)\n",
        "\n",
        "    # Seleccionar la tabla correcta (puede requerir inspeccionar la página web)\n",
        "    # En este caso, asumimos que la tabla deseada es la primera en la lista\n",
        "    tabla = tablas_html[0]\n",
        "\n",
        "    # Crear un DataFrame de Pandas a partir de la tabla\n",
        "    df = pd.DataFrame(tabla)\n",
        "\n",
        "    # Mostrar el DataFrame\n",
        "    print(df)\n",
        "\n",
        "else:\n",
        "    print(\"La solicitud a la página web falló.\")\n"
      ],
      "metadata": {
        "colab": {
          "base_uri": "https://localhost:8080/"
        },
        "id": "VAdSUXFiExzm",
        "outputId": "3baf0d4d-217e-485a-c881-3c8d7b640b8c"
      },
      "execution_count": 127,
      "outputs": [
        {
          "output_type": "stream",
          "name": "stdout",
          "text": [
            "             Date      Reserve balances required                              \\\n",
            "             Date Reserve balance requirements 1 Top of penalty- free band 2   \n",
            "0         Month 7                        Month 7                     Month 7   \n",
            "1       Aug. 2019                         134639                      148114   \n",
            "2      Sept. 2019                         134707                      148188   \n",
            "3       Oct. 2019                         134998                      148509   \n",
            "4       Nov. 2019                         140705                      154787   \n",
            "..            ...                            ...                         ...   \n",
            "16  July 15, 2020                              0                           0   \n",
            "17  July 29, 2020                              0                           0   \n",
            "18  Aug. 12, 2020                              0                           0   \n",
            "19  Aug. 26, 2020                              0                           0   \n",
            "20  Sept. 9, 2020                              0                           0   \n",
            "\n",
            "                                  Reserve balances maintained 4  \\\n",
            "   Bottom of penalty- free band 3                         Total   \n",
            "0                         Month 7                       Month 7   \n",
            "1                          121167                       1520876   \n",
            "2                          121227                       1439771   \n",
            "3                          121489                       1481513   \n",
            "4                          126625                       1529341   \n",
            "..                            ...                           ...   \n",
            "16                              0                       2795785   \n",
            "17                              0                       2623526   \n",
            "18                              0                       2751124   \n",
            "19                              0                       2821740   \n",
            "20                              0                       2854690   \n",
            "\n",
            "                                                                  \\\n",
            "   Balances maintained to satisfy reserve balance requirements 5   \n",
            "0                                             Month 7              \n",
            "1                                              147555              \n",
            "2                                              147498              \n",
            "3                                              148050              \n",
            "4                                              154256              \n",
            "..                                                ...              \n",
            "16                                                  0              \n",
            "17                                                  0              \n",
            "18                                                  0              \n",
            "19                                                  0              \n",
            "20                                                  0              \n",
            "\n",
            "                                                                        \n",
            "   Balances maintained that exceed the top of the penalty- free band 6  \n",
            "0                                             Month 7                   \n",
            "1                                             1373321                   \n",
            "2                                             1292273                   \n",
            "3                                             1333462                   \n",
            "4                                             1375085                   \n",
            "..                                                ...                   \n",
            "16                                            2795785                   \n",
            "17                                            2623526                   \n",
            "18                                            2751124                   \n",
            "19                                            2821740                   \n",
            "20                                            2854690                   \n",
            "\n",
            "[21 rows x 7 columns]\n"
          ]
        }
      ]
    },
    {
      "cell_type": "code",
      "source": [
        "df"
      ],
      "metadata": {
        "colab": {
          "base_uri": "https://localhost:8080/",
          "height": 0
        },
        "id": "B2M3S8d_DDNR",
        "outputId": "c63fb9e6-1781-403c-b299-a0b8c54f9850"
      },
      "execution_count": 128,
      "outputs": [
        {
          "output_type": "execute_result",
          "data": {
            "text/plain": [
              "             Date      Reserve balances required                              \\\n",
              "             Date Reserve balance requirements 1 Top of penalty- free band 2   \n",
              "0         Month 7                        Month 7                     Month 7   \n",
              "1       Aug. 2019                         134639                      148114   \n",
              "2      Sept. 2019                         134707                      148188   \n",
              "3       Oct. 2019                         134998                      148509   \n",
              "4       Nov. 2019                         140705                      154787   \n",
              "..            ...                            ...                         ...   \n",
              "16  July 15, 2020                              0                           0   \n",
              "17  July 29, 2020                              0                           0   \n",
              "18  Aug. 12, 2020                              0                           0   \n",
              "19  Aug. 26, 2020                              0                           0   \n",
              "20  Sept. 9, 2020                              0                           0   \n",
              "\n",
              "                                  Reserve balances maintained 4  \\\n",
              "   Bottom of penalty- free band 3                         Total   \n",
              "0                         Month 7                       Month 7   \n",
              "1                          121167                       1520876   \n",
              "2                          121227                       1439771   \n",
              "3                          121489                       1481513   \n",
              "4                          126625                       1529341   \n",
              "..                            ...                           ...   \n",
              "16                              0                       2795785   \n",
              "17                              0                       2623526   \n",
              "18                              0                       2751124   \n",
              "19                              0                       2821740   \n",
              "20                              0                       2854690   \n",
              "\n",
              "                                                                  \\\n",
              "   Balances maintained to satisfy reserve balance requirements 5   \n",
              "0                                             Month 7              \n",
              "1                                              147555              \n",
              "2                                              147498              \n",
              "3                                              148050              \n",
              "4                                              154256              \n",
              "..                                                ...              \n",
              "16                                                  0              \n",
              "17                                                  0              \n",
              "18                                                  0              \n",
              "19                                                  0              \n",
              "20                                                  0              \n",
              "\n",
              "                                                                        \n",
              "   Balances maintained that exceed the top of the penalty- free band 6  \n",
              "0                                             Month 7                   \n",
              "1                                             1373321                   \n",
              "2                                             1292273                   \n",
              "3                                             1333462                   \n",
              "4                                             1375085                   \n",
              "..                                                ...                   \n",
              "16                                            2795785                   \n",
              "17                                            2623526                   \n",
              "18                                            2751124                   \n",
              "19                                            2821740                   \n",
              "20                                            2854690                   \n",
              "\n",
              "[21 rows x 7 columns]"
            ],
            "text/html": [
              "\n",
              "  <div id=\"df-cd8ca899-f824-4571-9fa4-44e2f1f7b17a\" class=\"colab-df-container\">\n",
              "    <div>\n",
              "<style scoped>\n",
              "    .dataframe tbody tr th:only-of-type {\n",
              "        vertical-align: middle;\n",
              "    }\n",
              "\n",
              "    .dataframe tbody tr th {\n",
              "        vertical-align: top;\n",
              "    }\n",
              "\n",
              "    .dataframe thead tr th {\n",
              "        text-align: left;\n",
              "    }\n",
              "</style>\n",
              "<table border=\"1\" class=\"dataframe\">\n",
              "  <thead>\n",
              "    <tr>\n",
              "      <th></th>\n",
              "      <th>Date</th>\n",
              "      <th colspan=\"3\" halign=\"left\">Reserve balances required</th>\n",
              "      <th colspan=\"3\" halign=\"left\">Reserve balances maintained 4</th>\n",
              "    </tr>\n",
              "    <tr>\n",
              "      <th></th>\n",
              "      <th>Date</th>\n",
              "      <th>Reserve balance requirements 1</th>\n",
              "      <th>Top of penalty- free band 2</th>\n",
              "      <th>Bottom of penalty- free band 3</th>\n",
              "      <th>Total</th>\n",
              "      <th>Balances maintained to satisfy reserve balance requirements 5</th>\n",
              "      <th>Balances maintained that exceed the top of the penalty- free band 6</th>\n",
              "    </tr>\n",
              "  </thead>\n",
              "  <tbody>\n",
              "    <tr>\n",
              "      <th>0</th>\n",
              "      <td>Month 7</td>\n",
              "      <td>Month 7</td>\n",
              "      <td>Month 7</td>\n",
              "      <td>Month 7</td>\n",
              "      <td>Month 7</td>\n",
              "      <td>Month 7</td>\n",
              "      <td>Month 7</td>\n",
              "    </tr>\n",
              "    <tr>\n",
              "      <th>1</th>\n",
              "      <td>Aug. 2019</td>\n",
              "      <td>134639</td>\n",
              "      <td>148114</td>\n",
              "      <td>121167</td>\n",
              "      <td>1520876</td>\n",
              "      <td>147555</td>\n",
              "      <td>1373321</td>\n",
              "    </tr>\n",
              "    <tr>\n",
              "      <th>2</th>\n",
              "      <td>Sept. 2019</td>\n",
              "      <td>134707</td>\n",
              "      <td>148188</td>\n",
              "      <td>121227</td>\n",
              "      <td>1439771</td>\n",
              "      <td>147498</td>\n",
              "      <td>1292273</td>\n",
              "    </tr>\n",
              "    <tr>\n",
              "      <th>3</th>\n",
              "      <td>Oct. 2019</td>\n",
              "      <td>134998</td>\n",
              "      <td>148509</td>\n",
              "      <td>121489</td>\n",
              "      <td>1481513</td>\n",
              "      <td>148050</td>\n",
              "      <td>1333462</td>\n",
              "    </tr>\n",
              "    <tr>\n",
              "      <th>4</th>\n",
              "      <td>Nov. 2019</td>\n",
              "      <td>140705</td>\n",
              "      <td>154787</td>\n",
              "      <td>126625</td>\n",
              "      <td>1529341</td>\n",
              "      <td>154256</td>\n",
              "      <td>1375085</td>\n",
              "    </tr>\n",
              "    <tr>\n",
              "      <th>...</th>\n",
              "      <td>...</td>\n",
              "      <td>...</td>\n",
              "      <td>...</td>\n",
              "      <td>...</td>\n",
              "      <td>...</td>\n",
              "      <td>...</td>\n",
              "      <td>...</td>\n",
              "    </tr>\n",
              "    <tr>\n",
              "      <th>16</th>\n",
              "      <td>July 15, 2020</td>\n",
              "      <td>0</td>\n",
              "      <td>0</td>\n",
              "      <td>0</td>\n",
              "      <td>2795785</td>\n",
              "      <td>0</td>\n",
              "      <td>2795785</td>\n",
              "    </tr>\n",
              "    <tr>\n",
              "      <th>17</th>\n",
              "      <td>July 29, 2020</td>\n",
              "      <td>0</td>\n",
              "      <td>0</td>\n",
              "      <td>0</td>\n",
              "      <td>2623526</td>\n",
              "      <td>0</td>\n",
              "      <td>2623526</td>\n",
              "    </tr>\n",
              "    <tr>\n",
              "      <th>18</th>\n",
              "      <td>Aug. 12, 2020</td>\n",
              "      <td>0</td>\n",
              "      <td>0</td>\n",
              "      <td>0</td>\n",
              "      <td>2751124</td>\n",
              "      <td>0</td>\n",
              "      <td>2751124</td>\n",
              "    </tr>\n",
              "    <tr>\n",
              "      <th>19</th>\n",
              "      <td>Aug. 26, 2020</td>\n",
              "      <td>0</td>\n",
              "      <td>0</td>\n",
              "      <td>0</td>\n",
              "      <td>2821740</td>\n",
              "      <td>0</td>\n",
              "      <td>2821740</td>\n",
              "    </tr>\n",
              "    <tr>\n",
              "      <th>20</th>\n",
              "      <td>Sept. 9, 2020</td>\n",
              "      <td>0</td>\n",
              "      <td>0</td>\n",
              "      <td>0</td>\n",
              "      <td>2854690</td>\n",
              "      <td>0</td>\n",
              "      <td>2854690</td>\n",
              "    </tr>\n",
              "  </tbody>\n",
              "</table>\n",
              "<p>21 rows × 7 columns</p>\n",
              "</div>\n",
              "    <div class=\"colab-df-buttons\">\n",
              "\n",
              "  <div class=\"colab-df-container\">\n",
              "    <button class=\"colab-df-convert\" onclick=\"convertToInteractive('df-cd8ca899-f824-4571-9fa4-44e2f1f7b17a')\"\n",
              "            title=\"Convert this dataframe to an interactive table.\"\n",
              "            style=\"display:none;\">\n",
              "\n",
              "  <svg xmlns=\"http://www.w3.org/2000/svg\" height=\"24px\" viewBox=\"0 -960 960 960\">\n",
              "    <path d=\"M120-120v-720h720v720H120Zm60-500h600v-160H180v160Zm220 220h160v-160H400v160Zm0 220h160v-160H400v160ZM180-400h160v-160H180v160Zm440 0h160v-160H620v160ZM180-180h160v-160H180v160Zm440 0h160v-160H620v160Z\"/>\n",
              "  </svg>\n",
              "    </button>\n",
              "\n",
              "  <style>\n",
              "    .colab-df-container {\n",
              "      display:flex;\n",
              "      gap: 12px;\n",
              "    }\n",
              "\n",
              "    .colab-df-convert {\n",
              "      background-color: #E8F0FE;\n",
              "      border: none;\n",
              "      border-radius: 50%;\n",
              "      cursor: pointer;\n",
              "      display: none;\n",
              "      fill: #1967D2;\n",
              "      height: 32px;\n",
              "      padding: 0 0 0 0;\n",
              "      width: 32px;\n",
              "    }\n",
              "\n",
              "    .colab-df-convert:hover {\n",
              "      background-color: #E2EBFA;\n",
              "      box-shadow: 0px 1px 2px rgba(60, 64, 67, 0.3), 0px 1px 3px 1px rgba(60, 64, 67, 0.15);\n",
              "      fill: #174EA6;\n",
              "    }\n",
              "\n",
              "    .colab-df-buttons div {\n",
              "      margin-bottom: 4px;\n",
              "    }\n",
              "\n",
              "    [theme=dark] .colab-df-convert {\n",
              "      background-color: #3B4455;\n",
              "      fill: #D2E3FC;\n",
              "    }\n",
              "\n",
              "    [theme=dark] .colab-df-convert:hover {\n",
              "      background-color: #434B5C;\n",
              "      box-shadow: 0px 1px 3px 1px rgba(0, 0, 0, 0.15);\n",
              "      filter: drop-shadow(0px 1px 2px rgba(0, 0, 0, 0.3));\n",
              "      fill: #FFFFFF;\n",
              "    }\n",
              "  </style>\n",
              "\n",
              "    <script>\n",
              "      const buttonEl =\n",
              "        document.querySelector('#df-cd8ca899-f824-4571-9fa4-44e2f1f7b17a button.colab-df-convert');\n",
              "      buttonEl.style.display =\n",
              "        google.colab.kernel.accessAllowed ? 'block' : 'none';\n",
              "\n",
              "      async function convertToInteractive(key) {\n",
              "        const element = document.querySelector('#df-cd8ca899-f824-4571-9fa4-44e2f1f7b17a');\n",
              "        const dataTable =\n",
              "          await google.colab.kernel.invokeFunction('convertToInteractive',\n",
              "                                                    [key], {});\n",
              "        if (!dataTable) return;\n",
              "\n",
              "        const docLinkHtml = 'Like what you see? Visit the ' +\n",
              "          '<a target=\"_blank\" href=https://colab.research.google.com/notebooks/data_table.ipynb>data table notebook</a>'\n",
              "          + ' to learn more about interactive tables.';\n",
              "        element.innerHTML = '';\n",
              "        dataTable['output_type'] = 'display_data';\n",
              "        await google.colab.output.renderOutput(dataTable, element);\n",
              "        const docLink = document.createElement('div');\n",
              "        docLink.innerHTML = docLinkHtml;\n",
              "        element.appendChild(docLink);\n",
              "      }\n",
              "    </script>\n",
              "  </div>\n",
              "\n",
              "\n",
              "<div id=\"df-8ecfff79-c150-45b7-9f83-a0784572b58e\">\n",
              "  <button class=\"colab-df-quickchart\" onclick=\"quickchart('df-8ecfff79-c150-45b7-9f83-a0784572b58e')\"\n",
              "            title=\"Suggest charts.\"\n",
              "            style=\"display:none;\">\n",
              "\n",
              "<svg xmlns=\"http://www.w3.org/2000/svg\" height=\"24px\"viewBox=\"0 0 24 24\"\n",
              "     width=\"24px\">\n",
              "    <g>\n",
              "        <path d=\"M19 3H5c-1.1 0-2 .9-2 2v14c0 1.1.9 2 2 2h14c1.1 0 2-.9 2-2V5c0-1.1-.9-2-2-2zM9 17H7v-7h2v7zm4 0h-2V7h2v10zm4 0h-2v-4h2v4z\"/>\n",
              "    </g>\n",
              "</svg>\n",
              "  </button>\n",
              "\n",
              "<style>\n",
              "  .colab-df-quickchart {\n",
              "      --bg-color: #E8F0FE;\n",
              "      --fill-color: #1967D2;\n",
              "      --hover-bg-color: #E2EBFA;\n",
              "      --hover-fill-color: #174EA6;\n",
              "      --disabled-fill-color: #AAA;\n",
              "      --disabled-bg-color: #DDD;\n",
              "  }\n",
              "\n",
              "  [theme=dark] .colab-df-quickchart {\n",
              "      --bg-color: #3B4455;\n",
              "      --fill-color: #D2E3FC;\n",
              "      --hover-bg-color: #434B5C;\n",
              "      --hover-fill-color: #FFFFFF;\n",
              "      --disabled-bg-color: #3B4455;\n",
              "      --disabled-fill-color: #666;\n",
              "  }\n",
              "\n",
              "  .colab-df-quickchart {\n",
              "    background-color: var(--bg-color);\n",
              "    border: none;\n",
              "    border-radius: 50%;\n",
              "    cursor: pointer;\n",
              "    display: none;\n",
              "    fill: var(--fill-color);\n",
              "    height: 32px;\n",
              "    padding: 0;\n",
              "    width: 32px;\n",
              "  }\n",
              "\n",
              "  .colab-df-quickchart:hover {\n",
              "    background-color: var(--hover-bg-color);\n",
              "    box-shadow: 0 1px 2px rgba(60, 64, 67, 0.3), 0 1px 3px 1px rgba(60, 64, 67, 0.15);\n",
              "    fill: var(--button-hover-fill-color);\n",
              "  }\n",
              "\n",
              "  .colab-df-quickchart-complete:disabled,\n",
              "  .colab-df-quickchart-complete:disabled:hover {\n",
              "    background-color: var(--disabled-bg-color);\n",
              "    fill: var(--disabled-fill-color);\n",
              "    box-shadow: none;\n",
              "  }\n",
              "\n",
              "  .colab-df-spinner {\n",
              "    border: 2px solid var(--fill-color);\n",
              "    border-color: transparent;\n",
              "    border-bottom-color: var(--fill-color);\n",
              "    animation:\n",
              "      spin 1s steps(1) infinite;\n",
              "  }\n",
              "\n",
              "  @keyframes spin {\n",
              "    0% {\n",
              "      border-color: transparent;\n",
              "      border-bottom-color: var(--fill-color);\n",
              "      border-left-color: var(--fill-color);\n",
              "    }\n",
              "    20% {\n",
              "      border-color: transparent;\n",
              "      border-left-color: var(--fill-color);\n",
              "      border-top-color: var(--fill-color);\n",
              "    }\n",
              "    30% {\n",
              "      border-color: transparent;\n",
              "      border-left-color: var(--fill-color);\n",
              "      border-top-color: var(--fill-color);\n",
              "      border-right-color: var(--fill-color);\n",
              "    }\n",
              "    40% {\n",
              "      border-color: transparent;\n",
              "      border-right-color: var(--fill-color);\n",
              "      border-top-color: var(--fill-color);\n",
              "    }\n",
              "    60% {\n",
              "      border-color: transparent;\n",
              "      border-right-color: var(--fill-color);\n",
              "    }\n",
              "    80% {\n",
              "      border-color: transparent;\n",
              "      border-right-color: var(--fill-color);\n",
              "      border-bottom-color: var(--fill-color);\n",
              "    }\n",
              "    90% {\n",
              "      border-color: transparent;\n",
              "      border-bottom-color: var(--fill-color);\n",
              "    }\n",
              "  }\n",
              "</style>\n",
              "\n",
              "  <script>\n",
              "    async function quickchart(key) {\n",
              "      const quickchartButtonEl =\n",
              "        document.querySelector('#' + key + ' button');\n",
              "      quickchartButtonEl.disabled = true;  // To prevent multiple clicks.\n",
              "      quickchartButtonEl.classList.add('colab-df-spinner');\n",
              "      try {\n",
              "        const charts = await google.colab.kernel.invokeFunction(\n",
              "            'suggestCharts', [key], {});\n",
              "      } catch (error) {\n",
              "        console.error('Error during call to suggestCharts:', error);\n",
              "      }\n",
              "      quickchartButtonEl.classList.remove('colab-df-spinner');\n",
              "      quickchartButtonEl.classList.add('colab-df-quickchart-complete');\n",
              "    }\n",
              "    (() => {\n",
              "      let quickchartButtonEl =\n",
              "        document.querySelector('#df-8ecfff79-c150-45b7-9f83-a0784572b58e button');\n",
              "      quickchartButtonEl.style.display =\n",
              "        google.colab.kernel.accessAllowed ? 'block' : 'none';\n",
              "    })();\n",
              "  </script>\n",
              "</div>\n",
              "    </div>\n",
              "  </div>\n"
            ]
          },
          "metadata": {},
          "execution_count": 128
        }
      ]
    },
    {
      "cell_type": "markdown",
      "source": [
        "# **3. Series**"
      ],
      "metadata": {
        "id": "Ok9Tr6mNPk_V"
      }
    },
    {
      "cell_type": "markdown",
      "source": [
        "**1.1 ¿Qué es una Serie en Pandas?**"
      ],
      "metadata": {
        "id": "hkxv0wn4Wkor"
      }
    },
    {
      "cell_type": "markdown",
      "source": [
        "Una Serie en Pandas es una estructura de datos unidimensional que representa una columna de datos. A diferencia de una lista de Python, una Serie tiene etiquetas de índice que permiten un acceso más flexible a los datos. Puedes pensar en una Serie como una columna en una hoja de cálculo o una sola dimensión de datos."
      ],
      "metadata": {
        "id": "IhK4UWdcWrDn"
      }
    },
    {
      "cell_type": "markdown",
      "source": [
        " La forma basica de crear una Serie es la siguinte manera:"
      ],
      "metadata": {
        "id": "wMnsw_AUZJEy"
      }
    },
    {
      "cell_type": "code",
      "source": [
        "'''\n",
        "Sintaxis:\n",
        "\n",
        "  s = pd.Series(datos, index = index)\n",
        "\n",
        "'''"
      ],
      "metadata": {
        "colab": {
          "base_uri": "https://localhost:8080/",
          "height": 35
        },
        "id": "crz0dzDTZKFo",
        "outputId": "8b506051-61db-4d1f-9510-013b372b3f9a"
      },
      "execution_count": 129,
      "outputs": [
        {
          "output_type": "execute_result",
          "data": {
            "text/plain": [
              "'\\nSintaxis:\\n\\n  s = pd.Series(datos, index = index)\\n\\n'"
            ],
            "application/vnd.google.colaboratory.intrinsic+json": {
              "type": "string"
            }
          },
          "metadata": {},
          "execution_count": 129
        }
      ]
    },
    {
      "cell_type": "markdown",
      "source": [
        "* **pd.Series:** Esto es una llamada al constructor de la clase Series en Pandas, que se utiliza para crear una Serie.\n",
        "\n",
        "* **datos:** Aquí debes proporcionar los datos que deseas almacenar en la Serie. Pueden ser una lista, una tupla, un diccionario o un array de NumPy, entre otros.\n",
        "\n",
        "* **index:** Este argumento es opcional y te permite especificar un índice personalizado para la Serie. El índice es la etiqueta asociada a cada elemento de la Serie. Si no se proporciona un índice, Pandas creará uno por defecto, comenzando desde 0 y aumentando en incrementos de 1."
      ],
      "metadata": {
        "id": "9jXhPFWJZa0z"
      }
    },
    {
      "cell_type": "markdown",
      "source": [
        "**Conceptos sobre las Series**"
      ],
      "metadata": {
        "id": "nwLE2Z4S-REu"
      }
    },
    {
      "cell_type": "markdown",
      "source": [
        "1. **Valores Nulos (NaN):** Las Series pueden contener valores nulos, que se representan en Pandas como NaN (Not-a-Number). Es fundamental entender cómo manejar y trabajar con estos valores nulos en tus Series, ya que pueden afectar cálculos y análisis. Los métodos **isna(), notna(), y dropna()** son útiles para lidiar con valores nulos.\n",
        "\n",
        "2. **Etiquetas de Índice Únicas:** Las etiquetas de índice en una Serie deben ser únicas. Si intentas crear una Serie con etiquetas de índice duplicadas, obtendrás un error.\n",
        "\n",
        "3. **Orden en una Serie:** Aunque las Series en Pandas tienen un orden implícito basado en las etiquetas de índice, no son equivalentes a una secuencia ordenada. Las Series no se ordenan automáticamente por los valores o las etiquetas de índice.\n",
        "\n",
        "4. **Operaciones Vectorizadas:** Las Series en Pandas están diseñadas para realizar operaciones vectorizadas de manera eficiente. Esto significa que puedes aplicar una operación a toda la Serie sin necesidad de bucles.\n",
        "\n",
        "5. **Conversiones de Tipos de Datos:** Puedes convertir el tipo de datos de una Serie a otro utilizando métodos como **astype()**. Esto es útil para realizar cálculos y análisis específicos.\n",
        "\n",
        "6. **Concatenación y Combinación:** Puedes concatenar y combinar varias Series en una sola Serie o DataFrame utilizando funciones como **concat() y combine_first()**.\n",
        "\n",
        "7. **Indexación Jerárquica:** Las Series pueden tener índices jerárquicos (MultiIndex), lo que permite representar datos multidimensionales en una estructura unidimensional.\n",
        "\n",
        "8. **Graficación y Visualización:** Pandas proporciona funcionalidades para la visualización de datos, lo que facilita la creación de gráficos a partir de Series. Puedes utilizar bibliotecas como Matplotlib junto con Pandas para crear visualizaciones.\n",
        "\n",
        "9. **Ordenamiento y Clasificación:** Puedes ordenar una Serie por etiquetas de índice o valores utilizando métodos como **sort_index() y sort_values()**. Esto es útil para organizar tus datos de manera específica.\n",
        "\n",
        "10. **Operaciones entre Series:** Puedes realizar operaciones matemáticas y lógicas entre Series si tienen etiquetas de índice coincidentes. Las operaciones se alinearán automáticamente según las etiquetas de índice.\n",
        "\n",
        "11. **Interpolación:** Pandas ofrece métodos para realizar interpolación de datos faltantes o para suavizar Series de datos.\n",
        "\n",
        "12. **Exportación e Importación de Datos:** Puedes exportar una Serie a diferentes formatos de archivo, como CSV, Excel, o HDF5, y luego importarla nuevamente en Pandas."
      ],
      "metadata": {
        "id": "4OYcxHp5-Rfx"
      }
    },
    {
      "cell_type": "markdown",
      "source": [
        "**1.2 Creación de Series**"
      ],
      "metadata": {
        "id": "LLZiNMkLWrAU"
      }
    },
    {
      "cell_type": "markdown",
      "source": [
        "Crear una Serie en Pandas es simple. Puedes crear una Serie a partir de una lista, una tupla, un diccionario o un array de NumPy. Aquí tienes ejemplos:"
      ],
      "metadata": {
        "id": "0850mcdJWq89"
      }
    },
    {
      "cell_type": "code",
      "source": [
        "import pandas as pd"
      ],
      "metadata": {
        "id": "y_P6we18XY7I"
      },
      "execution_count": 130,
      "outputs": []
    },
    {
      "cell_type": "markdown",
      "source": [
        "1. **Lista**"
      ],
      "metadata": {
        "id": "XdgTAoYlZ5Km"
      }
    },
    {
      "cell_type": "code",
      "source": [
        "# Crear una Serie a partir de una lista\n",
        "datos = [1, 2, 3, 4, 5]\n",
        "serie = pd.Series(datos)"
      ],
      "metadata": {
        "id": "vkN6m-oX3hIm"
      },
      "execution_count": 131,
      "outputs": []
    },
    {
      "cell_type": "code",
      "source": [
        "serie"
      ],
      "metadata": {
        "colab": {
          "base_uri": "https://localhost:8080/"
        },
        "id": "Rg_EOrFeZ2Qj",
        "outputId": "1f99a5e3-da90-4bb5-df3e-7417343617e8"
      },
      "execution_count": 132,
      "outputs": [
        {
          "output_type": "execute_result",
          "data": {
            "text/plain": [
              "0    1\n",
              "1    2\n",
              "2    3\n",
              "3    4\n",
              "4    5\n",
              "dtype: int64"
            ]
          },
          "metadata": {},
          "execution_count": 132
        }
      ]
    },
    {
      "cell_type": "code",
      "source": [
        "type(serie)"
      ],
      "metadata": {
        "colab": {
          "base_uri": "https://localhost:8080/"
        },
        "id": "cdI_sEsIZ2GY",
        "outputId": "5073c31e-d0c6-453f-bebb-f3ce6ebe35ce"
      },
      "execution_count": 133,
      "outputs": [
        {
          "output_type": "execute_result",
          "data": {
            "text/plain": [
              "pandas.core.series.Series"
            ]
          },
          "metadata": {},
          "execution_count": 133
        }
      ]
    },
    {
      "cell_type": "markdown",
      "source": [
        "2. **Diccionario**"
      ],
      "metadata": {
        "id": "TjHsWWlvaKdX"
      }
    },
    {
      "cell_type": "code",
      "source": [
        "# Crear una Serie a partir de un diccionario\n",
        "diccionario = {'a': 10, 'b': 20, 'c': 30}\n",
        "serie_diccionario = pd.Series(diccionario)"
      ],
      "metadata": {
        "id": "PrBx8jSU3kXV"
      },
      "execution_count": 134,
      "outputs": []
    },
    {
      "cell_type": "code",
      "source": [
        "serie_diccionario"
      ],
      "metadata": {
        "colab": {
          "base_uri": "https://localhost:8080/"
        },
        "id": "kzZLhb4vZ14Y",
        "outputId": "c02f125e-f57c-4954-e9da-8e2c8f56560e"
      },
      "execution_count": 135,
      "outputs": [
        {
          "output_type": "execute_result",
          "data": {
            "text/plain": [
              "a    10\n",
              "b    20\n",
              "c    30\n",
              "dtype: int64"
            ]
          },
          "metadata": {},
          "execution_count": 135
        }
      ]
    },
    {
      "cell_type": "code",
      "source": [
        "type(serie_diccionario)"
      ],
      "metadata": {
        "colab": {
          "base_uri": "https://localhost:8080/"
        },
        "id": "9CgQXhKlaK06",
        "outputId": "4e98c300-57ec-472b-bd4a-902af03b561b"
      },
      "execution_count": 136,
      "outputs": [
        {
          "output_type": "execute_result",
          "data": {
            "text/plain": [
              "pandas.core.series.Series"
            ]
          },
          "metadata": {},
          "execution_count": 136
        }
      ]
    },
    {
      "cell_type": "markdown",
      "source": [
        "3. **Tupla**"
      ],
      "metadata": {
        "id": "dTY4rwL-aLVU"
      }
    },
    {
      "cell_type": "code",
      "source": [
        "# Crear una Serie a partir de una tupla\n",
        "tupla = (100, 200, 300, 400)\n",
        "serie_tupla = pd.Series(tupla)"
      ],
      "metadata": {
        "id": "EAfwek5t3nLs"
      },
      "execution_count": 137,
      "outputs": []
    },
    {
      "cell_type": "code",
      "source": [
        "serie_tupla"
      ],
      "metadata": {
        "colab": {
          "base_uri": "https://localhost:8080/"
        },
        "id": "6fajoq35aLvi",
        "outputId": "0d2fdabd-a702-4ad3-b47a-d05c510b9a7a"
      },
      "execution_count": 138,
      "outputs": [
        {
          "output_type": "execute_result",
          "data": {
            "text/plain": [
              "0    100\n",
              "1    200\n",
              "2    300\n",
              "3    400\n",
              "dtype: int64"
            ]
          },
          "metadata": {},
          "execution_count": 138
        }
      ]
    },
    {
      "cell_type": "code",
      "source": [
        "type(serie_tupla)"
      ],
      "metadata": {
        "colab": {
          "base_uri": "https://localhost:8080/"
        },
        "id": "BH_0Z0veaMAo",
        "outputId": "41d255ab-7733-4463-ea8e-b1919bdcce90"
      },
      "execution_count": 139,
      "outputs": [
        {
          "output_type": "execute_result",
          "data": {
            "text/plain": [
              "pandas.core.series.Series"
            ]
          },
          "metadata": {},
          "execution_count": 139
        }
      ]
    },
    {
      "cell_type": "markdown",
      "source": [
        "4. **Comprehension**"
      ],
      "metadata": {
        "id": "aBA-KYS7z7Ow"
      }
    },
    {
      "cell_type": "code",
      "source": [
        "# Crear un diccionario llamado 'data' utilizando una comprensión de diccionario\n",
        "# Cada clave será una etiqueta de índice en la Serie y el valor será el contenido de la Serie.\n",
        "data = {'Linea ' + str(i): i + 1 for i in range(5)}\n",
        "\n",
        "# Crear una Serie 's' a partir del diccionario 'data'\n",
        "s = pd.Series(data)\n",
        "\n",
        "# Mostrar la Serie 's'\n",
        "s\n"
      ],
      "metadata": {
        "colab": {
          "base_uri": "https://localhost:8080/"
        },
        "id": "nZtHTU100Aq5",
        "outputId": "394548b1-a0e8-455b-9160-8471f599d510"
      },
      "execution_count": 140,
      "outputs": [
        {
          "output_type": "execute_result",
          "data": {
            "text/plain": [
              "Linea 0    1\n",
              "Linea 1    2\n",
              "Linea 2    3\n",
              "Linea 3    4\n",
              "Linea 4    5\n",
              "dtype: int64"
            ]
          },
          "metadata": {},
          "execution_count": 140
        }
      ]
    },
    {
      "cell_type": "markdown",
      "source": [
        "**1.3 Indexación y Selección en Series**"
      ],
      "metadata": {
        "id": "OXq7ImKvWq5q"
      }
    },
    {
      "cell_type": "markdown",
      "source": [
        "Puedes acceder a los elementos de una Serie utilizando etiquetas de índice o posiciones numéricas. Aquí hay ejemplos de ambas formas:"
      ],
      "metadata": {
        "id": "pclLOY8UWq2O"
      }
    },
    {
      "cell_type": "code",
      "source": [
        "datos = [10, 20, 30, 40, 50]\n",
        "etiquetas = ['A', 'B', 'C', 'D', 'E']\n",
        "serie = pd.Series(datos, index=etiquetas)"
      ],
      "metadata": {
        "id": "1MqTDsMmXkqZ"
      },
      "execution_count": 141,
      "outputs": []
    },
    {
      "cell_type": "markdown",
      "source": [
        "Ahora, con esta Serie, exploraremos varios ejemplos de indexación y selección:"
      ],
      "metadata": {
        "id": "Vnh-zkKixbiD"
      }
    },
    {
      "cell_type": "code",
      "source": [
        "type(serie)"
      ],
      "metadata": {
        "colab": {
          "base_uri": "https://localhost:8080/"
        },
        "id": "N67Khfr-xnZc",
        "outputId": "e30e30b9-bf15-4c53-db88-b6b4f660fe38"
      },
      "execution_count": 142,
      "outputs": [
        {
          "output_type": "execute_result",
          "data": {
            "text/plain": [
              "pandas.core.series.Series"
            ]
          },
          "metadata": {},
          "execution_count": 142
        }
      ]
    },
    {
      "cell_type": "markdown",
      "source": [
        "1. **Indexación por Etiqueta de Índice:**"
      ],
      "metadata": {
        "id": "ZUiykLWCxi4v"
      }
    },
    {
      "cell_type": "code",
      "source": [
        "serie"
      ],
      "metadata": {
        "colab": {
          "base_uri": "https://localhost:8080/"
        },
        "id": "zlbjjcAXxsF6",
        "outputId": "f4d4a9da-19f6-4698-e2fb-a1e5aabba84f"
      },
      "execution_count": 143,
      "outputs": [
        {
          "output_type": "execute_result",
          "data": {
            "text/plain": [
              "A    10\n",
              "B    20\n",
              "C    30\n",
              "D    40\n",
              "E    50\n",
              "dtype: int64"
            ]
          },
          "metadata": {},
          "execution_count": 143
        }
      ]
    },
    {
      "cell_type": "code",
      "source": [
        "# Acceder al valor con etiqueta 'A'\n",
        "valor_a = serie['A']\n",
        "print(\"Valor de A:\", valor_a)\n",
        "\n",
        "# Acceder a múltiples valores por etiquetas de índice\n",
        "valores_bc = serie[['B', 'C']]\n",
        "print(\"Valores de B y C:\", valores_bc)"
      ],
      "metadata": {
        "colab": {
          "base_uri": "https://localhost:8080/"
        },
        "id": "a3vjCE-nxZlT",
        "outputId": "d5bd2a03-1342-4d2c-e97b-ed12e2fff442"
      },
      "execution_count": 144,
      "outputs": [
        {
          "output_type": "stream",
          "name": "stdout",
          "text": [
            "Valor de A: 10\n",
            "Valores de B y C: B    20\n",
            "C    30\n",
            "dtype: int64\n"
          ]
        }
      ]
    },
    {
      "cell_type": "markdown",
      "source": [
        "2. **Indexación por Posición Numérica:**"
      ],
      "metadata": {
        "id": "hwCmVzdhx40N"
      }
    },
    {
      "cell_type": "code",
      "source": [
        "serie"
      ],
      "metadata": {
        "colab": {
          "base_uri": "https://localhost:8080/"
        },
        "id": "Y9LhfpMSyOnR",
        "outputId": "ec85ea51-10d8-4a8f-cdd9-cc184118726d"
      },
      "execution_count": 145,
      "outputs": [
        {
          "output_type": "execute_result",
          "data": {
            "text/plain": [
              "A    10\n",
              "B    20\n",
              "C    30\n",
              "D    40\n",
              "E    50\n",
              "dtype: int64"
            ]
          },
          "metadata": {},
          "execution_count": 145
        }
      ]
    },
    {
      "cell_type": "code",
      "source": [
        "# Acceder al primer valor (posición 0)\n",
        "primer_valor = serie[0]\n",
        "print(\"Primer valor:\", primer_valor)\n",
        "\n",
        "# Acceder a un rango de valores por posición numérica\n",
        "valores_rango = serie[1:4]  # Devuelve desde la posición 1 hasta la 3\n",
        "print(\"Valores en posición 1 a 3:\", valores_rango)\n"
      ],
      "metadata": {
        "colab": {
          "base_uri": "https://localhost:8080/"
        },
        "id": "cRNfll8yxZhs",
        "outputId": "dd284e9b-caac-4f2d-9a58-ef8183eff593"
      },
      "execution_count": 146,
      "outputs": [
        {
          "output_type": "stream",
          "name": "stdout",
          "text": [
            "Primer valor: 10\n",
            "Valores en posición 1 a 3: B    20\n",
            "C    30\n",
            "D    40\n",
            "dtype: int64\n"
          ]
        }
      ]
    },
    {
      "cell_type": "markdown",
      "source": [
        "3. **Indexación con Expresiones Booleanas:**"
      ],
      "metadata": {
        "id": "OkJpjQ-ryGvV"
      }
    },
    {
      "cell_type": "code",
      "source": [
        "serie"
      ],
      "metadata": {
        "colab": {
          "base_uri": "https://localhost:8080/"
        },
        "id": "whvQR0VGyQCI",
        "outputId": "9765a50e-15d0-4710-f1a7-3044b06f940e"
      },
      "execution_count": 147,
      "outputs": [
        {
          "output_type": "execute_result",
          "data": {
            "text/plain": [
              "A    10\n",
              "B    20\n",
              "C    30\n",
              "D    40\n",
              "E    50\n",
              "dtype: int64"
            ]
          },
          "metadata": {},
          "execution_count": 147
        }
      ]
    },
    {
      "cell_type": "code",
      "source": [
        "# Usar una expresión booleana para filtrar valores\n",
        "mayores_a_30 = serie[serie > 30]\n",
        "print(\"Valores mayores a 30:\", mayores_a_30)\n"
      ],
      "metadata": {
        "colab": {
          "base_uri": "https://localhost:8080/"
        },
        "id": "_mm6PFTVxZd0",
        "outputId": "b7fa28ef-af04-442b-a34a-ea7732ccb00a"
      },
      "execution_count": 148,
      "outputs": [
        {
          "output_type": "stream",
          "name": "stdout",
          "text": [
            "Valores mayores a 30: D    40\n",
            "E    50\n",
            "dtype: int64\n"
          ]
        }
      ]
    },
    {
      "cell_type": "markdown",
      "source": [
        "4. **Uso de Métodos loc y iloc para Indexación:**"
      ],
      "metadata": {
        "id": "DQ6i953LyUOA"
      }
    },
    {
      "cell_type": "code",
      "source": [
        "serie"
      ],
      "metadata": {
        "colab": {
          "base_uri": "https://localhost:8080/"
        },
        "id": "MdvrOky3yYG3",
        "outputId": "8fd2f358-9214-495b-c6f7-11a8d2d6748a"
      },
      "execution_count": 149,
      "outputs": [
        {
          "output_type": "execute_result",
          "data": {
            "text/plain": [
              "A    10\n",
              "B    20\n",
              "C    30\n",
              "D    40\n",
              "E    50\n",
              "dtype: int64"
            ]
          },
          "metadata": {},
          "execution_count": 149
        }
      ]
    },
    {
      "cell_type": "code",
      "source": [
        "# Usar loc para acceder por etiquetas de índice\n",
        "valor_loc = serie.loc['D']\n",
        "print(\"Valor usando loc:\", valor_loc)\n",
        "\n",
        "# Usar iloc para acceder por posición numérica\n",
        "valor_iloc = serie.iloc[3]\n",
        "print(\"Valor usando iloc:\", valor_iloc)\n"
      ],
      "metadata": {
        "colab": {
          "base_uri": "https://localhost:8080/"
        },
        "id": "wNWek2jNyWbB",
        "outputId": "274715cd-4b7c-4bea-9472-bd5f9a7fadda"
      },
      "execution_count": 150,
      "outputs": [
        {
          "output_type": "stream",
          "name": "stdout",
          "text": [
            "Valor usando loc: 40\n",
            "Valor usando iloc: 40\n"
          ]
        }
      ]
    },
    {
      "cell_type": "markdown",
      "source": [
        "5. **Selección de Valores Nulos o No Nulos:**"
      ],
      "metadata": {
        "id": "IbvEWJcVybgg"
      }
    },
    {
      "cell_type": "code",
      "source": [
        "serie"
      ],
      "metadata": {
        "colab": {
          "base_uri": "https://localhost:8080/"
        },
        "id": "jxyU3mUuygNG",
        "outputId": "d23f9150-4836-4a10-a56e-32b984762867"
      },
      "execution_count": 151,
      "outputs": [
        {
          "output_type": "execute_result",
          "data": {
            "text/plain": [
              "A    10\n",
              "B    20\n",
              "C    30\n",
              "D    40\n",
              "E    50\n",
              "dtype: int64"
            ]
          },
          "metadata": {},
          "execution_count": 151
        }
      ]
    },
    {
      "cell_type": "code",
      "source": [
        "# Crear una Serie con valores nulos\n",
        "serie_con_nulos = pd.Series([1, None, 3, None, 5], index=['A', 'B', 'C', 'D', 'E'])\n",
        "\n",
        "# Seleccionar valores no nulos\n",
        "valores_no_nulos = serie_con_nulos[serie_con_nulos.notna()]\n",
        "print(\"Valores no nulos:\", valores_no_nulos)\n"
      ],
      "metadata": {
        "colab": {
          "base_uri": "https://localhost:8080/"
        },
        "id": "XCliZoctygb8",
        "outputId": "cd120bbc-5fc6-4027-8e03-c9409b042564"
      },
      "execution_count": 152,
      "outputs": [
        {
          "output_type": "stream",
          "name": "stdout",
          "text": [
            "Valores no nulos: A    1.0\n",
            "C    3.0\n",
            "E    5.0\n",
            "dtype: float64\n"
          ]
        }
      ]
    },
    {
      "cell_type": "markdown",
      "source": [
        "Estos ejemplos muestran diversas formas de indexar y seleccionar valores en una Serie de Pandas utilizando etiquetas de índice, posiciones numéricas y expresiones booleanas. Las funciones **loc y iloc** son especialmente útiles para una indexación precisa. Ten en cuenta que la selección de valores nulos o no nulos es esencial al trabajar con datos que pueden contener valores faltantes (NaN)."
      ],
      "metadata": {
        "id": "NcJ42w8iylYk"
      }
    },
    {
      "cell_type": "markdown",
      "source": [
        "**1.4 Operaciones en Series**"
      ],
      "metadata": {
        "id": "H0cm5iYWWqyZ"
      }
    },
    {
      "cell_type": "markdown",
      "source": [
        "Las Series permiten realizar varias operaciones, como cálculos matemáticos, filtrado de datos y aplicar funciones a los elementos. Algunas operaciones comunes incluyen:\n",
        "\n",
        "* Suma, resta, multiplicación y división de Series.\n",
        "* Aplicación de funciones a todos los elementos (por ejemplo, serie.apply(func)).\n",
        "* Filtrado de datos basado en condiciones (por ejemplo, serie[serie > 3])."
      ],
      "metadata": {
        "id": "9ueMJkoXN4Hn"
      }
    },
    {
      "cell_type": "code",
      "source": [
        "data = {'Linea ' + str(i): i + 1 for i in range(5)}\n",
        "s = pd.Series(data)\n",
        "s"
      ],
      "metadata": {
        "colab": {
          "base_uri": "https://localhost:8080/"
        },
        "id": "Ma3tYYVc05gG",
        "outputId": "1f16d2f2-d116-468b-a7b6-d5ce3d35e6c1"
      },
      "execution_count": 153,
      "outputs": [
        {
          "output_type": "execute_result",
          "data": {
            "text/plain": [
              "Linea 0    1\n",
              "Linea 1    2\n",
              "Linea 2    3\n",
              "Linea 3    4\n",
              "Linea 4    5\n",
              "dtype: int64"
            ]
          },
          "metadata": {},
          "execution_count": 153
        }
      ]
    },
    {
      "cell_type": "markdown",
      "source": [
        "**Suma:** Suma 2 a cada uno de sus elementos.\n",
        "\n"
      ],
      "metadata": {
        "id": "HAcFJOAk1Tqq"
      }
    },
    {
      "cell_type": "code",
      "source": [
        "s1 = s + 2\n",
        "s1"
      ],
      "metadata": {
        "colab": {
          "base_uri": "https://localhost:8080/"
        },
        "id": "V1PV_qLv05RC",
        "outputId": "624e3183-f06a-4889-e923-82bdadf4cd70"
      },
      "execution_count": 154,
      "outputs": [
        {
          "output_type": "execute_result",
          "data": {
            "text/plain": [
              "Linea 0    3\n",
              "Linea 1    4\n",
              "Linea 2    5\n",
              "Linea 3    6\n",
              "Linea 4    7\n",
              "dtype: int64"
            ]
          },
          "metadata": {},
          "execution_count": 154
        }
      ]
    },
    {
      "cell_type": "markdown",
      "source": [
        "1. **Operaciones entre series**"
      ],
      "metadata": {
        "id": "ChA95LSs14Lm"
      }
    },
    {
      "cell_type": "markdown",
      "source": [
        "Lo importante en las operaciones entre Series es que tengan etiquetas de índice coincidentes o, al menos, una superposición en las etiquetas de índice para que las operaciones se realicen correctamente.\n",
        "\n",
        "Pandas realiza operaciones basadas en las etiquetas de índice y, cuando se aplican operaciones, las alinea automáticamente en función de las etiquetas de índice. Esto significa que, si tienes dos Series con diferentes nombres pero con etiquetas de índice coincidentes, aún puedes realizar operaciones entre ellas."
      ],
      "metadata": {
        "id": "X51XT3RD1rcB"
      }
    },
    {
      "cell_type": "code",
      "source": [
        "s"
      ],
      "metadata": {
        "colab": {
          "base_uri": "https://localhost:8080/"
        },
        "id": "IC-U2OsD2DRa",
        "outputId": "4ba7efb6-7d0d-4150-9ca1-385653149c16"
      },
      "execution_count": 155,
      "outputs": [
        {
          "output_type": "execute_result",
          "data": {
            "text/plain": [
              "Linea 0    1\n",
              "Linea 1    2\n",
              "Linea 2    3\n",
              "Linea 3    4\n",
              "Linea 4    5\n",
              "dtype: int64"
            ]
          },
          "metadata": {},
          "execution_count": 155
        }
      ]
    },
    {
      "cell_type": "code",
      "source": [
        "s1"
      ],
      "metadata": {
        "colab": {
          "base_uri": "https://localhost:8080/"
        },
        "id": "BdaWj9L02DNM",
        "outputId": "cd6d7582-8add-4de9-f2c8-c6fc39d49ee6"
      },
      "execution_count": 156,
      "outputs": [
        {
          "output_type": "execute_result",
          "data": {
            "text/plain": [
              "Linea 0    3\n",
              "Linea 1    4\n",
              "Linea 2    5\n",
              "Linea 3    6\n",
              "Linea 4    7\n",
              "dtype: int64"
            ]
          },
          "metadata": {},
          "execution_count": 156
        }
      ]
    },
    {
      "cell_type": "code",
      "source": [
        "s2 = s1 + s\n",
        "s2"
      ],
      "metadata": {
        "colab": {
          "base_uri": "https://localhost:8080/"
        },
        "id": "XMWuBVSh2DIq",
        "outputId": "70def1e7-124d-475e-e33c-ad7aea2f0284"
      },
      "execution_count": 157,
      "outputs": [
        {
          "output_type": "execute_result",
          "data": {
            "text/plain": [
              "Linea 0     4\n",
              "Linea 1     6\n",
              "Linea 2     8\n",
              "Linea 3    10\n",
              "Linea 4    12\n",
              "dtype: int64"
            ]
          },
          "metadata": {},
          "execution_count": 157
        }
      ]
    },
    {
      "cell_type": "markdown",
      "source": [
        "En cambio si el indice no tuviera el mismo nombre apareceria como valor **NaN**"
      ],
      "metadata": {
        "id": "0wO3bSLI2N7q"
      }
    },
    {
      "cell_type": "markdown",
      "source": [
        "**1.5 Métodos Útiles para Series**"
      ],
      "metadata": {
        "id": "k7OBCEFYWbk6"
      }
    },
    {
      "cell_type": "markdown",
      "source": [
        "Las Series en Pandas ofrecen una variedad de métodos útiles para realizar tareas comunes de análisis de datos:\n"
      ],
      "metadata": {
        "id": "OhPpz_j2XxZN"
      }
    },
    {
      "cell_type": "markdown",
      "source": [
        "1. **Método head(n) y tail(n) - Muestra las primeras y últimas n filas de la Serie:**"
      ],
      "metadata": {
        "id": "_NYmIiFg2uX5"
      }
    },
    {
      "cell_type": "code",
      "source": [
        "serie"
      ],
      "metadata": {
        "colab": {
          "base_uri": "https://localhost:8080/"
        },
        "id": "TTs05B3Q7baZ",
        "outputId": "e2f7e868-9065-4a64-fd0c-6f2969e24aa8"
      },
      "execution_count": 158,
      "outputs": [
        {
          "output_type": "execute_result",
          "data": {
            "text/plain": [
              "A    10\n",
              "B    20\n",
              "C    30\n",
              "D    40\n",
              "E    50\n",
              "dtype: int64"
            ]
          },
          "metadata": {},
          "execution_count": 158
        }
      ]
    },
    {
      "cell_type": "code",
      "source": [
        "datos = [1, 2, 3, 4, 5, 6, 7, 8]\n",
        "etiquetas = ['A', 'B', 'C', 'D', 'E', 'F', 'G', 'H']\n",
        "serie = pd.Series(datos, index=etiquetas)\n",
        "\n",
        "# Mostrar las primeras 3 filas de la Serie\n",
        "primeras_tres = serie.head(3)\n",
        "print(\"Primeras 3 filas:\\n\", primeras_tres)\n",
        "\n",
        "# Mostrar las últimas 2 filas de la Serie\n",
        "ultimas_dos = serie.tail(2)\n",
        "print(\"\\nÚltimas 2 filas:\\n\", ultimas_dos)"
      ],
      "metadata": {
        "colab": {
          "base_uri": "https://localhost:8080/"
        },
        "id": "OmsbWS1e21-g",
        "outputId": "20e912d1-87ff-4d87-9685-237009b03be7"
      },
      "execution_count": 159,
      "outputs": [
        {
          "output_type": "stream",
          "name": "stdout",
          "text": [
            "Primeras 3 filas:\n",
            " A    1\n",
            "B    2\n",
            "C    3\n",
            "dtype: int64\n",
            "\n",
            "Últimas 2 filas:\n",
            " G    7\n",
            "H    8\n",
            "dtype: int64\n"
          ]
        }
      ]
    },
    {
      "cell_type": "markdown",
      "source": [
        "2. **Método unique() - Devuelve valores únicos de la Serie:**"
      ],
      "metadata": {
        "id": "HAwo7oeb3B5J"
      }
    },
    {
      "cell_type": "code",
      "source": [
        "serie"
      ],
      "metadata": {
        "colab": {
          "base_uri": "https://localhost:8080/"
        },
        "id": "h8SP8GDw7dkG",
        "outputId": "e2d1501e-fdae-44d4-87ed-a2b6af8af1b5"
      },
      "execution_count": 160,
      "outputs": [
        {
          "output_type": "execute_result",
          "data": {
            "text/plain": [
              "A    1\n",
              "B    2\n",
              "C    3\n",
              "D    4\n",
              "E    5\n",
              "F    6\n",
              "G    7\n",
              "H    8\n",
              "dtype: int64"
            ]
          },
          "metadata": {},
          "execution_count": 160
        }
      ]
    },
    {
      "cell_type": "code",
      "source": [
        "# Obtener valores únicos de la Serie\n",
        "valores_unicos = serie.unique()\n",
        "print(\"Valores únicos:\\n\", valores_unicos)"
      ],
      "metadata": {
        "colab": {
          "base_uri": "https://localhost:8080/"
        },
        "id": "9cxHZEjg3FzW",
        "outputId": "bba6ab48-c6b9-443a-bc50-322780e4012e"
      },
      "execution_count": 161,
      "outputs": [
        {
          "output_type": "stream",
          "name": "stdout",
          "text": [
            "Valores únicos:\n",
            " [1 2 3 4 5 6 7 8]\n"
          ]
        }
      ]
    },
    {
      "cell_type": "markdown",
      "source": [
        "3. **Método value_counts() - Devuelve recuentos de ocurrencias de cada valor único:**"
      ],
      "metadata": {
        "id": "gcnAmeH83Tnx"
      }
    },
    {
      "cell_type": "code",
      "source": [
        "serie"
      ],
      "metadata": {
        "colab": {
          "base_uri": "https://localhost:8080/"
        },
        "id": "haxC5mwn7fbG",
        "outputId": "c4a42fe9-760a-46eb-9f50-5937336f97a2"
      },
      "execution_count": 162,
      "outputs": [
        {
          "output_type": "execute_result",
          "data": {
            "text/plain": [
              "A    1\n",
              "B    2\n",
              "C    3\n",
              "D    4\n",
              "E    5\n",
              "F    6\n",
              "G    7\n",
              "H    8\n",
              "dtype: int64"
            ]
          },
          "metadata": {},
          "execution_count": 162
        }
      ]
    },
    {
      "cell_type": "code",
      "source": [
        "# Obtener recuentos de ocurrencias de cada valor único en la Serie\n",
        "recuentos = serie.value_counts()\n",
        "print(\"Recuentos de ocurrencias:\\n\", recuentos)"
      ],
      "metadata": {
        "colab": {
          "base_uri": "https://localhost:8080/"
        },
        "id": "KhO4ofNg4Mth",
        "outputId": "86dcc700-52b6-45a9-a95a-a082f795c1c6"
      },
      "execution_count": 163,
      "outputs": [
        {
          "output_type": "stream",
          "name": "stdout",
          "text": [
            "Recuentos de ocurrencias:\n",
            " 1    1\n",
            "2    1\n",
            "3    1\n",
            "4    1\n",
            "5    1\n",
            "6    1\n",
            "7    1\n",
            "8    1\n",
            "dtype: int64\n"
          ]
        }
      ]
    },
    {
      "cell_type": "markdown",
      "source": [
        "4. **Método isna() y notna() - Identifica valores nulos o no nulos:**"
      ],
      "metadata": {
        "id": "NLjYX97-4WrR"
      }
    },
    {
      "cell_type": "code",
      "source": [
        "serie"
      ],
      "metadata": {
        "colab": {
          "base_uri": "https://localhost:8080/"
        },
        "id": "xpY7EFcY7hQ8",
        "outputId": "29bf3021-96ee-4865-8370-a161318853bb"
      },
      "execution_count": 164,
      "outputs": [
        {
          "output_type": "execute_result",
          "data": {
            "text/plain": [
              "A    1\n",
              "B    2\n",
              "C    3\n",
              "D    4\n",
              "E    5\n",
              "F    6\n",
              "G    7\n",
              "H    8\n",
              "dtype: int64"
            ]
          },
          "metadata": {},
          "execution_count": 164
        }
      ]
    },
    {
      "cell_type": "code",
      "source": [
        "# Crear una Serie con valores nulos\n",
        "serie_con_nulos = pd.Series([1, None, 3, None, 5], index=['A', 'B', 'C', 'D', 'E'])\n",
        "\n",
        "# Identificar valores nulos en la Serie\n",
        "valores_nulos = serie_con_nulos.isna()\n",
        "print(\"Valores nulos:\\n\", valores_nulos)\n",
        "\n",
        "# Identificar valores no nulos en la Serie\n",
        "valores_no_nulos = serie_con_nulos.notna()\n",
        "print(\"\\nValores no nulos:\\n\", valores_no_nulos)\n"
      ],
      "metadata": {
        "colab": {
          "base_uri": "https://localhost:8080/"
        },
        "id": "u_Jd9X7n4XRy",
        "outputId": "c9c3a88b-a345-4452-f1e6-c795b9d7e104"
      },
      "execution_count": 165,
      "outputs": [
        {
          "output_type": "stream",
          "name": "stdout",
          "text": [
            "Valores nulos:\n",
            " A    False\n",
            "B     True\n",
            "C    False\n",
            "D     True\n",
            "E    False\n",
            "dtype: bool\n",
            "\n",
            "Valores no nulos:\n",
            " A     True\n",
            "B    False\n",
            "C     True\n",
            "D    False\n",
            "E     True\n",
            "dtype: bool\n"
          ]
        }
      ]
    },
    {
      "cell_type": "markdown",
      "source": [
        "5. **Método idxmax() e idxmin() - Devuelve el índice del valor máximo y mínimo:**"
      ],
      "metadata": {
        "id": "Wu1mTySP4Xx7"
      }
    },
    {
      "cell_type": "code",
      "source": [
        "serie"
      ],
      "metadata": {
        "colab": {
          "base_uri": "https://localhost:8080/"
        },
        "id": "Rh5Das1i7i_j",
        "outputId": "cfcfd0ca-3482-44dc-a4c5-1ff191c032c3"
      },
      "execution_count": 166,
      "outputs": [
        {
          "output_type": "execute_result",
          "data": {
            "text/plain": [
              "A    1\n",
              "B    2\n",
              "C    3\n",
              "D    4\n",
              "E    5\n",
              "F    6\n",
              "G    7\n",
              "H    8\n",
              "dtype: int64"
            ]
          },
          "metadata": {},
          "execution_count": 166
        }
      ]
    },
    {
      "cell_type": "code",
      "source": [
        "# Encontrar el índice del valor máximo en la Serie\n",
        "indice_max = serie.idxmax()\n",
        "print(\"Índice del valor máximo:\", indice_max)\n",
        "\n",
        "# Encontrar el índice del valor mínimo en la Serie\n",
        "indice_min = serie.idxmin()\n",
        "print(\"Índice del valor mínimo:\", indice_min)\n"
      ],
      "metadata": {
        "colab": {
          "base_uri": "https://localhost:8080/"
        },
        "id": "-n7Nd6ay4YJu",
        "outputId": "77b8d5d9-d296-4b96-f620-588d218fc29e"
      },
      "execution_count": 167,
      "outputs": [
        {
          "output_type": "stream",
          "name": "stdout",
          "text": [
            "Índice del valor máximo: H\n",
            "Índice del valor mínimo: A\n"
          ]
        }
      ]
    },
    {
      "cell_type": "markdown",
      "source": [
        "6. **Método map(diccionario) - Mapea los valores de la Serie según un diccionario:**"
      ],
      "metadata": {
        "id": "6M4frqec4Yc9"
      }
    },
    {
      "cell_type": "code",
      "source": [
        "serie"
      ],
      "metadata": {
        "colab": {
          "base_uri": "https://localhost:8080/"
        },
        "id": "iLfskUWv8POl",
        "outputId": "4826dcbc-fa3a-4a46-ba75-70daedd0d540"
      },
      "execution_count": 168,
      "outputs": [
        {
          "output_type": "execute_result",
          "data": {
            "text/plain": [
              "A    1\n",
              "B    2\n",
              "C    3\n",
              "D    4\n",
              "E    5\n",
              "F    6\n",
              "G    7\n",
              "H    8\n",
              "dtype: int64"
            ]
          },
          "metadata": {},
          "execution_count": 168
        }
      ]
    },
    {
      "cell_type": "code",
      "source": [
        "# Crear un diccionario para mapear valores\n",
        "diccionario_de_mapeo = {1: 'Uno', 2: 'Dos', 3: 'Tres', 4: 'Cuatro', 5: 'Cinco'}\n",
        "\n",
        "# Aplicar el mapeo a la Serie\n",
        "serie_mapeada = serie.map(diccionario_de_mapeo)\n",
        "print(\"Serie mapeada:\\n\", serie_mapeada)"
      ],
      "metadata": {
        "colab": {
          "base_uri": "https://localhost:8080/"
        },
        "id": "SmA7M2Sv75I4",
        "outputId": "16a9e96b-12d8-4f2a-c14d-805c0928f326"
      },
      "execution_count": 169,
      "outputs": [
        {
          "output_type": "stream",
          "name": "stdout",
          "text": [
            "Serie mapeada:\n",
            " A       Uno\n",
            "B       Dos\n",
            "C      Tres\n",
            "D    Cuatro\n",
            "E     Cinco\n",
            "F       NaN\n",
            "G       NaN\n",
            "H       NaN\n",
            "dtype: object\n"
          ]
        }
      ]
    },
    {
      "cell_type": "markdown",
      "source": [
        "7. **Método apply(func) - Aplica una función a cada elemento de la Serie:**"
      ],
      "metadata": {
        "id": "QlhGYe4s7uYt"
      }
    },
    {
      "cell_type": "code",
      "source": [
        "serie"
      ],
      "metadata": {
        "colab": {
          "base_uri": "https://localhost:8080/"
        },
        "id": "HrIsfOD48dgd",
        "outputId": "a1398a46-9a09-4026-b2e8-fa100530c8d9"
      },
      "execution_count": 170,
      "outputs": [
        {
          "output_type": "execute_result",
          "data": {
            "text/plain": [
              "A    1\n",
              "B    2\n",
              "C    3\n",
              "D    4\n",
              "E    5\n",
              "F    6\n",
              "G    7\n",
              "H    8\n",
              "dtype: int64"
            ]
          },
          "metadata": {},
          "execution_count": 170
        }
      ]
    },
    {
      "cell_type": "code",
      "source": [
        "# Definir una función para aplicar a los elementos de la Serie\n",
        "def duplicar(x):\n",
        "    return x * 2\n",
        "\n",
        "# Aplicar la función a la Serie\n",
        "serie_duplicada = serie.apply(duplicar)\n",
        "print(\"Serie duplicada:\\n\", serie_duplicada)"
      ],
      "metadata": {
        "colab": {
          "base_uri": "https://localhost:8080/"
        },
        "id": "AjF7bdKh7uy1",
        "outputId": "e61df5a6-c2a9-4c3a-c214-7e8b44855552"
      },
      "execution_count": 171,
      "outputs": [
        {
          "output_type": "stream",
          "name": "stdout",
          "text": [
            "Serie duplicada:\n",
            " A     2\n",
            "B     4\n",
            "C     6\n",
            "D     8\n",
            "E    10\n",
            "F    12\n",
            "G    14\n",
            "H    16\n",
            "dtype: int64\n"
          ]
        }
      ]
    },
    {
      "cell_type": "markdown",
      "source": [
        "8. **Método type() y len() - Devuelve el tipo de datos y la longitud de la Serie:**"
      ],
      "metadata": {
        "id": "KEGmPvqF7vLF"
      }
    },
    {
      "cell_type": "code",
      "source": [
        "serie"
      ],
      "metadata": {
        "colab": {
          "base_uri": "https://localhost:8080/"
        },
        "id": "JbiQ55fk8xiF",
        "outputId": "779063a5-9645-4352-e041-6785b87be90e"
      },
      "execution_count": 172,
      "outputs": [
        {
          "output_type": "execute_result",
          "data": {
            "text/plain": [
              "A    1\n",
              "B    2\n",
              "C    3\n",
              "D    4\n",
              "E    5\n",
              "F    6\n",
              "G    7\n",
              "H    8\n",
              "dtype: int64"
            ]
          },
          "metadata": {},
          "execution_count": 172
        }
      ]
    },
    {
      "cell_type": "code",
      "source": [
        "# Obtener el tipo de datos de la Serie\n",
        "tipo_de_datos = serie.dtype\n",
        "print(\"Tipo de datos de la Serie:\", tipo_de_datos)\n",
        "\n",
        "# Obtener la longitud de la Serie\n",
        "longitud = len(serie)\n",
        "print(\"Longitud de la Serie:\", longitud)\n"
      ],
      "metadata": {
        "colab": {
          "base_uri": "https://localhost:8080/"
        },
        "id": "viFgiwzS7vjO",
        "outputId": "370aea70-44a7-4fea-cb0f-221e3dad8b0a"
      },
      "execution_count": 173,
      "outputs": [
        {
          "output_type": "stream",
          "name": "stdout",
          "text": [
            "Tipo de datos de la Serie: int64\n",
            "Longitud de la Serie: 8\n"
          ]
        }
      ]
    },
    {
      "cell_type": "markdown",
      "source": [
        "9. **Método sample(n) - Devuelve una muestra aleatoria de n elementos de la Serie:**"
      ],
      "metadata": {
        "id": "uIDdAE6y83Nn"
      }
    },
    {
      "cell_type": "code",
      "source": [
        "serie"
      ],
      "metadata": {
        "colab": {
          "base_uri": "https://localhost:8080/"
        },
        "id": "4JLSJABR827N",
        "outputId": "da9a34f8-e69a-4c14-bee3-06055a48f621"
      },
      "execution_count": 174,
      "outputs": [
        {
          "output_type": "execute_result",
          "data": {
            "text/plain": [
              "A    1\n",
              "B    2\n",
              "C    3\n",
              "D    4\n",
              "E    5\n",
              "F    6\n",
              "G    7\n",
              "H    8\n",
              "dtype: int64"
            ]
          },
          "metadata": {},
          "execution_count": 174
        }
      ]
    },
    {
      "cell_type": "code",
      "source": [
        "# Obtener una muestra aleatoria de 3 elementos de la Serie\n",
        "muestra_aleatoria = serie.sample(3)\n",
        "print(\"Muestra aleatoria:\\n\", muestra_aleatoria)"
      ],
      "metadata": {
        "colab": {
          "base_uri": "https://localhost:8080/"
        },
        "id": "w0rnTbhO8rie",
        "outputId": "695d3887-4c99-4da6-cc6a-19ae2c5ec2f8"
      },
      "execution_count": 175,
      "outputs": [
        {
          "output_type": "stream",
          "name": "stdout",
          "text": [
            "Muestra aleatoria:\n",
            " A    1\n",
            "E    5\n",
            "D    4\n",
            "dtype: int64\n"
          ]
        }
      ]
    },
    {
      "cell_type": "markdown",
      "source": [
        "10. **Método drop_duplicates() - Elimina valores duplicados en la Serie:**"
      ],
      "metadata": {
        "id": "sd75_9rt9RhZ"
      }
    },
    {
      "cell_type": "code",
      "source": [
        "# Crear una Serie con valores duplicados\n",
        "datos = [1, 2, 2, 3, 3, 4, 5, 5]\n",
        "etiquetas = ['A', 'B', 'C', 'D', 'E', 'F', 'G', 'H']\n",
        "serie_con_duplicados = pd.Series(datos, index=etiquetas)\n",
        "\n",
        "# Eliminar valores duplicados y obtener una nueva Serie sin duplicados\n",
        "serie_sin_duplicados = serie_con_duplicados.drop_duplicates()\n",
        "\n",
        "print(\"Serie original con duplicados:\\n\", serie_con_duplicados)\n",
        "print(\"\\nSerie sin duplicados:\\n\", serie_sin_duplicados)"
      ],
      "metadata": {
        "colab": {
          "base_uri": "https://localhost:8080/"
        },
        "id": "X1xPWsN_9R7T",
        "outputId": "417b446f-8aad-4bd4-be31-0aeefbea977a"
      },
      "execution_count": 176,
      "outputs": [
        {
          "output_type": "stream",
          "name": "stdout",
          "text": [
            "Serie original con duplicados:\n",
            " A    1\n",
            "B    2\n",
            "C    2\n",
            "D    3\n",
            "E    3\n",
            "F    4\n",
            "G    5\n",
            "H    5\n",
            "dtype: int64\n",
            "\n",
            "Serie sin duplicados:\n",
            " A    1\n",
            "B    2\n",
            "D    3\n",
            "F    4\n",
            "G    5\n",
            "dtype: int64\n"
          ]
        }
      ]
    },
    {
      "cell_type": "markdown",
      "source": [
        "11. **Metodo astype() - Conversión de Tipo de Datos:**"
      ],
      "metadata": {
        "id": "u8HKhKl7_y5i"
      }
    },
    {
      "cell_type": "code",
      "source": [
        "# Convertir la Serie a tipo de datos entero\n",
        "datos = ['1', '2', '3', '4', '5'] # Tipo de elemnto str\n",
        "etiquetas = ['A', 'B', 'C', 'D', 'E']\n",
        "serie = pd.Series(datos, index=etiquetas)\n",
        "\n",
        "# Convertir la Serie a tipo de datos entero\n",
        "serie_enteros = serie.astype(int)\n",
        "print(\"Serie con tipo de datos entero:\\n\", serie_enteros)\n"
      ],
      "metadata": {
        "colab": {
          "base_uri": "https://localhost:8080/"
        },
        "id": "OBIXgjdR_zWy",
        "outputId": "30215e5b-341e-40c2-d833-ac8c72f3e62c"
      },
      "execution_count": 177,
      "outputs": [
        {
          "output_type": "stream",
          "name": "stdout",
          "text": [
            "Serie con tipo de datos entero:\n",
            " A    1\n",
            "B    2\n",
            "C    3\n",
            "D    4\n",
            "E    5\n",
            "dtype: int64\n"
          ]
        }
      ]
    },
    {
      "cell_type": "markdown",
      "source": [
        "En este ejemplo, la Serie **serie** contiene cadenas de texto que representan números. Utilizamos **astype(int)** para convertir los valores en la Serie a números enteros."
      ],
      "metadata": {
        "id": "nvueBvRmAOJs"
      }
    },
    {
      "cell_type": "markdown",
      "source": [
        "12. **Metodo concat() - Concatenación de Series:**"
      ],
      "metadata": {
        "id": "fd_m5I4V_zsa"
      }
    },
    {
      "cell_type": "code",
      "source": [
        "# Crear dos Series\n",
        "serie1 = pd.Series([1, 2, 3], index=['A', 'B', 'C'])\n",
        "serie2 = pd.Series([4, 5, 6], index=['D', 'E', 'F'])\n",
        "\n",
        "# Concatenar las dos Series en una nueva Serie\n",
        "serie_concatenada = pd.concat([serie1, serie2])\n",
        "print(\"Serie concatenada:\\n\", serie_concatenada)\n"
      ],
      "metadata": {
        "colab": {
          "base_uri": "https://localhost:8080/"
        },
        "id": "j_lrCkPD_0Bo",
        "outputId": "f9e0670b-ec39-4f27-d0c9-16edab064eb7"
      },
      "execution_count": 178,
      "outputs": [
        {
          "output_type": "stream",
          "name": "stdout",
          "text": [
            "Serie concatenada:\n",
            " A    1\n",
            "B    2\n",
            "C    3\n",
            "D    4\n",
            "E    5\n",
            "F    6\n",
            "dtype: int64\n"
          ]
        }
      ]
    },
    {
      "cell_type": "markdown",
      "source": [
        "En este ejemplo, concatenamos las dos Series **serie1** y **serie2** en una nueva Serie llamada **serie_concatenada**. Las etiquetas de índice se mantienen y se combinan en la nueva Serie."
      ],
      "metadata": {
        "id": "ONrx5OuO_0gF"
      }
    },
    {
      "cell_type": "markdown",
      "source": [
        "13. **Metodo combine_first() - Combinación de Series con Prioridad:**"
      ],
      "metadata": {
        "id": "-hqDZ-K7AjDl"
      }
    },
    {
      "cell_type": "code",
      "source": [
        "# Crear dos Series con valores faltantes\n",
        "serie1 = pd.Series([1, 2, None, 4], index=['A', 'B', 'C', 'D'])\n",
        "serie2 = pd.Series([10, None, 30, 40], index=['A', 'B', 'C', 'D'])\n",
        "\n",
        "# Combinar las dos Series dando prioridad a los valores de serie1\n",
        "serie_combinada = serie1.combine_first(serie2)\n",
        "print(\"Serie combinada con prioridad a serie1:\\n\", serie_combinada)"
      ],
      "metadata": {
        "colab": {
          "base_uri": "https://localhost:8080/"
        },
        "id": "j1u4tfh__01s",
        "outputId": "65947ba3-3665-4c29-e3d3-3e197ee7d6ad"
      },
      "execution_count": 179,
      "outputs": [
        {
          "output_type": "stream",
          "name": "stdout",
          "text": [
            "Serie combinada con prioridad a serie1:\n",
            " A     1.0\n",
            "B     2.0\n",
            "C    30.0\n",
            "D     4.0\n",
            "dtype: float64\n"
          ]
        }
      ]
    },
    {
      "cell_type": "markdown",
      "source": [
        "En este ejemplo, combinamos las dos Series **serie1** y **serie2**, dando prioridad a los valores de **serie1**. Si un valor es nulo en **serie1**, se utiliza el valor correspondiente de **serie2**."
      ],
      "metadata": {
        "id": "_ovHumGrAzeM"
      }
    },
    {
      "cell_type": "markdown",
      "source": [
        "14. **Metodo sort_index() - Ordenamiento por Etiquetas de Índice:**"
      ],
      "metadata": {
        "id": "nieHmZY6Az6B"
      }
    },
    {
      "cell_type": "code",
      "source": [
        "# Crear una Serie desordenada\n",
        "serie_desordenada = pd.Series([4, 2, 3, 1], index=['B', 'A', 'D', 'C'])\n",
        "\n",
        "# Ordenar la Serie por etiquetas de índice\n",
        "serie_ordenada = serie_desordenada.sort_index()\n",
        "print(\"Serie ordenada por etiquetas de índice:\\n\", serie_ordenada)"
      ],
      "metadata": {
        "colab": {
          "base_uri": "https://localhost:8080/"
        },
        "id": "_S_9xvwYA0RI",
        "outputId": "3527dc3b-9587-49fb-80fd-680a14756b7e"
      },
      "execution_count": 180,
      "outputs": [
        {
          "output_type": "stream",
          "name": "stdout",
          "text": [
            "Serie ordenada por etiquetas de índice:\n",
            " A    2\n",
            "B    4\n",
            "C    1\n",
            "D    3\n",
            "dtype: int64\n"
          ]
        }
      ]
    },
    {
      "cell_type": "markdown",
      "source": [
        "En este ejemplo, utilizamos **sort_index()** para ordenar la Serie **serie_desordenada** por las etiquetas de índice en orden alfabético."
      ],
      "metadata": {
        "id": "LTbogQgXA0iw"
      }
    },
    {
      "cell_type": "markdown",
      "source": [
        "14. **Metodo sort_values() - Ordenamiento por Valores:**"
      ],
      "metadata": {
        "id": "UKNeAhbCA1FZ"
      }
    },
    {
      "cell_type": "code",
      "source": [
        "# Crear una Serie desordenada\n",
        "serie_desordenada = pd.Series([4, 2, 3, 1], index=['A', 'B', 'C', 'D'])\n",
        "\n",
        "# Ordenar la Serie por valores en orden ascendente\n",
        "serie_ordenada = serie_desordenada.sort_values()\n",
        "print(\"Serie ordenada por valores en orden ascendente:\\n\", serie_ordenada)\n"
      ],
      "metadata": {
        "colab": {
          "base_uri": "https://localhost:8080/"
        },
        "id": "P1i80AnqBXKT",
        "outputId": "e1b48f19-e571-4b23-f7cd-0411229970bd"
      },
      "execution_count": 181,
      "outputs": [
        {
          "output_type": "stream",
          "name": "stdout",
          "text": [
            "Serie ordenada por valores en orden ascendente:\n",
            " D    1\n",
            "B    2\n",
            "C    3\n",
            "A    4\n",
            "dtype: int64\n"
          ]
        }
      ]
    },
    {
      "cell_type": "markdown",
      "source": [
        "En este ejemplo, utilizamos **sort_values()** para ordenar la Serie **serie_desordenada** por sus valores en orden ascendente."
      ],
      "metadata": {
        "id": "XFxqBDzLBXdT"
      }
    },
    {
      "cell_type": "markdown",
      "source": [
        "# **4. DataFrames**"
      ],
      "metadata": {
        "id": "TLCO5Qw0KZzK"
      }
    },
    {
      "cell_type": "markdown",
      "source": [
        "Un DataFrame es una estructura de datos bidimensional en Pandas que se asemeja a una tabla de base de datos o una hoja de cálculo. Los DataFrames constan de filas y columnas, donde cada columna puede contener diferentes tipos de datos. Son especialmente útiles para trabajar con datos tabulares, como datos de ventas, información de clientes o registros de experimentos."
      ],
      "metadata": {
        "id": "-_bkvehRKjJ2"
      }
    },
    {
      "cell_type": "markdown",
      "source": [
        "**4.1. Creacion de DataFrames**"
      ],
      "metadata": {
        "id": "ADBK_EAsK5Ij"
      }
    },
    {
      "cell_type": "markdown",
      "source": [
        "Puedes crear DataFrames de diversas formas, como cargar datos desde archivos CSV, Excel, bases de datos SQL o incluso crearlos manualmente. Algunas de las formas comunes de crear DataFrames incluyen:"
      ],
      "metadata": {
        "id": "14k3n9irK_MK"
      }
    },
    {
      "cell_type": "markdown",
      "source": [
        "* **pd.read_csv():** Importa datos desde un archivo CSV.\n",
        "* **pd.DataFrame():** Crea un DataFrame a partir de listas, diccionarios o arreglos de NumPy.\n"
      ],
      "metadata": {
        "id": "x9Haf72PLE3K"
      }
    },
    {
      "cell_type": "markdown",
      "source": [
        "**pd.read_csv()**"
      ],
      "metadata": {
        "id": "FQB6bCfoMHo4"
      }
    },
    {
      "cell_type": "code",
      "source": [
        "# Cargar un conjunto de datos desde un archivo CSV ('db.csv')\n",
        "# - 'sep = ;' especifica que el separador en el archivo CSV es el punto y coma (';').\n",
        "# - 'index_col=0' establece la primera columna (columna 0) como el índice del DataFrame.\n",
        "dataset = pd.read_csv('db.csv', sep=';', index_col=0)\n",
        "\n",
        "# Mostrar el DataFrame resultante\n",
        "dataset\n"
      ],
      "metadata": {
        "colab": {
          "base_uri": "https://localhost:8080/",
          "height": 629
        },
        "id": "jGlBgbERL835",
        "outputId": "44a0aeb5-dd31-47a6-abe2-693a5ed0b2d3"
      },
      "execution_count": 186,
      "outputs": [
        {
          "output_type": "execute_result",
          "data": {
            "text/plain": [
              "                                       Motor   Año  Kilometraje  Cero_km  \\\n",
              "Nombre                                                                     \n",
              "Jetta Variant                Motor 4.0 Turbo  2003      44410.0    False   \n",
              "Passat                          Motor Diesel  1991       5712.0    False   \n",
              "Crossfox                     Motor Diesel V8  1990      37123.0    False   \n",
              "DS5                          Motor 2.4 Turbo  2019          NaN     True   \n",
              "Aston Martin DB4             Motor 2.4 Turbo  2006      25757.0    False   \n",
              "...                                      ...   ...          ...      ...   \n",
              "Phantom 2013                        Motor V8  2014      27505.0    False   \n",
              "Cadillac Ciel concept               Motor V8  1991      29981.0    False   \n",
              "Classe GLK             Motor 5.0 V8 Bi-Turbo  2002      52637.0    False   \n",
              "Aston Martin DB5                Motor Diesel  1996       7685.0    False   \n",
              "Macan                        Motor Diesel V6  1992      50188.0    False   \n",
              "\n",
              "                                                              Accesorios  \\\n",
              "Nombre                                                                     \n",
              "Jetta Variant          ['Llantas de aleación', 'Cerraduras electricas...   \n",
              "Passat                 ['Central multimedia', 'Techo panorámico', 'Fr...   \n",
              "Crossfox               ['Piloto automático', 'Control de estabilidad'...   \n",
              "DS5                    ['Cerraduras electricas', '4 X 4', 'Ventanas e...   \n",
              "Aston Martin DB4       ['Llantas de aleación', '4 X 4', 'Central mult...   \n",
              "...                                                                  ...   \n",
              "Phantom 2013           ['Control de estabilidad', 'Piloto automático'...   \n",
              "Cadillac Ciel concept  ['Asientos de cuero', 'Panel digital', 'Sensor...   \n",
              "Classe GLK             ['Llantas de aleación', 'Control de tracción',...   \n",
              "Aston Martin DB5       ['Aire condicionado', '4 X 4', 'Transmisión au...   \n",
              "Macan                  ['Central multimedia', 'Techo panorámico', 'Ve...   \n",
              "\n",
              "                           Valor  \n",
              "Nombre                            \n",
              "Jetta Variant           88078.64  \n",
              "Passat                 106161.94  \n",
              "Crossfox                72832.16  \n",
              "DS5                    124549.07  \n",
              "Aston Martin DB4        92612.10  \n",
              "...                          ...  \n",
              "Phantom 2013            51759.58  \n",
              "Cadillac Ciel concept   51667.06  \n",
              "Classe GLK              68934.03  \n",
              "Aston Martin DB5       122110.90  \n",
              "Macan                   90381.47  \n",
              "\n",
              "[258 rows x 6 columns]"
            ],
            "text/html": [
              "\n",
              "  <div id=\"df-67429bac-a581-45ca-972c-5bedfa30193e\" class=\"colab-df-container\">\n",
              "    <div>\n",
              "<style scoped>\n",
              "    .dataframe tbody tr th:only-of-type {\n",
              "        vertical-align: middle;\n",
              "    }\n",
              "\n",
              "    .dataframe tbody tr th {\n",
              "        vertical-align: top;\n",
              "    }\n",
              "\n",
              "    .dataframe thead th {\n",
              "        text-align: right;\n",
              "    }\n",
              "</style>\n",
              "<table border=\"1\" class=\"dataframe\">\n",
              "  <thead>\n",
              "    <tr style=\"text-align: right;\">\n",
              "      <th></th>\n",
              "      <th>Motor</th>\n",
              "      <th>Año</th>\n",
              "      <th>Kilometraje</th>\n",
              "      <th>Cero_km</th>\n",
              "      <th>Accesorios</th>\n",
              "      <th>Valor</th>\n",
              "    </tr>\n",
              "    <tr>\n",
              "      <th>Nombre</th>\n",
              "      <th></th>\n",
              "      <th></th>\n",
              "      <th></th>\n",
              "      <th></th>\n",
              "      <th></th>\n",
              "      <th></th>\n",
              "    </tr>\n",
              "  </thead>\n",
              "  <tbody>\n",
              "    <tr>\n",
              "      <th>Jetta Variant</th>\n",
              "      <td>Motor 4.0 Turbo</td>\n",
              "      <td>2003</td>\n",
              "      <td>44410.0</td>\n",
              "      <td>False</td>\n",
              "      <td>['Llantas de aleación', 'Cerraduras electricas...</td>\n",
              "      <td>88078.64</td>\n",
              "    </tr>\n",
              "    <tr>\n",
              "      <th>Passat</th>\n",
              "      <td>Motor Diesel</td>\n",
              "      <td>1991</td>\n",
              "      <td>5712.0</td>\n",
              "      <td>False</td>\n",
              "      <td>['Central multimedia', 'Techo panorámico', 'Fr...</td>\n",
              "      <td>106161.94</td>\n",
              "    </tr>\n",
              "    <tr>\n",
              "      <th>Crossfox</th>\n",
              "      <td>Motor Diesel V8</td>\n",
              "      <td>1990</td>\n",
              "      <td>37123.0</td>\n",
              "      <td>False</td>\n",
              "      <td>['Piloto automático', 'Control de estabilidad'...</td>\n",
              "      <td>72832.16</td>\n",
              "    </tr>\n",
              "    <tr>\n",
              "      <th>DS5</th>\n",
              "      <td>Motor 2.4 Turbo</td>\n",
              "      <td>2019</td>\n",
              "      <td>NaN</td>\n",
              "      <td>True</td>\n",
              "      <td>['Cerraduras electricas', '4 X 4', 'Ventanas e...</td>\n",
              "      <td>124549.07</td>\n",
              "    </tr>\n",
              "    <tr>\n",
              "      <th>Aston Martin DB4</th>\n",
              "      <td>Motor 2.4 Turbo</td>\n",
              "      <td>2006</td>\n",
              "      <td>25757.0</td>\n",
              "      <td>False</td>\n",
              "      <td>['Llantas de aleación', '4 X 4', 'Central mult...</td>\n",
              "      <td>92612.10</td>\n",
              "    </tr>\n",
              "    <tr>\n",
              "      <th>...</th>\n",
              "      <td>...</td>\n",
              "      <td>...</td>\n",
              "      <td>...</td>\n",
              "      <td>...</td>\n",
              "      <td>...</td>\n",
              "      <td>...</td>\n",
              "    </tr>\n",
              "    <tr>\n",
              "      <th>Phantom 2013</th>\n",
              "      <td>Motor V8</td>\n",
              "      <td>2014</td>\n",
              "      <td>27505.0</td>\n",
              "      <td>False</td>\n",
              "      <td>['Control de estabilidad', 'Piloto automático'...</td>\n",
              "      <td>51759.58</td>\n",
              "    </tr>\n",
              "    <tr>\n",
              "      <th>Cadillac Ciel concept</th>\n",
              "      <td>Motor V8</td>\n",
              "      <td>1991</td>\n",
              "      <td>29981.0</td>\n",
              "      <td>False</td>\n",
              "      <td>['Asientos de cuero', 'Panel digital', 'Sensor...</td>\n",
              "      <td>51667.06</td>\n",
              "    </tr>\n",
              "    <tr>\n",
              "      <th>Classe GLK</th>\n",
              "      <td>Motor 5.0 V8 Bi-Turbo</td>\n",
              "      <td>2002</td>\n",
              "      <td>52637.0</td>\n",
              "      <td>False</td>\n",
              "      <td>['Llantas de aleación', 'Control de tracción',...</td>\n",
              "      <td>68934.03</td>\n",
              "    </tr>\n",
              "    <tr>\n",
              "      <th>Aston Martin DB5</th>\n",
              "      <td>Motor Diesel</td>\n",
              "      <td>1996</td>\n",
              "      <td>7685.0</td>\n",
              "      <td>False</td>\n",
              "      <td>['Aire condicionado', '4 X 4', 'Transmisión au...</td>\n",
              "      <td>122110.90</td>\n",
              "    </tr>\n",
              "    <tr>\n",
              "      <th>Macan</th>\n",
              "      <td>Motor Diesel V6</td>\n",
              "      <td>1992</td>\n",
              "      <td>50188.0</td>\n",
              "      <td>False</td>\n",
              "      <td>['Central multimedia', 'Techo panorámico', 'Ve...</td>\n",
              "      <td>90381.47</td>\n",
              "    </tr>\n",
              "  </tbody>\n",
              "</table>\n",
              "<p>258 rows × 6 columns</p>\n",
              "</div>\n",
              "    <div class=\"colab-df-buttons\">\n",
              "\n",
              "  <div class=\"colab-df-container\">\n",
              "    <button class=\"colab-df-convert\" onclick=\"convertToInteractive('df-67429bac-a581-45ca-972c-5bedfa30193e')\"\n",
              "            title=\"Convert this dataframe to an interactive table.\"\n",
              "            style=\"display:none;\">\n",
              "\n",
              "  <svg xmlns=\"http://www.w3.org/2000/svg\" height=\"24px\" viewBox=\"0 -960 960 960\">\n",
              "    <path d=\"M120-120v-720h720v720H120Zm60-500h600v-160H180v160Zm220 220h160v-160H400v160Zm0 220h160v-160H400v160ZM180-400h160v-160H180v160Zm440 0h160v-160H620v160ZM180-180h160v-160H180v160Zm440 0h160v-160H620v160Z\"/>\n",
              "  </svg>\n",
              "    </button>\n",
              "\n",
              "  <style>\n",
              "    .colab-df-container {\n",
              "      display:flex;\n",
              "      gap: 12px;\n",
              "    }\n",
              "\n",
              "    .colab-df-convert {\n",
              "      background-color: #E8F0FE;\n",
              "      border: none;\n",
              "      border-radius: 50%;\n",
              "      cursor: pointer;\n",
              "      display: none;\n",
              "      fill: #1967D2;\n",
              "      height: 32px;\n",
              "      padding: 0 0 0 0;\n",
              "      width: 32px;\n",
              "    }\n",
              "\n",
              "    .colab-df-convert:hover {\n",
              "      background-color: #E2EBFA;\n",
              "      box-shadow: 0px 1px 2px rgba(60, 64, 67, 0.3), 0px 1px 3px 1px rgba(60, 64, 67, 0.15);\n",
              "      fill: #174EA6;\n",
              "    }\n",
              "\n",
              "    .colab-df-buttons div {\n",
              "      margin-bottom: 4px;\n",
              "    }\n",
              "\n",
              "    [theme=dark] .colab-df-convert {\n",
              "      background-color: #3B4455;\n",
              "      fill: #D2E3FC;\n",
              "    }\n",
              "\n",
              "    [theme=dark] .colab-df-convert:hover {\n",
              "      background-color: #434B5C;\n",
              "      box-shadow: 0px 1px 3px 1px rgba(0, 0, 0, 0.15);\n",
              "      filter: drop-shadow(0px 1px 2px rgba(0, 0, 0, 0.3));\n",
              "      fill: #FFFFFF;\n",
              "    }\n",
              "  </style>\n",
              "\n",
              "    <script>\n",
              "      const buttonEl =\n",
              "        document.querySelector('#df-67429bac-a581-45ca-972c-5bedfa30193e button.colab-df-convert');\n",
              "      buttonEl.style.display =\n",
              "        google.colab.kernel.accessAllowed ? 'block' : 'none';\n",
              "\n",
              "      async function convertToInteractive(key) {\n",
              "        const element = document.querySelector('#df-67429bac-a581-45ca-972c-5bedfa30193e');\n",
              "        const dataTable =\n",
              "          await google.colab.kernel.invokeFunction('convertToInteractive',\n",
              "                                                    [key], {});\n",
              "        if (!dataTable) return;\n",
              "\n",
              "        const docLinkHtml = 'Like what you see? Visit the ' +\n",
              "          '<a target=\"_blank\" href=https://colab.research.google.com/notebooks/data_table.ipynb>data table notebook</a>'\n",
              "          + ' to learn more about interactive tables.';\n",
              "        element.innerHTML = '';\n",
              "        dataTable['output_type'] = 'display_data';\n",
              "        await google.colab.output.renderOutput(dataTable, element);\n",
              "        const docLink = document.createElement('div');\n",
              "        docLink.innerHTML = docLinkHtml;\n",
              "        element.appendChild(docLink);\n",
              "      }\n",
              "    </script>\n",
              "  </div>\n",
              "\n",
              "\n",
              "<div id=\"df-77b22e38-92f5-4133-af2c-97fb50aecaf6\">\n",
              "  <button class=\"colab-df-quickchart\" onclick=\"quickchart('df-77b22e38-92f5-4133-af2c-97fb50aecaf6')\"\n",
              "            title=\"Suggest charts.\"\n",
              "            style=\"display:none;\">\n",
              "\n",
              "<svg xmlns=\"http://www.w3.org/2000/svg\" height=\"24px\"viewBox=\"0 0 24 24\"\n",
              "     width=\"24px\">\n",
              "    <g>\n",
              "        <path d=\"M19 3H5c-1.1 0-2 .9-2 2v14c0 1.1.9 2 2 2h14c1.1 0 2-.9 2-2V5c0-1.1-.9-2-2-2zM9 17H7v-7h2v7zm4 0h-2V7h2v10zm4 0h-2v-4h2v4z\"/>\n",
              "    </g>\n",
              "</svg>\n",
              "  </button>\n",
              "\n",
              "<style>\n",
              "  .colab-df-quickchart {\n",
              "      --bg-color: #E8F0FE;\n",
              "      --fill-color: #1967D2;\n",
              "      --hover-bg-color: #E2EBFA;\n",
              "      --hover-fill-color: #174EA6;\n",
              "      --disabled-fill-color: #AAA;\n",
              "      --disabled-bg-color: #DDD;\n",
              "  }\n",
              "\n",
              "  [theme=dark] .colab-df-quickchart {\n",
              "      --bg-color: #3B4455;\n",
              "      --fill-color: #D2E3FC;\n",
              "      --hover-bg-color: #434B5C;\n",
              "      --hover-fill-color: #FFFFFF;\n",
              "      --disabled-bg-color: #3B4455;\n",
              "      --disabled-fill-color: #666;\n",
              "  }\n",
              "\n",
              "  .colab-df-quickchart {\n",
              "    background-color: var(--bg-color);\n",
              "    border: none;\n",
              "    border-radius: 50%;\n",
              "    cursor: pointer;\n",
              "    display: none;\n",
              "    fill: var(--fill-color);\n",
              "    height: 32px;\n",
              "    padding: 0;\n",
              "    width: 32px;\n",
              "  }\n",
              "\n",
              "  .colab-df-quickchart:hover {\n",
              "    background-color: var(--hover-bg-color);\n",
              "    box-shadow: 0 1px 2px rgba(60, 64, 67, 0.3), 0 1px 3px 1px rgba(60, 64, 67, 0.15);\n",
              "    fill: var(--button-hover-fill-color);\n",
              "  }\n",
              "\n",
              "  .colab-df-quickchart-complete:disabled,\n",
              "  .colab-df-quickchart-complete:disabled:hover {\n",
              "    background-color: var(--disabled-bg-color);\n",
              "    fill: var(--disabled-fill-color);\n",
              "    box-shadow: none;\n",
              "  }\n",
              "\n",
              "  .colab-df-spinner {\n",
              "    border: 2px solid var(--fill-color);\n",
              "    border-color: transparent;\n",
              "    border-bottom-color: var(--fill-color);\n",
              "    animation:\n",
              "      spin 1s steps(1) infinite;\n",
              "  }\n",
              "\n",
              "  @keyframes spin {\n",
              "    0% {\n",
              "      border-color: transparent;\n",
              "      border-bottom-color: var(--fill-color);\n",
              "      border-left-color: var(--fill-color);\n",
              "    }\n",
              "    20% {\n",
              "      border-color: transparent;\n",
              "      border-left-color: var(--fill-color);\n",
              "      border-top-color: var(--fill-color);\n",
              "    }\n",
              "    30% {\n",
              "      border-color: transparent;\n",
              "      border-left-color: var(--fill-color);\n",
              "      border-top-color: var(--fill-color);\n",
              "      border-right-color: var(--fill-color);\n",
              "    }\n",
              "    40% {\n",
              "      border-color: transparent;\n",
              "      border-right-color: var(--fill-color);\n",
              "      border-top-color: var(--fill-color);\n",
              "    }\n",
              "    60% {\n",
              "      border-color: transparent;\n",
              "      border-right-color: var(--fill-color);\n",
              "    }\n",
              "    80% {\n",
              "      border-color: transparent;\n",
              "      border-right-color: var(--fill-color);\n",
              "      border-bottom-color: var(--fill-color);\n",
              "    }\n",
              "    90% {\n",
              "      border-color: transparent;\n",
              "      border-bottom-color: var(--fill-color);\n",
              "    }\n",
              "  }\n",
              "</style>\n",
              "\n",
              "  <script>\n",
              "    async function quickchart(key) {\n",
              "      const quickchartButtonEl =\n",
              "        document.querySelector('#' + key + ' button');\n",
              "      quickchartButtonEl.disabled = true;  // To prevent multiple clicks.\n",
              "      quickchartButtonEl.classList.add('colab-df-spinner');\n",
              "      try {\n",
              "        const charts = await google.colab.kernel.invokeFunction(\n",
              "            'suggestCharts', [key], {});\n",
              "      } catch (error) {\n",
              "        console.error('Error during call to suggestCharts:', error);\n",
              "      }\n",
              "      quickchartButtonEl.classList.remove('colab-df-spinner');\n",
              "      quickchartButtonEl.classList.add('colab-df-quickchart-complete');\n",
              "    }\n",
              "    (() => {\n",
              "      let quickchartButtonEl =\n",
              "        document.querySelector('#df-77b22e38-92f5-4133-af2c-97fb50aecaf6 button');\n",
              "      quickchartButtonEl.style.display =\n",
              "        google.colab.kernel.accessAllowed ? 'block' : 'none';\n",
              "    })();\n",
              "  </script>\n",
              "</div>\n",
              "    </div>\n",
              "  </div>\n"
            ]
          },
          "metadata": {},
          "execution_count": 186
        }
      ]
    },
    {
      "cell_type": "markdown",
      "source": [
        "**pd.DataFrame()**"
      ],
      "metadata": {
        "id": "UltG2R4jLTg_"
      }
    },
    {
      "cell_type": "code",
      "source": [
        "# Crear un diccionario de datos\n",
        "data = {\n",
        "    'Nombre': ['Juan', 'Ana', 'Carlos', 'Luis'],\n",
        "    'Edad': [25, 30, 35, 28],\n",
        "    'Ciudad': ['Madrid', 'Barcelona', 'Valencia', 'Sevilla']\n",
        "}\n",
        "\n",
        "# Crear un DataFrame a partir del diccionario\n",
        "df = pd.DataFrame(data)\n",
        "\n",
        "# Mostrar el DataFrame resultante\n",
        "df"
      ],
      "metadata": {
        "colab": {
          "base_uri": "https://localhost:8080/",
          "height": 175
        },
        "id": "NWheOUwiK_n0",
        "outputId": "af03f773-5edb-49c8-f576-2130ecb34ab9"
      },
      "execution_count": 182,
      "outputs": [
        {
          "output_type": "execute_result",
          "data": {
            "text/plain": [
              "   Nombre  Edad     Ciudad\n",
              "0    Juan    25     Madrid\n",
              "1     Ana    30  Barcelona\n",
              "2  Carlos    35   Valencia\n",
              "3    Luis    28    Sevilla"
            ],
            "text/html": [
              "\n",
              "  <div id=\"df-d0acd608-f0dc-4e29-80da-3d8a33416437\" class=\"colab-df-container\">\n",
              "    <div>\n",
              "<style scoped>\n",
              "    .dataframe tbody tr th:only-of-type {\n",
              "        vertical-align: middle;\n",
              "    }\n",
              "\n",
              "    .dataframe tbody tr th {\n",
              "        vertical-align: top;\n",
              "    }\n",
              "\n",
              "    .dataframe thead th {\n",
              "        text-align: right;\n",
              "    }\n",
              "</style>\n",
              "<table border=\"1\" class=\"dataframe\">\n",
              "  <thead>\n",
              "    <tr style=\"text-align: right;\">\n",
              "      <th></th>\n",
              "      <th>Nombre</th>\n",
              "      <th>Edad</th>\n",
              "      <th>Ciudad</th>\n",
              "    </tr>\n",
              "  </thead>\n",
              "  <tbody>\n",
              "    <tr>\n",
              "      <th>0</th>\n",
              "      <td>Juan</td>\n",
              "      <td>25</td>\n",
              "      <td>Madrid</td>\n",
              "    </tr>\n",
              "    <tr>\n",
              "      <th>1</th>\n",
              "      <td>Ana</td>\n",
              "      <td>30</td>\n",
              "      <td>Barcelona</td>\n",
              "    </tr>\n",
              "    <tr>\n",
              "      <th>2</th>\n",
              "      <td>Carlos</td>\n",
              "      <td>35</td>\n",
              "      <td>Valencia</td>\n",
              "    </tr>\n",
              "    <tr>\n",
              "      <th>3</th>\n",
              "      <td>Luis</td>\n",
              "      <td>28</td>\n",
              "      <td>Sevilla</td>\n",
              "    </tr>\n",
              "  </tbody>\n",
              "</table>\n",
              "</div>\n",
              "    <div class=\"colab-df-buttons\">\n",
              "\n",
              "  <div class=\"colab-df-container\">\n",
              "    <button class=\"colab-df-convert\" onclick=\"convertToInteractive('df-d0acd608-f0dc-4e29-80da-3d8a33416437')\"\n",
              "            title=\"Convert this dataframe to an interactive table.\"\n",
              "            style=\"display:none;\">\n",
              "\n",
              "  <svg xmlns=\"http://www.w3.org/2000/svg\" height=\"24px\" viewBox=\"0 -960 960 960\">\n",
              "    <path d=\"M120-120v-720h720v720H120Zm60-500h600v-160H180v160Zm220 220h160v-160H400v160Zm0 220h160v-160H400v160ZM180-400h160v-160H180v160Zm440 0h160v-160H620v160ZM180-180h160v-160H180v160Zm440 0h160v-160H620v160Z\"/>\n",
              "  </svg>\n",
              "    </button>\n",
              "\n",
              "  <style>\n",
              "    .colab-df-container {\n",
              "      display:flex;\n",
              "      gap: 12px;\n",
              "    }\n",
              "\n",
              "    .colab-df-convert {\n",
              "      background-color: #E8F0FE;\n",
              "      border: none;\n",
              "      border-radius: 50%;\n",
              "      cursor: pointer;\n",
              "      display: none;\n",
              "      fill: #1967D2;\n",
              "      height: 32px;\n",
              "      padding: 0 0 0 0;\n",
              "      width: 32px;\n",
              "    }\n",
              "\n",
              "    .colab-df-convert:hover {\n",
              "      background-color: #E2EBFA;\n",
              "      box-shadow: 0px 1px 2px rgba(60, 64, 67, 0.3), 0px 1px 3px 1px rgba(60, 64, 67, 0.15);\n",
              "      fill: #174EA6;\n",
              "    }\n",
              "\n",
              "    .colab-df-buttons div {\n",
              "      margin-bottom: 4px;\n",
              "    }\n",
              "\n",
              "    [theme=dark] .colab-df-convert {\n",
              "      background-color: #3B4455;\n",
              "      fill: #D2E3FC;\n",
              "    }\n",
              "\n",
              "    [theme=dark] .colab-df-convert:hover {\n",
              "      background-color: #434B5C;\n",
              "      box-shadow: 0px 1px 3px 1px rgba(0, 0, 0, 0.15);\n",
              "      filter: drop-shadow(0px 1px 2px rgba(0, 0, 0, 0.3));\n",
              "      fill: #FFFFFF;\n",
              "    }\n",
              "  </style>\n",
              "\n",
              "    <script>\n",
              "      const buttonEl =\n",
              "        document.querySelector('#df-d0acd608-f0dc-4e29-80da-3d8a33416437 button.colab-df-convert');\n",
              "      buttonEl.style.display =\n",
              "        google.colab.kernel.accessAllowed ? 'block' : 'none';\n",
              "\n",
              "      async function convertToInteractive(key) {\n",
              "        const element = document.querySelector('#df-d0acd608-f0dc-4e29-80da-3d8a33416437');\n",
              "        const dataTable =\n",
              "          await google.colab.kernel.invokeFunction('convertToInteractive',\n",
              "                                                    [key], {});\n",
              "        if (!dataTable) return;\n",
              "\n",
              "        const docLinkHtml = 'Like what you see? Visit the ' +\n",
              "          '<a target=\"_blank\" href=https://colab.research.google.com/notebooks/data_table.ipynb>data table notebook</a>'\n",
              "          + ' to learn more about interactive tables.';\n",
              "        element.innerHTML = '';\n",
              "        dataTable['output_type'] = 'display_data';\n",
              "        await google.colab.output.renderOutput(dataTable, element);\n",
              "        const docLink = document.createElement('div');\n",
              "        docLink.innerHTML = docLinkHtml;\n",
              "        element.appendChild(docLink);\n",
              "      }\n",
              "    </script>\n",
              "  </div>\n",
              "\n",
              "\n",
              "<div id=\"df-33afc880-d5ff-4a17-91c2-d19cac258d87\">\n",
              "  <button class=\"colab-df-quickchart\" onclick=\"quickchart('df-33afc880-d5ff-4a17-91c2-d19cac258d87')\"\n",
              "            title=\"Suggest charts.\"\n",
              "            style=\"display:none;\">\n",
              "\n",
              "<svg xmlns=\"http://www.w3.org/2000/svg\" height=\"24px\"viewBox=\"0 0 24 24\"\n",
              "     width=\"24px\">\n",
              "    <g>\n",
              "        <path d=\"M19 3H5c-1.1 0-2 .9-2 2v14c0 1.1.9 2 2 2h14c1.1 0 2-.9 2-2V5c0-1.1-.9-2-2-2zM9 17H7v-7h2v7zm4 0h-2V7h2v10zm4 0h-2v-4h2v4z\"/>\n",
              "    </g>\n",
              "</svg>\n",
              "  </button>\n",
              "\n",
              "<style>\n",
              "  .colab-df-quickchart {\n",
              "      --bg-color: #E8F0FE;\n",
              "      --fill-color: #1967D2;\n",
              "      --hover-bg-color: #E2EBFA;\n",
              "      --hover-fill-color: #174EA6;\n",
              "      --disabled-fill-color: #AAA;\n",
              "      --disabled-bg-color: #DDD;\n",
              "  }\n",
              "\n",
              "  [theme=dark] .colab-df-quickchart {\n",
              "      --bg-color: #3B4455;\n",
              "      --fill-color: #D2E3FC;\n",
              "      --hover-bg-color: #434B5C;\n",
              "      --hover-fill-color: #FFFFFF;\n",
              "      --disabled-bg-color: #3B4455;\n",
              "      --disabled-fill-color: #666;\n",
              "  }\n",
              "\n",
              "  .colab-df-quickchart {\n",
              "    background-color: var(--bg-color);\n",
              "    border: none;\n",
              "    border-radius: 50%;\n",
              "    cursor: pointer;\n",
              "    display: none;\n",
              "    fill: var(--fill-color);\n",
              "    height: 32px;\n",
              "    padding: 0;\n",
              "    width: 32px;\n",
              "  }\n",
              "\n",
              "  .colab-df-quickchart:hover {\n",
              "    background-color: var(--hover-bg-color);\n",
              "    box-shadow: 0 1px 2px rgba(60, 64, 67, 0.3), 0 1px 3px 1px rgba(60, 64, 67, 0.15);\n",
              "    fill: var(--button-hover-fill-color);\n",
              "  }\n",
              "\n",
              "  .colab-df-quickchart-complete:disabled,\n",
              "  .colab-df-quickchart-complete:disabled:hover {\n",
              "    background-color: var(--disabled-bg-color);\n",
              "    fill: var(--disabled-fill-color);\n",
              "    box-shadow: none;\n",
              "  }\n",
              "\n",
              "  .colab-df-spinner {\n",
              "    border: 2px solid var(--fill-color);\n",
              "    border-color: transparent;\n",
              "    border-bottom-color: var(--fill-color);\n",
              "    animation:\n",
              "      spin 1s steps(1) infinite;\n",
              "  }\n",
              "\n",
              "  @keyframes spin {\n",
              "    0% {\n",
              "      border-color: transparent;\n",
              "      border-bottom-color: var(--fill-color);\n",
              "      border-left-color: var(--fill-color);\n",
              "    }\n",
              "    20% {\n",
              "      border-color: transparent;\n",
              "      border-left-color: var(--fill-color);\n",
              "      border-top-color: var(--fill-color);\n",
              "    }\n",
              "    30% {\n",
              "      border-color: transparent;\n",
              "      border-left-color: var(--fill-color);\n",
              "      border-top-color: var(--fill-color);\n",
              "      border-right-color: var(--fill-color);\n",
              "    }\n",
              "    40% {\n",
              "      border-color: transparent;\n",
              "      border-right-color: var(--fill-color);\n",
              "      border-top-color: var(--fill-color);\n",
              "    }\n",
              "    60% {\n",
              "      border-color: transparent;\n",
              "      border-right-color: var(--fill-color);\n",
              "    }\n",
              "    80% {\n",
              "      border-color: transparent;\n",
              "      border-right-color: var(--fill-color);\n",
              "      border-bottom-color: var(--fill-color);\n",
              "    }\n",
              "    90% {\n",
              "      border-color: transparent;\n",
              "      border-bottom-color: var(--fill-color);\n",
              "    }\n",
              "  }\n",
              "</style>\n",
              "\n",
              "  <script>\n",
              "    async function quickchart(key) {\n",
              "      const quickchartButtonEl =\n",
              "        document.querySelector('#' + key + ' button');\n",
              "      quickchartButtonEl.disabled = true;  // To prevent multiple clicks.\n",
              "      quickchartButtonEl.classList.add('colab-df-spinner');\n",
              "      try {\n",
              "        const charts = await google.colab.kernel.invokeFunction(\n",
              "            'suggestCharts', [key], {});\n",
              "      } catch (error) {\n",
              "        console.error('Error during call to suggestCharts:', error);\n",
              "      }\n",
              "      quickchartButtonEl.classList.remove('colab-df-spinner');\n",
              "      quickchartButtonEl.classList.add('colab-df-quickchart-complete');\n",
              "    }\n",
              "    (() => {\n",
              "      let quickchartButtonEl =\n",
              "        document.querySelector('#df-33afc880-d5ff-4a17-91c2-d19cac258d87 button');\n",
              "      quickchartButtonEl.style.display =\n",
              "        google.colab.kernel.accessAllowed ? 'block' : 'none';\n",
              "    })();\n",
              "  </script>\n",
              "</div>\n",
              "    </div>\n",
              "  </div>\n"
            ]
          },
          "metadata": {},
          "execution_count": 182
        }
      ]
    },
    {
      "cell_type": "code",
      "source": [],
      "metadata": {
        "id": "wPli3zHDK5t0"
      },
      "execution_count": null,
      "outputs": []
    },
    {
      "cell_type": "code",
      "source": [],
      "metadata": {
        "id": "f7p4Uw15Kjl0"
      },
      "execution_count": null,
      "outputs": []
    }
  ]
}